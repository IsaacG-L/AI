{
 "cells": [
  {
   "cell_type": "code",
   "execution_count": 104,
   "id": "1ae249d1",
   "metadata": {},
   "outputs": [],
   "source": [
    "import pandas as pd\n",
    "import seaborn as sns\n",
    "import requests\n",
    "\n",
    "import matplotlib.pyplot as plt\n",
    "from scipy.stats import pearsonr\n",
    "df = pd.read_json(\"gme.json\")\n",
    "tesla = pd.read_json(\"tsla.json\")\n",
    "musk = pd.read_json(\"musk.json\")\n",
    "import numpy as np"
   ]
  },
  {
   "cell_type": "code",
   "execution_count": 2,
   "id": "b9516b82",
   "metadata": {},
   "outputs": [
    {
     "name": "stdout",
     "output_type": "stream",
     "text": [
      "<class 'pandas.core.frame.DataFrame'>\n",
      "RangeIndex: 5600 entries, 0 to 5599\n",
      "Data columns (total 7 columns):\n",
      " #   Column     Non-Null Count  Dtype         \n",
      "---  ------     --------------  -----         \n",
      " 0   Date       5600 non-null   datetime64[ns]\n",
      " 1   Open       5600 non-null   float64       \n",
      " 2   High       5600 non-null   float64       \n",
      " 3   Low        5600 non-null   float64       \n",
      " 4   Close      5600 non-null   float64       \n",
      " 5   Adj Close  5600 non-null   float64       \n",
      " 6   Volume     5600 non-null   int64         \n",
      "dtypes: datetime64[ns](1), float64(5), int64(1)\n",
      "memory usage: 306.4 KB\n"
     ]
    }
   ],
   "source": [
    "df.info()"
   ]
  },
  {
   "cell_type": "markdown",
   "id": "2e6c2ed6",
   "metadata": {},
   "source": [
    "#### The variables found on this dataset  is the \n",
    "Date- which was the date that the stock was watched, \n",
    "Open- This was the price when the market opened, \n",
    "High- the highest price it went for , \n",
    "Low - how low the price went for on a particular day, \n",
    "Close- how much it was sold when the market closed, \n",
    "Adj Close- The adjusted price of a stock when the market closes,\n",
    "Volume- The number of the stocks being traded in a single day."
   ]
  },
  {
   "cell_type": "code",
   "execution_count": 4,
   "id": "fd9ef722",
   "metadata": {},
   "outputs": [
    {
     "data": {
      "text/plain": [
       "120.75"
      ]
     },
     "execution_count": 4,
     "metadata": {},
     "output_type": "execute_result"
    }
   ],
   "source": [
    "df[\"High\"].max()"
   ]
  },
  {
   "cell_type": "code",
   "execution_count": 5,
   "id": "7f9ffae0",
   "metadata": {},
   "outputs": [
    {
     "data": {
      "text/html": [
       "<div>\n",
       "<style scoped>\n",
       "    .dataframe tbody tr th:only-of-type {\n",
       "        vertical-align: middle;\n",
       "    }\n",
       "\n",
       "    .dataframe tbody tr th {\n",
       "        vertical-align: top;\n",
       "    }\n",
       "\n",
       "    .dataframe thead th {\n",
       "        text-align: right;\n",
       "    }\n",
       "</style>\n",
       "<table border=\"1\" class=\"dataframe\">\n",
       "  <thead>\n",
       "    <tr style=\"text-align: right;\">\n",
       "      <th></th>\n",
       "      <th>Date</th>\n",
       "      <th>Open</th>\n",
       "      <th>High</th>\n",
       "      <th>Low</th>\n",
       "      <th>Close</th>\n",
       "      <th>Adj Close</th>\n",
       "      <th>Volume</th>\n",
       "    </tr>\n",
       "  </thead>\n",
       "  <tbody>\n",
       "    <tr>\n",
       "      <th>4772</th>\n",
       "      <td>2021-01-28</td>\n",
       "      <td>66.25</td>\n",
       "      <td>120.75</td>\n",
       "      <td>28.0625</td>\n",
       "      <td>48.400002</td>\n",
       "      <td>48.400002</td>\n",
       "      <td>235263200</td>\n",
       "    </tr>\n",
       "  </tbody>\n",
       "</table>\n",
       "</div>"
      ],
      "text/plain": [
       "           Date   Open    High      Low      Close  Adj Close     Volume\n",
       "4772 2021-01-28  66.25  120.75  28.0625  48.400002  48.400002  235263200"
      ]
     },
     "execution_count": 5,
     "metadata": {},
     "output_type": "execute_result"
    }
   ],
   "source": [
    "df[df[\"High\"] == 120.75]"
   ]
  },
  {
   "cell_type": "markdown",
   "id": "655b1d5c",
   "metadata": {},
   "source": [
    "### The date that GameStop reached an all time high was on 1/28/21(January 28, 2021)."
   ]
  },
  {
   "cell_type": "markdown",
   "id": "84999b3f",
   "metadata": {},
   "source": [
    "#### This was our attempt to find the average of each month"
   ]
  },
  {
   "cell_type": "code",
   "execution_count": 8,
   "id": "265b4921",
   "metadata": {},
   "outputs": [],
   "source": [
    "#df[\"Month\"] = df[\"Date\"].dt.month"
   ]
  },
  {
   "cell_type": "code",
   "execution_count": 9,
   "id": "c36e3109",
   "metadata": {},
   "outputs": [],
   "source": [
    "#jan = df[df[\"Month\"] == 1] feb = df[df[\"Month\"] == 2] mar = df[df[\"Month\"] == 3] apr = df[df[\"Month\"] == 4]\n",
    "#may = df[df[\"Month\"] == 5] jun = df[df[\"Month\"] == 6] jul = df[df[\"Month\"] == 7] aug = df[df[\"Month\"] == 8]\n",
    "#sep = df[df[\"Month\"] == 9] octo = df[df[\"Month\"] == 10] nov = df[df[\"Month\"] == 11] dec = df[df[\"Month\"] == 12]"
   ]
  },
  {
   "cell_type": "markdown",
   "id": "80813ae1",
   "metadata": {},
   "source": [
    "#### Teacher Live\n",
    "##### Note that we can also do \".year\" and \".day\" where the \".month\" is."
   ]
  },
  {
   "cell_type": "code",
   "execution_count": 11,
   "id": "f475390d",
   "metadata": {},
   "outputs": [
    {
     "data": {
      "text/plain": [
       "<attribute 'month' of 'datetime.date' objects>"
      ]
     },
     "execution_count": 11,
     "metadata": {},
     "output_type": "execute_result"
    }
   ],
   "source": [
    "type(df.loc[0][\"Date\"]).month"
   ]
  },
  {
   "cell_type": "code",
   "execution_count": 12,
   "id": "bde09fde",
   "metadata": {},
   "outputs": [
    {
     "data": {
      "text/plain": [
       "8.394146076404493"
      ]
     },
     "execution_count": 12,
     "metadata": {},
     "output_type": "execute_result"
    }
   ],
   "source": [
    "count = 0\n",
    "total = 0\n",
    "\n",
    "for i in range(len(df)):\n",
    "    if df.loc[i][\"Date\"].month == 1:\n",
    "        avg = (df.loc[i][\"High\"] + df.loc[i][\"Low\"]) / 2\n",
    "        total += avg\n",
    "        count += 1\n",
    "total/count"
   ]
  },
  {
   "cell_type": "code",
   "execution_count": 13,
   "id": "332df4ff",
   "metadata": {},
   "outputs": [
    {
     "data": {
      "text/plain": [
       "<Axes: xlabel='Low', ylabel='Volume'>"
      ]
     },
     "execution_count": 13,
     "metadata": {},
     "output_type": "execute_result"
    },
    {
     "data": {
      "image/png": "[encoded data removed]",
      "text/plain": [
       "<Figure size 640x480 with 1 Axes>"
      ]
     },
     "metadata": {},
     "output_type": "display_data"
    }
   ],
   "source": [
    "sns.scatterplot(data=df, x=\"Low\", y=\"Volume\")"
   ]
  },
  {
   "cell_type": "code",
   "execution_count": 14,
   "id": "f621f5f8",
   "metadata": {},
   "outputs": [
    {
     "data": {
      "text/plain": [
       "0.10259646883179026"
      ]
     },
     "execution_count": 14,
     "metadata": {},
     "output_type": "execute_result"
    }
   ],
   "source": [
    "df[\"Low\"].corr(df[\"Volume\"])"
   ]
  },
  {
   "cell_type": "markdown",
   "id": "62eed531",
   "metadata": {},
   "source": [
    "After examining the scatterplot for Low vs. Volume, there appears to be no relationship between these variables. The Pearson correlation coefficient showed that is was a 0.1, meaning that the relationship is very, very weak. The direction is still positive."
   ]
  },
  {
   "cell_type": "code",
   "execution_count": 16,
   "id": "bfa92ed0",
   "metadata": {},
   "outputs": [
    {
     "data": {
      "text/plain": [
       "<Axes: xlabel='Date', ylabel='High'>"
      ]
     },
     "execution_count": 16,
     "metadata": {},
     "output_type": "execute_result"
    },
    {
     "data": {
      "image/png": "[encoded data removed]",
      "text/plain": [
       "<Figure size 640x480 with 1 Axes>"
      ]
     },
     "metadata": {},
     "output_type": "display_data"
    }
   ],
   "source": [
    "sns.scatterplot(data=df, x=\"Date\", y=\"High\")"
   ]
  },
  {
   "cell_type": "code",
   "execution_count": 17,
   "id": "582bbd85",
   "metadata": {},
   "outputs": [],
   "source": [
    "#df[\"High\"] = np.log(df[\"High\"])"
   ]
  },
  {
   "cell_type": "code",
   "execution_count": 18,
   "id": "5302d4f6",
   "metadata": {},
   "outputs": [],
   "source": [
    "log_high = np.log(df[\"High\"])\n",
    "df[\"Log High\"] = log_high"
   ]
  },
  {
   "cell_type": "code",
   "execution_count": 19,
   "id": "b0535b82",
   "metadata": {},
   "outputs": [
    {
     "data": {
      "text/plain": [
       "<Axes: xlabel='Date', ylabel='Log High'>"
      ]
     },
     "execution_count": 19,
     "metadata": {},
     "output_type": "execute_result"
    },
    {
     "data": {
      "image/png": "[encoded data removed]",
      "text/plain": [
       "<Figure size 640x480 with 1 Axes>"
      ]
     },
     "metadata": {},
     "output_type": "display_data"
    }
   ],
   "source": [
    "sns.scatterplot(data=df, x=\"Date\", y=\"Log High\")"
   ]
  },
  {
   "cell_type": "markdown",
   "id": "e6738df1",
   "metadata": {},
   "source": [
    "Yeah"
   ]
  },
  {
   "cell_type": "code",
   "execution_count": 21,
   "id": "86ae1075",
   "metadata": {},
   "outputs": [],
   "source": [
    "df['numeric_time'] = pd.to_datetime(df['Date']).astype('int64') // 10**9  # Converts to seconds since epoch\n",
    "correlation = df['numeric_time'].corr(df['Log High'])"
   ]
  },
  {
   "cell_type": "code",
   "execution_count": 22,
   "id": "aca9ddfb",
   "metadata": {},
   "outputs": [
    {
     "data": {
      "text/plain": [
       "0.45097470030936637"
      ]
     },
     "execution_count": 22,
     "metadata": {},
     "output_type": "execute_result"
    }
   ],
   "source": [
    "correlation"
   ]
  },
  {
   "cell_type": "markdown",
   "id": "b40efc5c",
   "metadata": {},
   "source": [
    "### This is for exit ticket 9/25"
   ]
  },
  {
   "cell_type": "code",
   "execution_count": 24,
   "id": "aa50eefd",
   "metadata": {},
   "outputs": [
    {
     "name": "stdout",
     "output_type": "stream",
     "text": [
      "<class 'pandas.core.frame.DataFrame'>\n",
      "RangeIndex: 2516 entries, 0 to 2515\n",
      "Data columns (total 20 columns):\n",
      " #   Column          Non-Null Count  Dtype         \n",
      "---  ------          --------------  -----         \n",
      " 0   date            2516 non-null   datetime64[ns]\n",
      " 1   open            2516 non-null   float64       \n",
      " 2   high            2516 non-null   float64       \n",
      " 3   low             2516 non-null   float64       \n",
      " 4   close           2516 non-null   float64       \n",
      " 5   volume          2516 non-null   int64         \n",
      " 6   rsi_7           2516 non-null   float64       \n",
      " 7   rsi_14          2516 non-null   float64       \n",
      " 8   cci_7           2516 non-null   float64       \n",
      " 9   cci_14          2516 non-null   float64       \n",
      " 10  sma_50          2516 non-null   float64       \n",
      " 11  ema_50          2516 non-null   float64       \n",
      " 12  sma_100         2516 non-null   float64       \n",
      " 13  ema_100         2516 non-null   float64       \n",
      " 14  macd            2516 non-null   float64       \n",
      " 15  bollinger       2516 non-null   float64       \n",
      " 16  TrueRange       2516 non-null   float64       \n",
      " 17  atr_7           2516 non-null   float64       \n",
      " 18  atr_14          2516 non-null   float64       \n",
      " 19  next_day_close  2516 non-null   float64       \n",
      "dtypes: datetime64[ns](1), float64(18), int64(1)\n",
      "memory usage: 393.3 KB\n"
     ]
    }
   ],
   "source": [
    "tesla.info()"
   ]
  },
  {
   "cell_type": "code",
   "execution_count": 25,
   "id": "3b0851c5",
   "metadata": {},
   "outputs": [
    {
     "data": {
      "text/plain": [
       "<Axes: xlabel='open', ylabel='high'>"
      ]
     },
     "execution_count": 25,
     "metadata": {},
     "output_type": "execute_result"
    },
    {
     "data": {
      "image/png": "[encoded data removed]",
      "text/plain": [
       "<Figure size 640x480 with 1 Axes>"
      ]
     },
     "metadata": {},
     "output_type": "display_data"
    }
   ],
   "source": [
    "sns.scatterplot(data= tesla, x=\"open\", y=\"high\")"
   ]
  },
  {
   "cell_type": "code",
   "execution_count": 26,
   "id": "5a48b463",
   "metadata": {},
   "outputs": [
    {
     "data": {
      "text/plain": [
       "0.9996807064037777"
      ]
     },
     "execution_count": 26,
     "metadata": {},
     "output_type": "execute_result"
    }
   ],
   "source": [
    "tesla[\"open\"].corr(tesla[\"high\"])"
   ]
  },
  {
   "cell_type": "code",
   "execution_count": 27,
   "id": "2014eb94",
   "metadata": {},
   "outputs": [
    {
     "data": {
      "text/html": [
       "<div>\n",
       "<style scoped>\n",
       "    .dataframe tbody tr th:only-of-type {\n",
       "        vertical-align: middle;\n",
       "    }\n",
       "\n",
       "    .dataframe tbody tr th {\n",
       "        vertical-align: top;\n",
       "    }\n",
       "\n",
       "    .dataframe thead th {\n",
       "        text-align: right;\n",
       "    }\n",
       "</style>\n",
       "<table border=\"1\" class=\"dataframe\">\n",
       "  <thead>\n",
       "    <tr style=\"text-align: right;\">\n",
       "      <th></th>\n",
       "      <th>Date</th>\n",
       "      <th>Open</th>\n",
       "      <th>High</th>\n",
       "      <th>Low</th>\n",
       "      <th>Close</th>\n",
       "      <th>Adj Close</th>\n",
       "      <th>Volume</th>\n",
       "      <th>Log High</th>\n",
       "      <th>numeric_time</th>\n",
       "    </tr>\n",
       "  </thead>\n",
       "  <tbody>\n",
       "    <tr>\n",
       "      <th>0</th>\n",
       "      <td>2002-02-13</td>\n",
       "      <td>2.40625</td>\n",
       "      <td>2.51500</td>\n",
       "      <td>2.38125</td>\n",
       "      <td>2.51250</td>\n",
       "      <td>1.691666</td>\n",
       "      <td>76216000</td>\n",
       "      <td>0.922273</td>\n",
       "      <td>1013558400</td>\n",
       "    </tr>\n",
       "    <tr>\n",
       "      <th>1</th>\n",
       "      <td>2002-02-14</td>\n",
       "      <td>2.54375</td>\n",
       "      <td>2.54875</td>\n",
       "      <td>2.48125</td>\n",
       "      <td>2.50000</td>\n",
       "      <td>1.683250</td>\n",
       "      <td>11021600</td>\n",
       "      <td>0.935603</td>\n",
       "      <td>1013644800</td>\n",
       "    </tr>\n",
       "    <tr>\n",
       "      <th>2</th>\n",
       "      <td>2002-02-15</td>\n",
       "      <td>2.50000</td>\n",
       "      <td>2.50625</td>\n",
       "      <td>2.46250</td>\n",
       "      <td>2.48750</td>\n",
       "      <td>1.674834</td>\n",
       "      <td>8389600</td>\n",
       "      <td>0.918788</td>\n",
       "      <td>1013731200</td>\n",
       "    </tr>\n",
       "    <tr>\n",
       "      <th>3</th>\n",
       "      <td>2002-02-19</td>\n",
       "      <td>2.47500</td>\n",
       "      <td>2.47500</td>\n",
       "      <td>2.34375</td>\n",
       "      <td>2.38750</td>\n",
       "      <td>1.607504</td>\n",
       "      <td>7410400</td>\n",
       "      <td>0.906240</td>\n",
       "      <td>1014076800</td>\n",
       "    </tr>\n",
       "    <tr>\n",
       "      <th>4</th>\n",
       "      <td>2002-02-20</td>\n",
       "      <td>2.40000</td>\n",
       "      <td>2.46875</td>\n",
       "      <td>2.38125</td>\n",
       "      <td>2.46875</td>\n",
       "      <td>1.662210</td>\n",
       "      <td>6892800</td>\n",
       "      <td>0.903712</td>\n",
       "      <td>1014163200</td>\n",
       "    </tr>\n",
       "  </tbody>\n",
       "</table>\n",
       "</div>"
      ],
      "text/plain": [
       "        Date     Open     High      Low    Close  Adj Close    Volume  \\\n",
       "0 2002-02-13  2.40625  2.51500  2.38125  2.51250   1.691666  76216000   \n",
       "1 2002-02-14  2.54375  2.54875  2.48125  2.50000   1.683250  11021600   \n",
       "2 2002-02-15  2.50000  2.50625  2.46250  2.48750   1.674834   8389600   \n",
       "3 2002-02-19  2.47500  2.47500  2.34375  2.38750   1.607504   7410400   \n",
       "4 2002-02-20  2.40000  2.46875  2.38125  2.46875   1.662210   6892800   \n",
       "\n",
       "   Log High  numeric_time  \n",
       "0  0.922273    1013558400  \n",
       "1  0.935603    1013644800  \n",
       "2  0.918788    1013731200  \n",
       "3  0.906240    1014076800  \n",
       "4  0.903712    1014163200  "
      ]
     },
     "execution_count": 27,
     "metadata": {},
     "output_type": "execute_result"
    }
   ],
   "source": [
    "df.head()"
   ]
  },
  {
   "cell_type": "code",
   "execution_count": 28,
   "id": "dc2e36d0",
   "metadata": {},
   "outputs": [
    {
     "data": {
      "text/plain": [
       "12.302266176978417"
      ]
     },
     "execution_count": 28,
     "metadata": {},
     "output_type": "execute_result"
    }
   ],
   "source": [
    "countYear = 0\n",
    "totalYear = 0\n",
    "\n",
    "for i in range(len(df)):\n",
    "    if df.loc[i][\"Date\"].year == 2023:\n",
    "        avg = (df.loc[i][\"High\"] + df.loc[i][\"Low\"]) / 2\n",
    "        total += avg\n",
    "        count += 1\n",
    "total/count"
   ]
  },
  {
   "cell_type": "code",
   "execution_count": 29,
   "id": "85cbbe4d",
   "metadata": {},
   "outputs": [],
   "source": [
    "#for i in range(len(df))\n",
    "   # if df.loc[i][\"Date\"].year == 2023:\n",
    "        "
   ]
  },
  {
   "cell_type": "code",
   "execution_count": 30,
   "id": "835a6afa",
   "metadata": {},
   "outputs": [],
   "source": [
    "averageSamples = df.groupby(df[\"Date\"].dt.year).size()"
   ]
  },
  {
   "cell_type": "markdown",
   "id": "b1bff2b8",
   "metadata": {},
   "source": [
    "#### This was the first assignment : Find latest date, and average sample per year, exluding 2024"
   ]
  },
  {
   "cell_type": "code",
   "execution_count": 32,
   "id": "675d8543",
   "metadata": {},
   "outputs": [
    {
     "data": {
      "text/plain": [
       "Date\n",
       "2002    223\n",
       "2003    252\n",
       "2004    252\n",
       "2005    252\n",
       "2006    251\n",
       "2007    251\n",
       "2008    253\n",
       "2009    252\n",
       "2010    252\n",
       "2011    252\n",
       "2012    250\n",
       "2013    252\n",
       "2014    252\n",
       "2015    252\n",
       "2016    252\n",
       "2017    251\n",
       "2018    251\n",
       "2019    252\n",
       "2020    253\n",
       "2021    252\n",
       "2022    251\n",
       "2023    250\n",
       "2024     92\n",
       "dtype: int64"
      ]
     },
     "execution_count": 32,
     "metadata": {},
     "output_type": "execute_result"
    }
   ],
   "source": [
    "averageSamples\n",
    "\n"
   ]
  },
  {
   "cell_type": "code",
   "execution_count": 33,
   "id": "5a51a709",
   "metadata": {},
   "outputs": [
    {
     "data": {
      "text/plain": [
       "5595   2024-05-07\n",
       "5596   2024-05-08\n",
       "5597   2024-05-09\n",
       "5598   2024-05-10\n",
       "5599   2024-05-13\n",
       "Name: Date, dtype: datetime64[ns]"
      ]
     },
     "execution_count": 33,
     "metadata": {},
     "output_type": "execute_result"
    }
   ],
   "source": [
    "df[\"Date\"].tail()"
   ]
  },
  {
   "cell_type": "code",
   "execution_count": 34,
   "id": "6b9707b7",
   "metadata": {},
   "outputs": [
    {
     "data": {
      "text/plain": [
       "250.36363636363637"
      ]
     },
     "execution_count": 34,
     "metadata": {},
     "output_type": "execute_result"
    }
   ],
   "source": [
    "years = {}   #.keys(), .values(), .items()\n",
    "\n",
    "for i in range(len(df)):\n",
    "    year = df.loc[i][\"Date\"].year\n",
    "    if year not in years.keys() and year != 2024:\n",
    "        years[year] = 1\n",
    "    elif year in years.keys() and year != 2024:\n",
    "        years[year] += 1        \n",
    "sum(years.values())/len(years)"
   ]
  },
  {
   "cell_type": "code",
   "execution_count": 35,
   "id": "591080a3",
   "metadata": {},
   "outputs": [
    {
     "data": {
      "text/plain": [
       "Date\n",
       "2002    223\n",
       "2003    252\n",
       "2004    252\n",
       "2005    252\n",
       "2006    251\n",
       "2007    251\n",
       "2008    253\n",
       "2009    252\n",
       "2010    252\n",
       "2011    252\n",
       "2012    250\n",
       "2013    252\n",
       "2014    252\n",
       "2015    252\n",
       "2016    252\n",
       "2017    251\n",
       "2018    251\n",
       "2019    252\n",
       "2020    253\n",
       "2021    252\n",
       "2022    251\n",
       "2023    250\n",
       "2024     92\n",
       "dtype: int64"
      ]
     },
     "execution_count": 35,
     "metadata": {},
     "output_type": "execute_result"
    }
   ],
   "source": [
    "df.groupby(df[\"Date\"].dt.year).size()"
   ]
  },
  {
   "cell_type": "code",
   "execution_count": 36,
   "id": "f92197ef",
   "metadata": {},
   "outputs": [],
   "source": [
    "df.drop(columns=[\"Adj Close\"], inplace=True)"
   ]
  },
  {
   "cell_type": "code",
   "execution_count": 37,
   "id": "32d47ac8",
   "metadata": {},
   "outputs": [
    {
     "name": "stdout",
     "output_type": "stream",
     "text": [
      "<class 'pandas.core.frame.DataFrame'>\n",
      "RangeIndex: 5600 entries, 0 to 5599\n",
      "Data columns (total 8 columns):\n",
      " #   Column        Non-Null Count  Dtype         \n",
      "---  ------        --------------  -----         \n",
      " 0   Date          5600 non-null   datetime64[ns]\n",
      " 1   Open          5600 non-null   float64       \n",
      " 2   High          5600 non-null   float64       \n",
      " 3   Low           5600 non-null   float64       \n",
      " 4   Close         5600 non-null   float64       \n",
      " 5   Volume        5600 non-null   int64         \n",
      " 6   Log High      5600 non-null   float64       \n",
      " 7   numeric_time  5600 non-null   int64         \n",
      "dtypes: datetime64[ns](1), float64(5), int64(2)\n",
      "memory usage: 350.1 KB\n"
     ]
    }
   ],
   "source": [
    "df.info()"
   ]
  },
  {
   "cell_type": "code",
   "execution_count": 39,
   "id": "40fdc898",
   "metadata": {},
   "outputs": [],
   "source": [
    "example = pd.DataFrame(df)"
   ]
  },
  {
   "cell_type": "code",
   "execution_count": 40,
   "id": "34a5c7ec",
   "metadata": {},
   "outputs": [
    {
     "data": {
      "text/html": [
       "<div>\n",
       "<style scoped>\n",
       "    .dataframe tbody tr th:only-of-type {\n",
       "        vertical-align: middle;\n",
       "    }\n",
       "\n",
       "    .dataframe tbody tr th {\n",
       "        vertical-align: top;\n",
       "    }\n",
       "\n",
       "    .dataframe thead th {\n",
       "        text-align: right;\n",
       "    }\n",
       "</style>\n",
       "<table border=\"1\" class=\"dataframe\">\n",
       "  <thead>\n",
       "    <tr style=\"text-align: right;\">\n",
       "      <th></th>\n",
       "      <th>Date</th>\n",
       "      <th>Open</th>\n",
       "      <th>High</th>\n",
       "      <th>Low</th>\n",
       "      <th>Close</th>\n",
       "      <th>Volume</th>\n",
       "      <th>Log High</th>\n",
       "      <th>numeric_time</th>\n",
       "    </tr>\n",
       "  </thead>\n",
       "  <tbody>\n",
       "    <tr>\n",
       "      <th>0</th>\n",
       "      <td>2002-02-13</td>\n",
       "      <td>2.40625</td>\n",
       "      <td>2.51500</td>\n",
       "      <td>2.38125</td>\n",
       "      <td>2.51250</td>\n",
       "      <td>76216000</td>\n",
       "      <td>0.922273</td>\n",
       "      <td>1013558400</td>\n",
       "    </tr>\n",
       "    <tr>\n",
       "      <th>1</th>\n",
       "      <td>2002-02-14</td>\n",
       "      <td>2.54375</td>\n",
       "      <td>2.54875</td>\n",
       "      <td>2.48125</td>\n",
       "      <td>2.50000</td>\n",
       "      <td>11021600</td>\n",
       "      <td>0.935603</td>\n",
       "      <td>1013644800</td>\n",
       "    </tr>\n",
       "    <tr>\n",
       "      <th>2</th>\n",
       "      <td>2002-02-15</td>\n",
       "      <td>2.50000</td>\n",
       "      <td>2.50625</td>\n",
       "      <td>2.46250</td>\n",
       "      <td>2.48750</td>\n",
       "      <td>8389600</td>\n",
       "      <td>0.918788</td>\n",
       "      <td>1013731200</td>\n",
       "    </tr>\n",
       "    <tr>\n",
       "      <th>3</th>\n",
       "      <td>2002-02-19</td>\n",
       "      <td>2.47500</td>\n",
       "      <td>2.47500</td>\n",
       "      <td>2.34375</td>\n",
       "      <td>2.38750</td>\n",
       "      <td>7410400</td>\n",
       "      <td>0.906240</td>\n",
       "      <td>1014076800</td>\n",
       "    </tr>\n",
       "    <tr>\n",
       "      <th>4</th>\n",
       "      <td>2002-02-20</td>\n",
       "      <td>2.40000</td>\n",
       "      <td>2.46875</td>\n",
       "      <td>2.38125</td>\n",
       "      <td>2.46875</td>\n",
       "      <td>6892800</td>\n",
       "      <td>0.903712</td>\n",
       "      <td>1014163200</td>\n",
       "    </tr>\n",
       "  </tbody>\n",
       "</table>\n",
       "</div>"
      ],
      "text/plain": [
       "        Date     Open     High      Low    Close    Volume  Log High  \\\n",
       "0 2002-02-13  2.40625  2.51500  2.38125  2.51250  76216000  0.922273   \n",
       "1 2002-02-14  2.54375  2.54875  2.48125  2.50000  11021600  0.935603   \n",
       "2 2002-02-15  2.50000  2.50625  2.46250  2.48750   8389600  0.918788   \n",
       "3 2002-02-19  2.47500  2.47500  2.34375  2.38750   7410400  0.906240   \n",
       "4 2002-02-20  2.40000  2.46875  2.38125  2.46875   6892800  0.903712   \n",
       "\n",
       "   numeric_time  \n",
       "0    1013558400  \n",
       "1    1013644800  \n",
       "2    1013731200  \n",
       "3    1014076800  \n",
       "4    1014163200  "
      ]
     },
     "execution_count": 40,
     "metadata": {},
     "output_type": "execute_result"
    }
   ],
   "source": [
    "example.head()"
   ]
  },
  {
   "cell_type": "code",
   "execution_count": 41,
   "id": "fffbf04a",
   "metadata": {
    "scrolled": true
   },
   "outputs": [
    {
     "name": "stdout",
     "output_type": "stream",
     "text": [
      "{'ticker': 'GME', 'queryCount': 95, 'resultsCount': 95, 'adjusted': False, 'results': [{'v': 206973629.0, 'vw': 51.6626, 'o': 64.83, 'c': 48.75, 'h': 64.83, 'l': 36, 't': 1715659200000, 'n': 2971358}, {'v': 131776493.0, 'vw': 38.3398, 'o': 40.31, 'c': 39.55, 'h': 42.35, 'l': 31, 't': 1715745600000, 'n': 1738808}, {'v': 76159605.0, 'vw': 31.1035, 'o': 33.98, 'c': 27.67, 'h': 35.24, 'l': 27.59, 't': 1715832000000, 'n': 837428}, {'v': 96046070.0, 'vw': 21.566, 'o': 21.86, 'c': 22.21, 'h': 22.41, 'l': 19.7, 't': 1715918400000, 'n': 925643}, {'v': 55261216.0, 'vw': 21.1343, 'o': 21.54, 'c': 23.14, 'h': 23.4, 'l': 18.94, 't': 1716177600000, 'n': 504233}, {'v': 49248792.0, 'vw': 21.434, 'o': 22.24, 'c': 22.12, 'h': 22.85, 'l': 20.0401, 't': 1716264000000, 'n': 330980}, {'v': 43521390.0, 'vw': 21.4924, 'o': 21.56, 'c': 21.12, 'h': 22.25, 'l': 20.76, 't': 1716350400000, 'n': 286155}, {'v': 30561058.0, 'vw': 19.7059, 'o': 21.4, 'c': 18.32, 'h': 21.4, 'l': 18.26, 't': 1716436800000, 'n': 231176}, {'v': 43016696.0, 'vw': 19.3481, 'o': 18.42, 'c': 19, 'h': 19.68, 'l': 17.7, 't': 1716523200000, 'n': 289042}, {'v': 105077338.0, 'vw': 23.5677, 'o': 23.1, 'c': 23.78, 'h': 26.66, 'l': 21.15, 't': 1716868800000, 'n': 764360}, {'v': 26701594.0, 'vw': 21.865, 'o': 22, 'c': 21.24, 'h': 22.98, 'l': 21.0501, 't': 1716955200000, 'n': 209201}, {'v': 24508770.0, 'vw': 21.5984, 'o': 21.02, 'c': 22.61, 'h': 22.7, 'l': 20.1, 't': 1717041600000, 'n': 161759}, {'v': 22018706.0, 'vw': 22.7474, 'o': 22.58, 'c': 23.14, 'h': 23.72, 'l': 21.6802, 't': 1717128000000, 'n': 163425}, {'v': 165769655.0, 'vw': 32.7511, 'o': 40.19, 'c': 28, 'h': 40.5, 'l': 26.4, 't': 1717387200000, 'n': 1763403}, {'v': 51662126.0, 'vw': 26.8713, 'o': 26.26, 'c': 26.5, 'h': 28.01, 'l': 25.2, 't': 1717473600000, 'n': 503879}, {'v': 73016966.0, 'vw': 29.667, 'o': 26.3, 'c': 31.57, 'h': 31.84, 'l': 26.11, 't': 1717560000000, 'n': 616730}, {'v': 206683491.0, 'vw': 41.8822, 'o': 31.57, 'c': 46.55, 'h': 47.5, 'l': 31.28, 't': 1717646400000, 'n': 1901792}, {'v': 279025853.0, 'vw': 35.9393, 'o': 37.69, 'c': 28.22, 'h': 48, 'l': 26.12, 't': 1717732800000, 'n': 3119767}, {'v': 131572406.0, 'vw': 25.5979, 'o': 28.97, 'c': 24.83, 'h': 29.34, 'l': 23.06, 't': 1717992000000, 'n': 1246838}, {'v': 146912150.0, 'vw': 27.028, 'o': 24.4, 'c': 30.49, 'h': 30.92, 'l': 22.79, 't': 1718078400000, 'n': 1125557}, {'v': 147986688.0, 'vw': 29.5768, 'o': 29.17, 'c': 25.46, 'h': 33.7, 'l': 24.83, 't': 1718164800000, 'n': 1174781}, {'v': 107304615.0, 'vw': 27.5909, 'o': 26.56, 'c': 29.12, 'h': 29.58, 'l': 25.56, 't': 1718251200000, 'n': 770748}, {'v': 82862801.0, 'vw': 28.8757, 'o': 29.23, 'c': 28.7, 'h': 30.66, 'l': 27.41, 't': 1718337600000, 'n': 641385}, {'v': 90351902.0, 'vw': 26.2879, 'o': 28.55, 'c': 25.22, 'h': 29.18, 'l': 23.79, 't': 1718596800000, 'n': 663738}, {'v': 38069668.0, 'vw': 24.8316, 'o': 24.58, 'c': 24.7, 'h': 25.97, 'l': 23.61, 't': 1718683200000, 'n': 292038}, {'v': 36015367.0, 'vw': 24.9065, 'o': 24.25, 'c': 25.59, 'h': 25.93, 'l': 23.65, 't': 1718856000000, 'n': 280471}, {'v': 27921554.0, 'vw': 24.4925, 'o': 25.24, 'c': 23.93, 'h': 25.81, 'l': 23.51, 't': 1718942400000, 'n': 221564}, {'v': 22156011.0, 'vw': 23.9581, 'o': 23.26, 'c': 23.65, 'h': 24.83, 'l': 23.24, 't': 1719201600000, 'n': 185488}, {'v': 27625497.0, 'vw': 23.6128, 'o': 23.6, 'c': 24.93, 'h': 24.97, 'l': 22.55, 't': 1719288000000, 'n': 213379}, {'v': 17767477.0, 'vw': 24.6685, 'o': 24.6, 'c': 24.2, 'h': 25.38, 'l': 24.04, 't': 1719374400000, 'n': 144621}, {'v': 34865532.0, 'vw': 25.3699, 'o': 24.1, 'c': 25.09, 'h': 26.69, 'l': 24.06, 't': 1719460800000, 'n': 256471}, {'v': 20173108.0, 'vw': 25.2129, 'o': 25.02, 'c': 24.69, 'h': 26.17, 'l': 24.31, 't': 1719547200000, 'n': 163080}, {'v': 30688700.0, 'vw': 23.1225, 'o': 23.35, 'c': 23.33, 'h': 23.78, 'l': 22.31, 't': 1719806400000, 'n': 256817}, {'v': 13702948.0, 'vw': 23.7733, 'o': 23.24, 'c': 23.98, 'h': 24.3199, 'l': 23.1, 't': 1719892800000, 'n': 122967}, {'v': 11824488.0, 'vw': 24.3177, 'o': 24.03, 'c': 24.37, 'h': 24.89, 'l': 23.65, 't': 1719979200000, 'n': 98235}, {'v': 11780106.0, 'vw': 24.4056, 'o': 24.18, 'c': 24.18, 'h': 25.0799, 'l': 23.82, 't': 1720152000000, 'n': 105541}, {'v': 11787767.0, 'vw': 24.5811, 'o': 24.12, 'c': 24.45, 'h': 25.14, 'l': 23.85, 't': 1720411200000, 'n': 101730}, {'v': 9519483.0, 'vw': 24.4873, 'o': 24.6, 'c': 24.6, 'h': 25.1799, 'l': 24, 't': 1720497600000, 'n': 86197}, {'v': 22324714.0, 'vw': 25.6237, 'o': 25, 'c': 24.97, 'h': 26.45, 'l': 24.9, 't': 1720584000000, 'n': 169027}, {'v': 13031074.0, 'vw': 25.5166, 'o': 25.435, 'c': 25.57, 'h': 26.02, 'l': 25.02, 't': 1720670400000, 'n': 101291}, {'v': 16206041.0, 'vw': 26.0694, 'o': 25.76, 'c': 26.05, 'h': 26.89, 'l': 25.42, 't': 1720756800000, 'n': 117458}, {'v': 17099177.0, 'vw': 26.5503, 'o': 25.98, 'c': 27, 'h': 27.2, 'l': 25.651, 't': 1721016000000, 'n': 146126}, {'v': 25589339.0, 'vw': 28.2559, 'o': 27.75, 'c': 28.54, 'h': 28.83, 'l': 27.3701, 't': 1721102400000, 'n': 230693}, {'v': 23768607.0, 'vw': 28.6916, 'o': 28.4, 'c': 27.98, 'h': 29.79, 'l': 27.24, 't': 1721188800000, 'n': 209995}, {'v': 16967464.0, 'vw': 26.8487, 'o': 27.98, 'c': 25.88, 'h': 28.382, 'l': 25.61, 't': 1721275200000, 'n': 153246}, {'v': 12757769.0, 'vw': 25.4407, 'o': 25.55, 'c': 24.97, 'h': 26.39, 'l': 24.85, 't': 1721361600000, 'n': 112431}, {'v': 14034561.0, 'vw': 25.1515, 'o': 24.84, 'c': 25.22, 'h': 25.98, 'l': 24.38, 't': 1721620800000, 'n': 113427}, {'v': 7920223.0, 'vw': 25.3721, 'o': 25.22, 'c': 25.5, 'h': 25.68, 'l': 24.89, 't': 1721707200000, 'n': 69115}, {'v': 9521342.0, 'vw': 24.4377, 'o': 25.15, 'c': 24.01, 'h': 25.45, 'l': 23.93, 't': 1721793600000, 'n': 88946}, {'v': 8554139.0, 'vw': 24.0677, 'o': 23.59, 'c': 23.95, 'h': 24.5899, 'l': 23.36, 't': 1721880000000, 'n': 76494}, {'v': 6828083.0, 'vw': 24.4636, 'o': 24.28, 'c': 24.13, 'h': 24.77, 'l': 24.11, 't': 1721966400000, 'n': 60249}, {'v': 7244976.0, 'vw': 23.8618, 'o': 24.23, 'c': 23.6, 'h': 24.38, 'l': 23.54, 't': 1722225600000, 'n': 70311}, {'v': 9269914.0, 'vw': 22.9368, 'o': 23.6, 'c': 22.4, 'h': 23.89, 'l': 22.34, 't': 1722312000000, 'n': 86746}, {'v': 7979507.0, 'vw': 22.9276, 'o': 22.86, 'c': 22.67, 'h': 23.45, 'l': 22.61, 't': 1722398400000, 'n': 72162}, {'v': 9331170.0, 'vw': 21.9993, 'o': 22.92, 'c': 21.71, 'h': 23.09, 'l': 21.56, 't': 1722484800000, 'n': 95594}, {'v': 9023427.0, 'vw': 20.9188, 'o': 20.95, 'c': 21.07, 'h': 21.61, 'l': 20.43, 't': 1722571200000, 'n': 86579}, {'v': 12205928.0, 'vw': 19.6804, 'o': 18.83, 'c': 20.65, 'h': 20.8, 'l': 18.73, 't': 1722830400000, 'n': 121093}, {'v': 6505327.0, 'vw': 20.9964, 'o': 21.02, 'c': 21.28, 'h': 21.58, 'l': 20.26, 't': 1722916800000, 'n': 62798}, {'v': 6093211.0, 'vw': 20.9596, 'o': 21.15, 'c': 20.83, 'h': 21.46, 'l': 20.38, 't': 1723003200000, 'n': 57651}, {'v': 5433545.0, 'vw': 21.4996, 'o': 21.01, 'c': 21.75, 'h': 21.88, 'l': 20.81, 't': 1723089600000, 'n': 49388}, {'v': 4785694.0, 'vw': 21.8817, 'o': 21.51, 'c': 21.93, 'h': 22.17, 'l': 21.46, 't': 1723176000000, 'n': 47891}, {'v': 4448411.0, 'vw': 21.8159, 'o': 21.98, 'c': 21.88, 'h': 22.27, 'l': 21.45, 't': 1723435200000, 'n': 45083}, {'v': 3901045.0, 'vw': 22.1509, 'o': 21.96, 'c': 22.27, 'h': 22.3799, 'l': 21.86, 't': 1723521600000, 'n': 43222}, {'v': 3489174.0, 'vw': 22.1401, 'o': 22.34, 'c': 21.99, 'h': 22.73, 'l': 21.79, 't': 1723608000000, 'n': 40807}, {'v': 5359478.0, 'vw': 22.4864, 'o': 22.25, 'c': 22.53, 'h': 22.84, 'l': 21.97, 't': 1723694400000, 'n': 51276}, {'v': 3640573.0, 'vw': 22.4742, 'o': 22.37, 'c': 22.4, 'h': 22.69, 'l': 22.2376, 't': 1723780800000, 'n': 40419}, {'v': 4523304.0, 'vw': 22.7325, 'o': 22.35, 'c': 22.66, 'h': 23.1, 'l': 22.324, 't': 1724040000000, 'n': 44291}, {'v': 3570085.0, 'vw': 22.2771, 'o': 22.5, 'c': 22.28, 'h': 22.52, 'l': 21.96, 't': 1724126400000, 'n': 38649}, {'v': 3160203.0, 'vw': 22.4094, 'o': 22.17, 'c': 22.55, 'h': 22.65, 'l': 22.16, 't': 1724212800000, 'n': 32732}, {'v': 3379937.0, 'vw': 22.4521, 'o': 22.5, 'c': 22.12, 'h': 22.76, 'l': 22.09, 't': 1724299200000, 'n': 35912}, {'v': 4054285.0, 'vw': 22.3852, 'o': 22.25, 'c': 22.21, 'h': 22.62, 'l': 22.18, 't': 1724385600000, 'n': 38434}, {'v': 4772584.0, 'vw': 21.7604, 'o': 22.25, 'c': 21.36, 'h': 22.39, 'l': 21.3, 't': 1724644800000, 'n': 49869}, {'v': 4118383.0, 'vw': 20.9029, 'o': 21.06, 'c': 20.74, 'h': 21.29, 'l': 20.66, 't': 1724731200000, 'n': 43100}, {'v': 5216782.0, 'vw': 20.3559, 'o': 20.71, 'c': 19.9, 'h': 21.07, 'l': 19.88, 't': 1724817600000, 'n': 52563}, {'v': 10425400.0, 'vw': 21.6427, 'o': 20.5, 'c': 21.51, 'h': 22.45, 'l': 20.47, 't': 1724904000000, 'n': 83114}, {'v': 15568753.0, 'vw': 22.8807, 'o': 21.82, 'c': 23.42, 'h': 23.48, 'l': 21.73, 't': 1724990400000, 'n': 104582}, {'v': 11350531.0, 'vw': 23.6505, 'o': 24.15, 'c': 23.14, 'h': 24.69, 'l': 22.82, 't': 1725336000000, 'n': 100732}, {'v': 6696465.0, 'vw': 22.8619, 'o': 22.85, 'c': 22.12, 'h': 23.71, 'l': 22.11, 't': 1725422400000, 'n': 59812}, {'v': 5099768.0, 'vw': 22.1934, 'o': 22, 'c': 22.39, 'h': 22.68, 'l': 21.6568, 't': 1725508800000, 'n': 51566}, {'v': 23875493.0, 'vw': 23.3971, 'o': 22.4, 'c': 23.92, 'h': 24.48, 'l': 21.8, 't': 1725595200000, 'n': 162964}, {'v': 14060537.0, 'vw': 24.2228, 'o': 23.24, 'c': 24.25, 'h': 25.015, 'l': 23.16, 't': 1725854400000, 'n': 121466}, {'v': 19174509.0, 'vw': 23.4264, 'o': 24.77, 'c': 23.45, 'h': 24.8, 'l': 23.132, 't': 1725940800000, 'n': 151474}, {'v': 28921512.0, 'vw': 20.0772, 'o': 20.82, 'c': 20.64, 'h': 21.09, 'l': 19.31, 't': 1726027200000, 'n': 232332}, {'v': 9567543.0, 'vw': 20.3222, 'o': 20.47, 'c': 20.4, 'h': 20.71, 'l': 19.991, 't': 1726113600000, 'n': 80248}, {'v': 8052144.0, 'vw': 20.6308, 'o': 20.49, 'c': 20.65, 'h': 20.915, 'l': 20.34, 't': 1726200000000, 'n': 65180}, {'v': 5967521.0, 'vw': 20.2642, 'o': 20.45, 'c': 20.09, 'h': 20.52, 'l': 19.9159, 't': 1726459200000, 'n': 59428}, {'v': 6299096.0, 'vw': 20.1892, 'o': 20.24, 'c': 20.16, 'h': 20.56, 'l': 19.92, 't': 1726545600000, 'n': 57240}, {'v': 10728196.0, 'vw': 19.7796, 'o': 20.05, 'c': 19.65, 'h': 20.26, 'l': 19.42, 't': 1726632000000, 'n': 89499}, {'v': 8900588.0, 'vw': 19.6588, 'o': 19.89, 'c': 19.51, 'h': 20.0296, 'l': 19.47, 't': 1726718400000, 'n': 78403}, {'v': 60804837.0, 'vw': 21.3183, 'o': 19.63, 'c': 21.85, 'h': 22.03, 'l': 19.482, 't': 1726804800000, 'n': 204605}, {'v': 13945783.0, 'vw': 22.123, 'o': 21.54, 'c': 22.31, 'h': 22.56, 'l': 21.2301, 't': 1727064000000, 'n': 97755}, {'v': 12112487.0, 'vw': 22.2476, 'o': 22.61, 'c': 22.63, 'h': 22.72, 'l': 21.54, 't': 1727150400000, 'n': 80031}, {'v': 6137420.0, 'vw': 22.342, 'o': 22.16, 'c': 22.18, 'h': 22.83, 'l': 22.065, 't': 1727236800000, 'n': 51059}, {'v': 5771976.0, 'vw': 22.2713, 'o': 22.4, 'c': 22.29, 'h': 22.64, 'l': 21.87, 't': 1727323200000, 'n': 44048}, {'v': 7415314.0, 'vw': 22.4783, 'o': 22.39, 'c': 22.48, 'h': 23.1, 'l': 21.97, 't': 1727409600000, 'n': 54107}], 'status': 'OK', 'request_id': 'f6ba4b0d125d98216f237e428479cc91', 'count': 95}\n"
     ]
    }
   ],
   "source": [
    "# replace the \"demo\" apikey below with your own key from https://www.alphavantage.co/support/#api-key\n",
    "url = 'https://api.polygon.io/v2/aggs/ticker/GME/range/1/day/2024-05-14/2024-09-27?adjusted=false&sort=asc&apiKey=Y9JhMh8Jt29YRrEwJchoNxZTHiaPMY4s'\n",
    "r = requests.get(url)\n",
    "data = r.json()\n",
    "\n",
    "print(data)"
   ]
  },
  {
   "cell_type": "code",
   "execution_count": 42,
   "id": "e415ade8",
   "metadata": {},
   "outputs": [],
   "source": [
    "def gather_data(start, end):\n",
    "    #This is the dictionary muhahahahahahaha!!?!\n",
    "    data = {\"Date\": [], \"Open\": [], \"High\": [], \"Low\": [], \"Close\": [], \"Volume\": []}\n",
    "\n",
    "    startMonth = pd.to_datetime(start).month\n",
    "    endMonth = pd.to_datetime(end).month\n",
    "\n",
    "    for month in range(startMonth, endMonth + 1):\n",
    "        for day in range(1, 26):\n",
    "            if day < 10:\n",
    "                current = '2024-0' + str(month) + '-0' + str(day)\n",
    "            else: \n",
    "                current = '2024-0' + str(month) + '-0' + str(day)\n",
    "\n",
    "            url = 'https://api.polygon.io/v1/open-close/GME/' + current + '?adjusted=false&sort=asc&apiKey=Y9JhMh8Jt29YRrEwJchoNxZTHiaPMY4s'\n",
    "            r = requests.get(url)\n",
    "            jsonData = r.json()\n",
    "            data[\"Open\"].append(jsonData['open'])\n",
    "            data[\"High\"].append(jsonData['high'])\n",
    "            data[\"Low\"].append(jsonData[\"low\"])\n",
    "            data[\"Close\"].append(jsonData['close'])\n",
    "            data[\"Volume\"].append(jsonData['volume'])\n",
    "            date = pd.to_datetime(current)\n",
    "            data[\"Date\"].append(date)\n",
    "\n",
    "            break\n",
    "        break\n",
    "\n",
    "    return pd.DataFrame(data)\n"
   ]
  },
  {
   "cell_type": "code",
   "execution_count": 43,
   "id": "6894168c-22d1-4891-bf42-ad783c2a1de7",
   "metadata": {},
   "outputs": [
    {
     "data": {
      "text/html": [
       "<div>\n",
       "<style scoped>\n",
       "    .dataframe tbody tr th:only-of-type {\n",
       "        vertical-align: middle;\n",
       "    }\n",
       "\n",
       "    .dataframe tbody tr th {\n",
       "        vertical-align: top;\n",
       "    }\n",
       "\n",
       "    .dataframe thead th {\n",
       "        text-align: right;\n",
       "    }\n",
       "</style>\n",
       "<table border=\"1\" class=\"dataframe\">\n",
       "  <thead>\n",
       "    <tr style=\"text-align: right;\">\n",
       "      <th></th>\n",
       "      <th>Date</th>\n",
       "      <th>Open</th>\n",
       "      <th>High</th>\n",
       "      <th>Low</th>\n",
       "      <th>Close</th>\n",
       "      <th>Volume</th>\n",
       "    </tr>\n",
       "  </thead>\n",
       "  <tbody>\n",
       "    <tr>\n",
       "      <th>0</th>\n",
       "      <td>2024-05-01</td>\n",
       "      <td>11.03</td>\n",
       "      <td>11.32</td>\n",
       "      <td>10.7</td>\n",
       "      <td>10.91</td>\n",
       "      <td>2631514.0</td>\n",
       "    </tr>\n",
       "  </tbody>\n",
       "</table>\n",
       "</div>"
      ],
      "text/plain": [
       "        Date   Open   High   Low  Close     Volume\n",
       "0 2024-05-01  11.03  11.32  10.7  10.91  2631514.0"
      ]
     },
     "execution_count": 43,
     "metadata": {},
     "output_type": "execute_result"
    }
   ],
   "source": [
    "gather_data('2024-05-14', '2024-09-26')"
   ]
  },
  {
   "cell_type": "markdown",
   "id": "c355c97e",
   "metadata": {},
   "source": [
    "### This is for missing class of 10/1/24 because of Spirit Bus:"
   ]
  },
  {
   "cell_type": "code",
   "execution_count": 45,
   "id": "ac7d4d96-af74-4b04-8ea2-df714812f096",
   "metadata": {},
   "outputs": [],
   "source": [
    "df2 = pd.read_json(\"recentGME.json\")\n",
    "#df.drop([\"Adj Close\"], inplace=True, axis=1)"
   ]
  },
  {
   "cell_type": "code",
   "execution_count": 46,
   "id": "e95bbb98-9823-47c9-935d-10a38de1d58b",
   "metadata": {},
   "outputs": [],
   "source": [
    "result = pd.concat([df, df2])\n",
    "result.reset_index(inplace=True)"
   ]
  },
  {
   "cell_type": "code",
   "execution_count": 47,
   "id": "14dc8bef",
   "metadata": {},
   "outputs": [
    {
     "name": "stdout",
     "output_type": "stream",
     "text": [
      "{'status': 'OK', 'from': '2024-08-21', 'symbol': 'AMC', 'open': 4.99, 'high': 5.06, 'low': 4.98, 'close': 5.01, 'volume': 5322396.0, 'afterHours': 5, 'preMarket': 5.01}\n"
     ]
    }
   ],
   "source": [
    "url = 'https://api.polygon.io/v1/open-close/AMC/2024-08-21?adjusted=false&sort=asc&apiKey=Y9JhMh8Jt29YRrEwJchoNxZTHiaPMY4s'\n",
    "r = requests.get(url)\n",
    "data = r.json()\n",
    "\n",
    "print(data)"
   ]
  },
  {
   "cell_type": "code",
   "execution_count": 48,
   "id": "650a236d",
   "metadata": {},
   "outputs": [],
   "source": [
    "amc = pd.read_csv(\"AMC.csv\")"
   ]
  },
  {
   "cell_type": "code",
   "execution_count": 49,
   "id": "2322f36d",
   "metadata": {},
   "outputs": [],
   "source": [
    "amc.drop([\"Adj Close\"], inplace=True, axis=1)"
   ]
  },
  {
   "cell_type": "code",
   "execution_count": 50,
   "id": "5cd149ce",
   "metadata": {},
   "outputs": [],
   "source": [
    "amc[\"Date\"] = pd.to_datetime(amc[\"Date\"])"
   ]
  },
  {
   "cell_type": "code",
   "execution_count": 51,
   "id": "d24e4195",
   "metadata": {},
   "outputs": [
    {
     "data": {
      "text/plain": [
       "pandas._libs.tslibs.timestamps.Timestamp"
      ]
     },
     "execution_count": 51,
     "metadata": {},
     "output_type": "execute_result"
    }
   ],
   "source": [
    "type(amc.loc[0][\"Date\"])"
   ]
  },
  {
   "cell_type": "code",
   "execution_count": 52,
   "id": "eace6d38",
   "metadata": {},
   "outputs": [
    {
     "data": {
      "text/plain": [
       "<Axes: title={'center': 'Comparison of GME and AMC stock over time'}, xlabel='Date', ylabel='High'>"
      ]
     },
     "execution_count": 52,
     "metadata": {},
     "output_type": "execute_result"
    },
    {
     "data": {
      "image/png": "[encoded data removed]",
      "text/plain": [
       "<Figure size 640x480 with 1 Axes>"
      ]
     },
     "metadata": {},
     "output_type": "display_data"
    }
   ],
   "source": [
    "sns.scatterplot(data=df, x=\"Date\", y=\"High\").set_title(\"Comparison of GME and AMC stock over time\")\n",
    "sns.scatterplot(data=amc, x=\"Date\", y=\"High\")\n"
   ]
  },
  {
   "cell_type": "code",
   "execution_count": 53,
   "id": "a763279d",
   "metadata": {},
   "outputs": [
    {
     "data": {
      "text/html": [
       "<div>\n",
       "<style scoped>\n",
       "    .dataframe tbody tr th:only-of-type {\n",
       "        vertical-align: middle;\n",
       "    }\n",
       "\n",
       "    .dataframe tbody tr th {\n",
       "        vertical-align: top;\n",
       "    }\n",
       "\n",
       "    .dataframe thead th {\n",
       "        text-align: right;\n",
       "    }\n",
       "</style>\n",
       "<table border=\"1\" class=\"dataframe\">\n",
       "  <thead>\n",
       "    <tr style=\"text-align: right;\">\n",
       "      <th></th>\n",
       "      <th>label</th>\n",
       "      <th>timestamp</th>\n",
       "      <th>score</th>\n",
       "      <th>comms_num</th>\n",
       "    </tr>\n",
       "  </thead>\n",
       "  <tbody>\n",
       "    <tr>\n",
       "      <th>0</th>\n",
       "      <td>AMC</td>\n",
       "      <td>2021-01-28</td>\n",
       "      <td>38408</td>\n",
       "      <td>6027</td>\n",
       "    </tr>\n",
       "    <tr>\n",
       "      <th>1</th>\n",
       "      <td>AMC</td>\n",
       "      <td>2021-01-29</td>\n",
       "      <td>22404</td>\n",
       "      <td>7023</td>\n",
       "    </tr>\n",
       "    <tr>\n",
       "      <th>2</th>\n",
       "      <td>AMC</td>\n",
       "      <td>2021-01-30</td>\n",
       "      <td>66084</td>\n",
       "      <td>11660</td>\n",
       "    </tr>\n",
       "    <tr>\n",
       "      <th>3</th>\n",
       "      <td>AMC</td>\n",
       "      <td>2021-01-31</td>\n",
       "      <td>54180</td>\n",
       "      <td>6934</td>\n",
       "    </tr>\n",
       "    <tr>\n",
       "      <th>4</th>\n",
       "      <td>AMC</td>\n",
       "      <td>2021-02-01</td>\n",
       "      <td>122882</td>\n",
       "      <td>8710</td>\n",
       "    </tr>\n",
       "  </tbody>\n",
       "</table>\n",
       "</div>"
      ],
      "text/plain": [
       "  label  timestamp   score  comms_num\n",
       "0   AMC 2021-01-28   38408       6027\n",
       "1   AMC 2021-01-29   22404       7023\n",
       "2   AMC 2021-01-30   66084      11660\n",
       "3   AMC 2021-01-31   54180       6934\n",
       "4   AMC 2021-02-01  122882       8710"
      ]
     },
     "execution_count": 53,
     "metadata": {},
     "output_type": "execute_result"
    }
   ],
   "source": [
    "wsb = pd.read_json(\"light_encode_wsb.json\")\n",
    "wsb.head()"
   ]
  },
  {
   "cell_type": "code",
   "execution_count": 54,
   "id": "0a7a4508",
   "metadata": {},
   "outputs": [],
   "source": [
    "wsb.rename(columns={\"timestamp\": \"Date\"}, inplace=True)"
   ]
  },
  {
   "cell_type": "code",
   "execution_count": 55,
   "id": "77e09483",
   "metadata": {},
   "outputs": [
    {
     "data": {
      "text/plain": [
       "array(['AMC'], dtype=object)"
      ]
     },
     "execution_count": 55,
     "metadata": {},
     "output_type": "execute_result"
    }
   ],
   "source": [
    "amc_wsb = wsb[wsb[\"label\"] == \"AMC\"]\n",
    "amc_wsb[\"label\"].unique()"
   ]
  },
  {
   "cell_type": "code",
   "execution_count": 56,
   "id": "d2acd0ca",
   "metadata": {},
   "outputs": [],
   "source": [
    "merged_amc = pd.merge(amc, amc_wsb, how=\"inner\", on=\"Date\")"
   ]
  },
  {
   "cell_type": "raw",
   "id": "c5be91dd",
   "metadata": {},
   "source": [
    "merged_amc.head()"
   ]
  },
  {
   "cell_type": "markdown",
   "id": "d2849996-eef3-4b76-928a-483e5fc5b770",
   "metadata": {},
   "source": [
    "# This is for exit 10/1 !!!!!!!!!"
   ]
  },
  {
   "cell_type": "code",
   "execution_count": 134,
   "id": "86bb55fc",
   "metadata": {},
   "outputs": [],
   "source": [
    "\n",
    "# Load the datasets\n",
    "\n",
    "# Function to combine two dataframes using an inner merge on a shared column\n",
    "def combine_datasets(df1, df2, shared_column):\n",
    "    '''\n",
    "    Combines two dataframes using an inner merge.\n",
    "    Returns the resulting dataframe.\n",
    "    '''\n",
    "    tesla[\"Date\"] = tesla[\"date\"]\n",
    "    merged_df = pd.merge(df1, df2, on=shared_column, how='inner')\n",
    "    return merged_df\n",
    "\n",
    "# Combine the datasets on the 'Date' column\n",
    "\n",
    "# Display the merged dataframe\n",
    "\n"
   ]
  },
  {
   "cell_type": "code",
   "execution_count": 136,
   "id": "d163c60e-b726-4aee-9381-cb2303b7a2d8",
   "metadata": {},
   "outputs": [
    {
     "data": {
      "text/html": [
       "<div>\n",
       "<style scoped>\n",
       "    .dataframe tbody tr th:only-of-type {\n",
       "        vertical-align: middle;\n",
       "    }\n",
       "\n",
       "    .dataframe tbody tr th {\n",
       "        vertical-align: top;\n",
       "    }\n",
       "\n",
       "    .dataframe thead th {\n",
       "        text-align: right;\n",
       "    }\n",
       "</style>\n",
       "<table border=\"1\" class=\"dataframe\">\n",
       "  <thead>\n",
       "    <tr style=\"text-align: right;\">\n",
       "      <th></th>\n",
       "      <th>date</th>\n",
       "      <th>open</th>\n",
       "      <th>high</th>\n",
       "      <th>low</th>\n",
       "      <th>close</th>\n",
       "      <th>volume</th>\n",
       "      <th>rsi_7</th>\n",
       "      <th>rsi_14</th>\n",
       "      <th>cci_7</th>\n",
       "      <th>cci_14</th>\n",
       "      <th>...</th>\n",
       "      <th>sma_100</th>\n",
       "      <th>ema_100</th>\n",
       "      <th>macd</th>\n",
       "      <th>bollinger</th>\n",
       "      <th>TrueRange</th>\n",
       "      <th>atr_7</th>\n",
       "      <th>atr_14</th>\n",
       "      <th>next_day_close</th>\n",
       "      <th>Date</th>\n",
       "      <th>Tweet Count</th>\n",
       "    </tr>\n",
       "  </thead>\n",
       "  <tbody>\n",
       "    <tr>\n",
       "      <th>0</th>\n",
       "      <td>2014-01-06</td>\n",
       "      <td>10.000000</td>\n",
       "      <td>10.026667</td>\n",
       "      <td>9.682667</td>\n",
       "      <td>9.800000</td>\n",
       "      <td>80416500</td>\n",
       "      <td>46.328174</td>\n",
       "      <td>50.870410</td>\n",
       "      <td>-123.427544</td>\n",
       "      <td>-37.824708</td>\n",
       "      <td>...</td>\n",
       "      <td>10.496740</td>\n",
       "      <td>9.682577</td>\n",
       "      <td>0.141790</td>\n",
       "      <td>9.797900</td>\n",
       "      <td>0.344000</td>\n",
       "      <td>0.374267</td>\n",
       "      <td>0.426343</td>\n",
       "      <td>9.957333</td>\n",
       "      <td>2014-01-06</td>\n",
       "      <td>2</td>\n",
       "    </tr>\n",
       "    <tr>\n",
       "      <th>1</th>\n",
       "      <td>2014-01-07</td>\n",
       "      <td>9.841333</td>\n",
       "      <td>10.026667</td>\n",
       "      <td>9.683333</td>\n",
       "      <td>9.957333</td>\n",
       "      <td>75511500</td>\n",
       "      <td>53.263037</td>\n",
       "      <td>53.406750</td>\n",
       "      <td>-84.784651</td>\n",
       "      <td>-20.779431</td>\n",
       "      <td>...</td>\n",
       "      <td>10.503407</td>\n",
       "      <td>9.688051</td>\n",
       "      <td>0.136402</td>\n",
       "      <td>9.837900</td>\n",
       "      <td>0.343334</td>\n",
       "      <td>0.369848</td>\n",
       "      <td>0.420414</td>\n",
       "      <td>10.085333</td>\n",
       "      <td>2014-01-07</td>\n",
       "      <td>1</td>\n",
       "    </tr>\n",
       "    <tr>\n",
       "      <th>2</th>\n",
       "      <td>2014-01-23</td>\n",
       "      <td>11.815333</td>\n",
       "      <td>12.158667</td>\n",
       "      <td>11.561333</td>\n",
       "      <td>12.100000</td>\n",
       "      <td>118011000</td>\n",
       "      <td>81.377569</td>\n",
       "      <td>71.893773</td>\n",
       "      <td>95.675937</td>\n",
       "      <td>112.464472</td>\n",
       "      <td>...</td>\n",
       "      <td>10.556940</td>\n",
       "      <td>9.925292</td>\n",
       "      <td>0.551802</td>\n",
       "      <td>10.479700</td>\n",
       "      <td>0.597334</td>\n",
       "      <td>0.551808</td>\n",
       "      <td>0.523853</td>\n",
       "      <td>11.640000</td>\n",
       "      <td>2014-01-23</td>\n",
       "      <td>1</td>\n",
       "    </tr>\n",
       "    <tr>\n",
       "      <th>3</th>\n",
       "      <td>2014-01-30</td>\n",
       "      <td>11.866667</td>\n",
       "      <td>12.318667</td>\n",
       "      <td>11.800667</td>\n",
       "      <td>12.189333</td>\n",
       "      <td>128475000</td>\n",
       "      <td>67.795699</td>\n",
       "      <td>65.500867</td>\n",
       "      <td>135.676579</td>\n",
       "      <td>91.117968</td>\n",
       "      <td>...</td>\n",
       "      <td>10.580413</td>\n",
       "      <td>10.099525</td>\n",
       "      <td>0.569731</td>\n",
       "      <td>10.878933</td>\n",
       "      <td>0.636667</td>\n",
       "      <td>0.580599</td>\n",
       "      <td>0.550491</td>\n",
       "      <td>12.094000</td>\n",
       "      <td>2014-01-30</td>\n",
       "      <td>1</td>\n",
       "    </tr>\n",
       "    <tr>\n",
       "      <th>4</th>\n",
       "      <td>2014-02-07</td>\n",
       "      <td>12.067333</td>\n",
       "      <td>12.442000</td>\n",
       "      <td>11.973333</td>\n",
       "      <td>12.435333</td>\n",
       "      <td>133927500</td>\n",
       "      <td>67.432967</td>\n",
       "      <td>64.506920</td>\n",
       "      <td>124.186582</td>\n",
       "      <td>164.314061</td>\n",
       "      <td>...</td>\n",
       "      <td>10.639707</td>\n",
       "      <td>10.311282</td>\n",
       "      <td>0.503743</td>\n",
       "      <td>11.484767</td>\n",
       "      <td>0.550000</td>\n",
       "      <td>0.549203</td>\n",
       "      <td>0.543070</td>\n",
       "      <td>13.104000</td>\n",
       "      <td>2014-02-07</td>\n",
       "      <td>1</td>\n",
       "    </tr>\n",
       "    <tr>\n",
       "      <th>...</th>\n",
       "      <td>...</td>\n",
       "      <td>...</td>\n",
       "      <td>...</td>\n",
       "      <td>...</td>\n",
       "      <td>...</td>\n",
       "      <td>...</td>\n",
       "      <td>...</td>\n",
       "      <td>...</td>\n",
       "      <td>...</td>\n",
       "      <td>...</td>\n",
       "      <td>...</td>\n",
       "      <td>...</td>\n",
       "      <td>...</td>\n",
       "      <td>...</td>\n",
       "      <td>...</td>\n",
       "      <td>...</td>\n",
       "      <td>...</td>\n",
       "      <td>...</td>\n",
       "      <td>...</td>\n",
       "      <td>...</td>\n",
       "      <td>...</td>\n",
       "    </tr>\n",
       "    <tr>\n",
       "      <th>1730</th>\n",
       "      <td>2023-06-23</td>\n",
       "      <td>259.290009</td>\n",
       "      <td>262.450012</td>\n",
       "      <td>252.800003</td>\n",
       "      <td>256.600006</td>\n",
       "      <td>176584100</td>\n",
       "      <td>59.134714</td>\n",
       "      <td>67.605443</td>\n",
       "      <td>-49.271813</td>\n",
       "      <td>45.687791</td>\n",
       "      <td>...</td>\n",
       "      <td>194.358300</td>\n",
       "      <td>199.452397</td>\n",
       "      <td>20.757503</td>\n",
       "      <td>234.193000</td>\n",
       "      <td>11.809982</td>\n",
       "      <td>12.403982</td>\n",
       "      <td>10.857072</td>\n",
       "      <td>241.050003</td>\n",
       "      <td>2023-06-23</td>\n",
       "      <td>12</td>\n",
       "    </tr>\n",
       "    <tr>\n",
       "      <th>1731</th>\n",
       "      <td>2023-06-26</td>\n",
       "      <td>250.070007</td>\n",
       "      <td>258.369995</td>\n",
       "      <td>240.699997</td>\n",
       "      <td>241.050003</td>\n",
       "      <td>179990600</td>\n",
       "      <td>43.501290</td>\n",
       "      <td>56.577273</td>\n",
       "      <td>-151.893659</td>\n",
       "      <td>-17.338699</td>\n",
       "      <td>...</td>\n",
       "      <td>195.036600</td>\n",
       "      <td>200.276112</td>\n",
       "      <td>18.473643</td>\n",
       "      <td>237.022000</td>\n",
       "      <td>17.669998</td>\n",
       "      <td>13.156270</td>\n",
       "      <td>11.343710</td>\n",
       "      <td>250.210007</td>\n",
       "      <td>2023-06-26</td>\n",
       "      <td>25</td>\n",
       "    </tr>\n",
       "    <tr>\n",
       "      <th>1732</th>\n",
       "      <td>2023-06-27</td>\n",
       "      <td>243.240005</td>\n",
       "      <td>250.389999</td>\n",
       "      <td>240.850006</td>\n",
       "      <td>250.210007</td>\n",
       "      <td>164968200</td>\n",
       "      <td>52.188088</td>\n",
       "      <td>60.649414</td>\n",
       "      <td>-110.916391</td>\n",
       "      <td>-33.229307</td>\n",
       "      <td>...</td>\n",
       "      <td>195.724600</td>\n",
       "      <td>201.264902</td>\n",
       "      <td>17.204480</td>\n",
       "      <td>239.874001</td>\n",
       "      <td>9.539993</td>\n",
       "      <td>12.639659</td>\n",
       "      <td>11.214873</td>\n",
       "      <td>256.239990</td>\n",
       "      <td>2023-06-27</td>\n",
       "      <td>30</td>\n",
       "    </tr>\n",
       "    <tr>\n",
       "      <th>1733</th>\n",
       "      <td>2023-06-28</td>\n",
       "      <td>249.699997</td>\n",
       "      <td>259.880005</td>\n",
       "      <td>248.889999</td>\n",
       "      <td>256.239990</td>\n",
       "      <td>159770800</td>\n",
       "      <td>57.237610</td>\n",
       "      <td>63.102474</td>\n",
       "      <td>-22.414632</td>\n",
       "      <td>11.211311</td>\n",
       "      <td>...</td>\n",
       "      <td>196.404300</td>\n",
       "      <td>202.353517</td>\n",
       "      <td>16.495083</td>\n",
       "      <td>242.628000</td>\n",
       "      <td>10.990006</td>\n",
       "      <td>12.403994</td>\n",
       "      <td>11.198811</td>\n",
       "      <td>257.500000</td>\n",
       "      <td>2023-06-28</td>\n",
       "      <td>11</td>\n",
       "    </tr>\n",
       "    <tr>\n",
       "      <th>1734</th>\n",
       "      <td>2023-06-29</td>\n",
       "      <td>258.029999</td>\n",
       "      <td>260.739990</td>\n",
       "      <td>253.610001</td>\n",
       "      <td>257.500000</td>\n",
       "      <td>131283400</td>\n",
       "      <td>58.310959</td>\n",
       "      <td>63.612917</td>\n",
       "      <td>26.225340</td>\n",
       "      <td>20.369251</td>\n",
       "      <td>...</td>\n",
       "      <td>197.079500</td>\n",
       "      <td>203.445527</td>\n",
       "      <td>15.851824</td>\n",
       "      <td>245.306500</td>\n",
       "      <td>7.129989</td>\n",
       "      <td>11.650565</td>\n",
       "      <td>10.908181</td>\n",
       "      <td>261.769989</td>\n",
       "      <td>2023-06-29</td>\n",
       "      <td>4</td>\n",
       "    </tr>\n",
       "  </tbody>\n",
       "</table>\n",
       "<p>1735 rows × 22 columns</p>\n",
       "</div>"
      ],
      "text/plain": [
       "           date        open        high         low       close     volume  \\\n",
       "0    2014-01-06   10.000000   10.026667    9.682667    9.800000   80416500   \n",
       "1    2014-01-07    9.841333   10.026667    9.683333    9.957333   75511500   \n",
       "2    2014-01-23   11.815333   12.158667   11.561333   12.100000  118011000   \n",
       "3    2014-01-30   11.866667   12.318667   11.800667   12.189333  128475000   \n",
       "4    2014-02-07   12.067333   12.442000   11.973333   12.435333  133927500   \n",
       "...         ...         ...         ...         ...         ...        ...   \n",
       "1730 2023-06-23  259.290009  262.450012  252.800003  256.600006  176584100   \n",
       "1731 2023-06-26  250.070007  258.369995  240.699997  241.050003  179990600   \n",
       "1732 2023-06-27  243.240005  250.389999  240.850006  250.210007  164968200   \n",
       "1733 2023-06-28  249.699997  259.880005  248.889999  256.239990  159770800   \n",
       "1734 2023-06-29  258.029999  260.739990  253.610001  257.500000  131283400   \n",
       "\n",
       "          rsi_7     rsi_14       cci_7      cci_14  ...     sma_100  \\\n",
       "0     46.328174  50.870410 -123.427544  -37.824708  ...   10.496740   \n",
       "1     53.263037  53.406750  -84.784651  -20.779431  ...   10.503407   \n",
       "2     81.377569  71.893773   95.675937  112.464472  ...   10.556940   \n",
       "3     67.795699  65.500867  135.676579   91.117968  ...   10.580413   \n",
       "4     67.432967  64.506920  124.186582  164.314061  ...   10.639707   \n",
       "...         ...        ...         ...         ...  ...         ...   \n",
       "1730  59.134714  67.605443  -49.271813   45.687791  ...  194.358300   \n",
       "1731  43.501290  56.577273 -151.893659  -17.338699  ...  195.036600   \n",
       "1732  52.188088  60.649414 -110.916391  -33.229307  ...  195.724600   \n",
       "1733  57.237610  63.102474  -22.414632   11.211311  ...  196.404300   \n",
       "1734  58.310959  63.612917   26.225340   20.369251  ...  197.079500   \n",
       "\n",
       "         ema_100       macd   bollinger  TrueRange      atr_7     atr_14  \\\n",
       "0       9.682577   0.141790    9.797900   0.344000   0.374267   0.426343   \n",
       "1       9.688051   0.136402    9.837900   0.343334   0.369848   0.420414   \n",
       "2       9.925292   0.551802   10.479700   0.597334   0.551808   0.523853   \n",
       "3      10.099525   0.569731   10.878933   0.636667   0.580599   0.550491   \n",
       "4      10.311282   0.503743   11.484767   0.550000   0.549203   0.543070   \n",
       "...          ...        ...         ...        ...        ...        ...   \n",
       "1730  199.452397  20.757503  234.193000  11.809982  12.403982  10.857072   \n",
       "1731  200.276112  18.473643  237.022000  17.669998  13.156270  11.343710   \n",
       "1732  201.264902  17.204480  239.874001   9.539993  12.639659  11.214873   \n",
       "1733  202.353517  16.495083  242.628000  10.990006  12.403994  11.198811   \n",
       "1734  203.445527  15.851824  245.306500   7.129989  11.650565  10.908181   \n",
       "\n",
       "      next_day_close       Date  Tweet Count  \n",
       "0           9.957333 2014-01-06            2  \n",
       "1          10.085333 2014-01-07            1  \n",
       "2          11.640000 2014-01-23            1  \n",
       "3          12.094000 2014-01-30            1  \n",
       "4          13.104000 2014-02-07            1  \n",
       "...              ...        ...          ...  \n",
       "1730      241.050003 2023-06-23           12  \n",
       "1731      250.210007 2023-06-26           25  \n",
       "1732      256.239990 2023-06-27           30  \n",
       "1733      257.500000 2023-06-28           11  \n",
       "1734      261.769989 2023-06-29            4  \n",
       "\n",
       "[1735 rows x 22 columns]"
      ]
     },
     "execution_count": 136,
     "metadata": {},
     "output_type": "execute_result"
    }
   ],
   "source": [
    "combine_datasets(tesla, musk, \"Date\")"
   ]
  },
  {
   "cell_type": "code",
   "execution_count": 159,
   "id": "3e0a4659-f4d9-448a-8198-3f4ef7bb2ef0",
   "metadata": {},
   "outputs": [],
   "source": [
    "### JJK reference ahahahah\n",
    "the_merger = combine_datasets(tesla, musk, \"Date\")"
   ]
  },
  {
   "cell_type": "code",
   "execution_count": 193,
   "id": "47996ae5-5191-4736-a394-4faec2196b92",
   "metadata": {},
   "outputs": [],
   "source": [
    "max_high = the_merger[\"high\"].max()"
   ]
  },
  {
   "cell_type": "code",
   "execution_count": 195,
   "id": "a6f52654-0085-4f60-8bb3-ce1a70926a48",
   "metadata": {},
   "outputs": [
    {
     "data": {
      "text/plain": [
       "414.496674"
      ]
     },
     "execution_count": 195,
     "metadata": {},
     "output_type": "execute_result"
    }
   ],
   "source": [
    "max_high"
   ]
  },
  {
   "cell_type": "code",
   "execution_count": 201,
   "id": "b72b9cc6-5ce4-4b1c-aecf-fa29991bb6b3",
   "metadata": {},
   "outputs": [
    {
     "data": {
      "text/plain": [
       "<Axes: xlabel='high', ylabel='Tweet Count'>"
      ]
     },
     "execution_count": 201,
     "metadata": {},
     "output_type": "execute_result"
    },
    {
     "data": {
      "image/png": "[encoded data removed]",
      "text/plain": [
       "<Figure size 640x480 with 1 Axes>"
      ]
     },
     "metadata": {},
     "output_type": "display_data"
    }
   ],
   "source": [
    "sns.scatterplot(data=the_merger, x=\"high\", y=\"Tweet Count\")"
   ]
  },
  {
   "cell_type": "code",
   "execution_count": 197,
   "id": "29f51164-942e-47a2-848a-bf9eb1b36e08",
   "metadata": {},
   "outputs": [
    {
     "data": {
      "text/html": [
       "<div>\n",
       "<style scoped>\n",
       "    .dataframe tbody tr th:only-of-type {\n",
       "        vertical-align: middle;\n",
       "    }\n",
       "\n",
       "    .dataframe tbody tr th {\n",
       "        vertical-align: top;\n",
       "    }\n",
       "\n",
       "    .dataframe thead th {\n",
       "        text-align: right;\n",
       "    }\n",
       "</style>\n",
       "<table border=\"1\" class=\"dataframe\">\n",
       "  <thead>\n",
       "    <tr style=\"text-align: right;\">\n",
       "      <th></th>\n",
       "      <th>date</th>\n",
       "      <th>open</th>\n",
       "      <th>high</th>\n",
       "      <th>low</th>\n",
       "      <th>close</th>\n",
       "      <th>volume</th>\n",
       "      <th>rsi_7</th>\n",
       "      <th>rsi_14</th>\n",
       "      <th>cci_7</th>\n",
       "      <th>cci_14</th>\n",
       "      <th>...</th>\n",
       "      <th>sma_100</th>\n",
       "      <th>ema_100</th>\n",
       "      <th>macd</th>\n",
       "      <th>bollinger</th>\n",
       "      <th>TrueRange</th>\n",
       "      <th>atr_7</th>\n",
       "      <th>atr_14</th>\n",
       "      <th>next_day_close</th>\n",
       "      <th>Date</th>\n",
       "      <th>Tweet Count</th>\n",
       "    </tr>\n",
       "  </thead>\n",
       "  <tbody>\n",
       "    <tr>\n",
       "      <th>1340</th>\n",
       "      <td>2021-11-04</td>\n",
       "      <td>411.470001</td>\n",
       "      <td>414.496674</td>\n",
       "      <td>405.666656</td>\n",
       "      <td>409.970001</td>\n",
       "      <td>76192200</td>\n",
       "      <td>87.215563</td>\n",
       "      <td>87.180687</td>\n",
       "      <td>97.925539</td>\n",
       "      <td>117.675327</td>\n",
       "      <td>...</td>\n",
       "      <td>252.022101</td>\n",
       "      <td>266.26757</td>\n",
       "      <td>37.203652</td>\n",
       "      <td>322.599834</td>\n",
       "      <td>9.876679</td>\n",
       "      <td>17.255331</td>\n",
       "      <td>14.145174</td>\n",
       "      <td>407.363342</td>\n",
       "      <td>2021-11-04</td>\n",
       "      <td>11</td>\n",
       "    </tr>\n",
       "  </tbody>\n",
       "</table>\n",
       "<p>1 rows × 22 columns</p>\n",
       "</div>"
      ],
      "text/plain": [
       "           date        open        high         low       close    volume  \\\n",
       "1340 2021-11-04  411.470001  414.496674  405.666656  409.970001  76192200   \n",
       "\n",
       "          rsi_7     rsi_14      cci_7      cci_14  ...     sma_100    ema_100  \\\n",
       "1340  87.215563  87.180687  97.925539  117.675327  ...  252.022101  266.26757   \n",
       "\n",
       "           macd   bollinger  TrueRange      atr_7     atr_14  next_day_close  \\\n",
       "1340  37.203652  322.599834   9.876679  17.255331  14.145174      407.363342   \n",
       "\n",
       "           Date  Tweet Count  \n",
       "1340 2021-11-04           11  \n",
       "\n",
       "[1 rows x 22 columns]"
      ]
     },
     "execution_count": 197,
     "metadata": {},
     "output_type": "execute_result"
    }
   ],
   "source": [
    "the_merger[the_merger[\"high\"] == 414.496674]"
   ]
  },
  {
   "cell_type": "code",
   "execution_count": 203,
   "id": "29cc4ea2-f447-4c16-aa56-d8f3e3531947",
   "metadata": {},
   "outputs": [
    {
     "data": {
      "text/plain": [
       "411.470001"
      ]
     },
     "execution_count": 203,
     "metadata": {},
     "output_type": "execute_result"
    }
   ],
   "source": [
    "the_merger[\"open\"].max()"
   ]
  },
  {
   "cell_type": "code",
   "execution_count": null,
   "id": "4935bb05-a74d-4651-96f4-75a12d90b7f1",
   "metadata": {},
   "outputs": [],
   "source": []
  }
 ],
 "metadata": {
  "kernelspec": {
   "display_name": "Python 3 (ipykernel)",
   "language": "python",
   "name": "python3"
  },
  "language_info": {
   "codemirror_mode": {
    "name": "ipython",
    "version": 3
   },
   "file_extension": ".py",
   "mimetype": "text/x-python",
   "name": "python",
   "nbconvert_exporter": "python",
   "pygments_lexer": "ipython3",
   "version": "3.9.13"
  }
 },
 "nbformat": 4,
 "nbformat_minor": 5
}
