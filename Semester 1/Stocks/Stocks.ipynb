{
 "cells": [
  {
   "cell_type": "code",
   "execution_count": 27,
   "id": "a9cb1d2b",
   "metadata": {},
   "outputs": [],
   "source": [
    "import pandas as pd\n",
    "import seaborn as sns\n",
    "import matplotlib.pyplot as plt\n",
    "from scipy.stats import pearsonr\n",
    "df = pd.read_json(\"gme.json\")"
   ]
  },
  {
   "cell_type": "code",
   "execution_count": 28,
   "id": "f4bb1f1c",
   "metadata": {},
   "outputs": [
    {
     "name": "stdout",
     "output_type": "stream",
     "text": [
      "<class 'pandas.core.frame.DataFrame'>\n",
      "RangeIndex: 5600 entries, 0 to 5599\n",
      "Data columns (total 7 columns):\n",
      " #   Column     Non-Null Count  Dtype         \n",
      "---  ------     --------------  -----         \n",
      " 0   Date       5600 non-null   datetime64[ns]\n",
      " 1   Open       5600 non-null   float64       \n",
      " 2   High       5600 non-null   float64       \n",
      " 3   Low        5600 non-null   float64       \n",
      " 4   Close      5600 non-null   float64       \n",
      " 5   Adj Close  5600 non-null   float64       \n",
      " 6   Volume     5600 non-null   int64         \n",
      "dtypes: datetime64[ns](1), float64(5), int64(1)\n",
      "memory usage: 306.4 KB\n"
     ]
    }
   ],
   "source": [
    "df.info()"
   ]
  },
  {
   "cell_type": "markdown",
   "id": "6f06d88b",
   "metadata": {},
   "source": [
    "#### The variables found on this dataset  is the \n",
    "Date- which was the date that the stock was watched, \n",
    "Open- This was the price when the market opened, \n",
    "High- the highest price it went for , \n",
    "Low - how low the price went for on a particular day, \n",
    "Close- how much it was sold when the market closed, \n",
    "Adj Close- The adjusted price of a stock when the market closes,\n",
    "Volume- The number of the stocks being traded in a single day."
   ]
  },
  {
   "cell_type": "code",
   "execution_count": 29,
   "id": "cd97c496",
   "metadata": {},
   "outputs": [
    {
     "data": {
      "text/plain": [
       "120.75"
      ]
     },
     "execution_count": 29,
     "metadata": {},
     "output_type": "execute_result"
    }
   ],
   "source": [
    "df[\"High\"].max()"
   ]
  },
  {
   "cell_type": "code",
   "execution_count": 30,
   "id": "0f021b54",
   "metadata": {},
   "outputs": [
    {
     "data": {
      "text/html": [
       "<div>\n",
       "<style scoped>\n",
       "    .dataframe tbody tr th:only-of-type {\n",
       "        vertical-align: middle;\n",
       "    }\n",
       "\n",
       "    .dataframe tbody tr th {\n",
       "        vertical-align: top;\n",
       "    }\n",
       "\n",
       "    .dataframe thead th {\n",
       "        text-align: right;\n",
       "    }\n",
       "</style>\n",
       "<table border=\"1\" class=\"dataframe\">\n",
       "  <thead>\n",
       "    <tr style=\"text-align: right;\">\n",
       "      <th></th>\n",
       "      <th>Date</th>\n",
       "      <th>Open</th>\n",
       "      <th>High</th>\n",
       "      <th>Low</th>\n",
       "      <th>Close</th>\n",
       "      <th>Adj Close</th>\n",
       "      <th>Volume</th>\n",
       "    </tr>\n",
       "  </thead>\n",
       "  <tbody>\n",
       "    <tr>\n",
       "      <th>4772</th>\n",
       "      <td>2021-01-28</td>\n",
       "      <td>66.25</td>\n",
       "      <td>120.75</td>\n",
       "      <td>28.0625</td>\n",
       "      <td>48.400002</td>\n",
       "      <td>48.400002</td>\n",
       "      <td>235263200</td>\n",
       "    </tr>\n",
       "  </tbody>\n",
       "</table>\n",
       "</div>"
      ],
      "text/plain": [
       "           Date   Open    High      Low      Close  Adj Close     Volume\n",
       "4772 2021-01-28  66.25  120.75  28.0625  48.400002  48.400002  235263200"
      ]
     },
     "execution_count": 30,
     "metadata": {},
     "output_type": "execute_result"
    }
   ],
   "source": [
    "df[df[\"High\"] == 120.75]"
   ]
  },
  {
   "cell_type": "markdown",
   "id": "71016e9e",
   "metadata": {},
   "source": [
    "### The date that GameStop reached an all time high was on 1/28/21(January 28, 2021)."
   ]
  },
  {
   "cell_type": "markdown",
   "id": "b8a3e7e6",
   "metadata": {},
   "source": [
    "#### This was our attempt to find the average of each month"
   ]
  },
  {
   "cell_type": "code",
   "execution_count": 31,
   "id": "86b5e54e",
   "metadata": {},
   "outputs": [],
   "source": [
    "#df[\"Month\"] = df[\"Date\"].dt.month"
   ]
  },
  {
   "cell_type": "code",
   "execution_count": 32,
   "id": "b5730d0b",
   "metadata": {},
   "outputs": [],
   "source": [
    "#jan = df[df[\"Month\"] == 1] feb = df[df[\"Month\"] == 2] mar = df[df[\"Month\"] == 3] apr = df[df[\"Month\"] == 4]\n",
    "#may = df[df[\"Month\"] == 5] jun = df[df[\"Month\"] == 6] jul = df[df[\"Month\"] == 7] aug = df[df[\"Month\"] == 8]\n",
    "#sep = df[df[\"Month\"] == 9] octo = df[df[\"Month\"] == 10] nov = df[df[\"Month\"] == 11] dec = df[df[\"Month\"] == 12]"
   ]
  },
  {
   "cell_type": "markdown",
   "id": "d10d7efc",
   "metadata": {},
   "source": [
    "#### Teacher Live\n",
    "##### Note that we can also do \".year\" and \".day\" where the \".month\" is."
   ]
  },
  {
   "cell_type": "code",
   "execution_count": 33,
   "id": "6792d49a",
   "metadata": {},
   "outputs": [
    {
     "data": {
      "text/plain": [
       "<attribute 'month' of 'datetime.date' objects>"
      ]
     },
     "execution_count": 33,
     "metadata": {},
     "output_type": "execute_result"
    }
   ],
   "source": [
    "type(df.loc[0][\"Date\"]).month"
   ]
  },
  {
   "cell_type": "code",
   "execution_count": 37,
   "id": "b88d7d04",
   "metadata": {},
   "outputs": [
    {
     "data": {
      "text/plain": [
       "8.394146076404493"
      ]
     },
     "execution_count": 37,
     "metadata": {},
     "output_type": "execute_result"
    }
   ],
   "source": [
    "count = 0\n",
    "total = 0\n",
    "\n",
    "for i in range(len(df)):\n",
    "    if df.loc[i][\"Date\"].month == 1:\n",
    "        avg = (df.loc[i][\"High\"] + df.loc[i][\"Low\"]) / 2\n",
    "        total += avg\n",
    "        count += 1\n",
    "total/count"
   ]
  },
  {
   "cell_type": "code",
   "execution_count": null,
   "id": "1066c518",
   "metadata": {},
   "outputs": [],
   "source": []
  }
 ],
 "metadata": {
  "kernelspec": {
   "display_name": "Python 3 (ipykernel)",
   "language": "python",
   "name": "python3"
  },
  "language_info": {
   "codemirror_mode": {
    "name": "ipython",
    "version": 3
   },
   "file_extension": ".py",
   "mimetype": "text/x-python",
   "name": "python",
   "nbconvert_exporter": "python",
   "pygments_lexer": "ipython3",
   "version": "3.9.13"
  }
 },
 "nbformat": 4,
 "nbformat_minor": 5
}
