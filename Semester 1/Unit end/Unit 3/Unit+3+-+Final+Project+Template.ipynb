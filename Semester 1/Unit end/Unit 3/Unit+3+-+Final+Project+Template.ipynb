{
 "cells": [
  {
   "cell_type": "markdown",
   "id": "9919c268",
   "metadata": {},
   "source": [
    "# Choose a Data Set\n",
    "\n",
    "Create your own dataset by scraping one of the following websites *(level 5)*:\n",
    "- [Wikipedia](https://www.wikipedia.org/)\n",
    "- [OpenLibrary](https://openlibrary.org/)\n",
    "\n",
    "**OR** \n",
    "\n",
    "Use data gathered from one of the following APIs *(level 4)*: \n",
    "- [TMDB](https://developer.themoviedb.org/reference/intro/getting-started)\n",
    "- [College Scorecard](https://collegescorecard.ed.gov/data/api-documentation/)\n",
    "\n",
    "**OR** \n",
    "\n",
    "Pick a JSON dataset *(level 3)*:\n",
    "- [Food/Restaurant Data](https://drive.google.com/drive/folders/1V94S6WpclvQmbnW88KVMD4EruryA1oma?usp=drive_link)\n",
    "- [Fashion Data](https://drive.google.com/drive/folders/1V8SbFjtRRW8WVf3xBzg0gzLjOtMhHea_?usp=drive_link)\n",
    "\n",
    "**OR** \n",
    "\n",
    "Pick a CSV dataset *(level 2)*:\n",
    "- [LA Parking Tickets](https://drive.google.com/drive/folders/1vaOfwMi6QmZEGsXr8VM0ulPGzvTTBCgm?usp=drive_link)\n",
    "- [Hotels](https://drive.google.com/drive/folders/1IpVFxgwBJvJHKoOuBsk6WK2qYqFYP4hi?usp=drive_link)"
   ]
  },
  {
   "cell_type": "markdown",
   "id": "ae147ea6",
   "metadata": {},
   "source": [
    "# My Question\n",
    "### When searching for books, you type in \"Japan\".  \n",
    "### What is the expected amount of ratings that a book in the top rated category would get and what is the expected rating? Also, what is the probability of a book getting a rating of 4 stars or higher?\n",
    "*To get here, just click the search, press enter, then when searching something, change the type to \"Top Rated\""
   ]
  },
  {
   "cell_type": "markdown",
   "id": "149f324f",
   "metadata": {},
   "source": [
    "# My Answer"
   ]
  },
  {
   "cell_type": "code",
   "execution_count": 17,
   "id": "b228559e",
   "metadata": {},
   "outputs": [],
   "source": [
    "#Importing what we need\n",
    "from bs4 import BeautifulSoup\n",
    "import requests\n",
    "import pandas as pd\n",
    "import re\n"
   ]
  },
  {
   "cell_type": "code",
   "execution_count": 20,
   "id": "4ae5701b",
   "metadata": {},
   "outputs": [],
   "source": [
    "url = \"https://openlibrary.org/search?q=Japan&mode=everything&sort=rating&page=1\"\n",
    "response = requests.get(url)\n",
    "soup = BeautifulSoup(response.content, 'html.parser')\n",
    "book_ratings = {\"Title\": [], \"Author\": [], \"Amount_Ratings\": [], \"Rating\": []}\n",
    "\n"
   ]
  },
  {
   "cell_type": "code",
   "execution_count": 36,
   "id": "d8ecdce0",
   "metadata": {},
   "outputs": [],
   "source": [
    "titles = soup.find_all(\"h3\", {\"class\": \"booktitle\"})\n",
    "for title in titles:\n",
    "    title = str(title.get_text().strip())\n",
    "    book_ratings[\"Title\"].append(title)\n",
    "\n",
    "    \n",
    "span_rate = soup.find_all('span', itemprop='ratingValue')\n",
    "for span in span_rate:\n",
    "        text = span.text.strip()\n",
    "        match = re.search(r'\\((\\d+)\\)', text)  \n",
    "\n",
    "        if match:\n",
    "            num_ratings = match.group(1)\n",
    "            book_ratings[\"Amount_Ratings\"].append(num_ratings)\n",
    "            \n",
    "            \n",
    "just_rate = soup.find_all('span', itemprop='ratingValue')            \n",
    "for span in just_rate:\n",
    "    another_text = span.text.strip()\n",
    "    match = re.search(r'(\\d+\\.\\d+)', text)\n",
    "    \n",
    "    if match:\n",
    "        numy_ratings = match.group(1)\n",
    "        book_ratings[\"Rating\"].append(numy_ratings)\n",
    "            \n",
    "authors = soup.find_all(\"a\")  \n",
    "            \n",
    "for author in authors:\n",
    "    if \"/authors/\" in author.get(\"href\", \"\"): \n",
    "        book_ratings[\"Author\"].append(author.get_text(strip=True))\n",
    "\n",
    "min_length = min(len(book_ratings[key]) for key in book_ratings)\n",
    "\n",
    "# Trim all lists in book_info to the minimum length\n",
    "for key in book_ratings:\n",
    "    book_ratings[key] = book_ratings[key][:min_length]"
   ]
  },
  {
   "cell_type": "code",
   "execution_count": 37,
   "id": "05f22e1d",
   "metadata": {},
   "outputs": [],
   "source": [
    "df = pd.DataFrame(book_ratings)"
   ]
  },
  {
   "cell_type": "code",
   "execution_count": 38,
   "id": "b4a55273",
   "metadata": {},
   "outputs": [
    {
     "data": {
      "text/html": [
       "<div>\n",
       "<style scoped>\n",
       "    .dataframe tbody tr th:only-of-type {\n",
       "        vertical-align: middle;\n",
       "    }\n",
       "\n",
       "    .dataframe tbody tr th {\n",
       "        vertical-align: top;\n",
       "    }\n",
       "\n",
       "    .dataframe thead th {\n",
       "        text-align: right;\n",
       "    }\n",
       "</style>\n",
       "<table border=\"1\" class=\"dataframe\">\n",
       "  <thead>\n",
       "    <tr style=\"text-align: right;\">\n",
       "      <th></th>\n",
       "      <th>Title</th>\n",
       "      <th>Author</th>\n",
       "      <th>Amount_Ratings</th>\n",
       "      <th>Rating</th>\n",
       "    </tr>\n",
       "  </thead>\n",
       "  <tbody>\n",
       "  </tbody>\n",
       "</table>\n",
       "</div>"
      ],
      "text/plain": [
       "Empty DataFrame\n",
       "Columns: [Title, Author, Amount_Ratings, Rating]\n",
       "Index: []"
      ]
     },
     "execution_count": 38,
     "metadata": {},
     "output_type": "execute_result"
    }
   ],
   "source": [
    "df"
   ]
  },
  {
   "cell_type": "code",
   "execution_count": null,
   "id": "8bd43804",
   "metadata": {},
   "outputs": [],
   "source": []
  },
  {
   "cell_type": "code",
   "execution_count": null,
   "id": "85b67fa3",
   "metadata": {},
   "outputs": [],
   "source": []
  },
  {
   "cell_type": "code",
   "execution_count": null,
   "id": "7066712f",
   "metadata": {},
   "outputs": [],
   "source": []
  },
  {
   "cell_type": "code",
   "execution_count": null,
   "id": "029408b4",
   "metadata": {},
   "outputs": [],
   "source": []
  },
  {
   "cell_type": "code",
   "execution_count": 9,
   "id": "b8b0ea5d",
   "metadata": {},
   "outputs": [],
   "source": [
    "def scrape_page(page_number):\n",
    "    url = f'https://openlibrary.org/search?q=Japan&mode=everything&sort=rating&page={page_number}'  \n",
    "    response = requests.get(url)    \n",
    "    soup = BeautifulSoup(response.content, 'html.parser')\n",
    "\n",
    "    data = []\n",
    "    rows = soup.find_all('div', class_='item')  \n",
    "\n",
    "    for row in rows:\n",
    "        title = row.find('h2').text.strip() \n",
    "        description = row.find('p').text.strip() \n",
    "        data.append({'Title': title, 'Description': description})\n",
    "    \n",
    "    return data\n",
    "\n"
   ]
  },
  {
   "cell_type": "code",
   "execution_count": 11,
   "id": "244e277d",
   "metadata": {},
   "outputs": [
    {
     "data": {
      "text/plain": [
       "[]"
      ]
     },
     "execution_count": 11,
     "metadata": {},
     "output_type": "execute_result"
    }
   ],
   "source": [
    "scrape_page(1)"
   ]
  },
  {
   "cell_type": "code",
   "execution_count": 10,
   "id": "0b8c6590",
   "metadata": {},
   "outputs": [
    {
     "name": "stdout",
     "output_type": "stream",
     "text": [
      "Empty DataFrame\n",
      "Columns: []\n",
      "Index: []\n"
     ]
    }
   ],
   "source": [
    "def scrape_all_pages(total_pages):\n",
    "    all_data = []\n",
    "\n",
    "    for page_number in range(1, total_pages + 1):\n",
    "        page_data = scrape_page(page_number)\n",
    "        all_data.extend(page_data)\n",
    "\n",
    "    df = pd.DataFrame(all_data)\n",
    "    return df\n",
    "df = scrape_all_pages(5)\n",
    "print(df)\n"
   ]
  },
  {
   "cell_type": "code",
   "execution_count": null,
   "id": "267b47b7",
   "metadata": {},
   "outputs": [],
   "source": []
  },
  {
   "cell_type": "code",
   "execution_count": null,
   "id": "d530f02d",
   "metadata": {},
   "outputs": [],
   "source": [
    "  # Check if the request was successful\n",
    "    if response.status_code != 200:\n",
    "        print(f\"Failed to retrieve page {page_number}\")\n",
    "        return []\n"
   ]
  },
  {
   "cell_type": "markdown",
   "id": "a8bc8bcb",
   "metadata": {},
   "source": [
    "***Describe analysis here.***"
   ]
  },
  {
   "cell_type": "code",
   "execution_count": 2,
   "id": "69c67502",
   "metadata": {},
   "outputs": [],
   "source": [
    "# Alternate between code for analysis and markdown descriptions of your analysis\n",
    "# Add more code or markdown cells if needed to fully explain analysis"
   ]
  },
  {
   "cell_type": "markdown",
   "id": "4d93cfe1",
   "metadata": {},
   "source": [
    "***Describe analysis here.***"
   ]
  },
  {
   "cell_type": "code",
   "execution_count": 3,
   "id": "94e3fabf",
   "metadata": {},
   "outputs": [],
   "source": [
    "# Add more code/markdown cells here if you need them."
   ]
  }
 ],
 "metadata": {
  "kernelspec": {
   "display_name": "Python 3 (ipykernel)",
   "language": "python",
   "name": "python3"
  },
  "language_info": {
   "codemirror_mode": {
    "name": "ipython",
    "version": 3
   },
   "file_extension": ".py",
   "mimetype": "text/x-python",
   "name": "python",
   "nbconvert_exporter": "python",
   "pygments_lexer": "ipython3",
   "version": "3.9.13"
  }
 },
 "nbformat": 4,
 "nbformat_minor": 5
}
