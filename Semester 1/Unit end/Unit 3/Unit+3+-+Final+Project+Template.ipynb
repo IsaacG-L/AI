{
 "cells": [
  {
   "cell_type": "markdown",
   "id": "9919c268",
   "metadata": {},
   "source": [
    "# Choose a Data Set\n",
    "\n",
    "Create your own dataset by scraping one of the following websites *(level 5)*:\n",
    "- [Wikipedia](https://www.wikipedia.org/)\n",
    "- [OpenLibrary](https://openlibrary.org/)\n",
    "\n",
    "**OR** \n",
    "\n",
    "Use data gathered from one of the following APIs *(level 4)*: \n",
    "- [TMDB](https://developer.themoviedb.org/reference/intro/getting-started)\n",
    "- [College Scorecard](https://collegescorecard.ed.gov/data/api-documentation/)\n",
    "\n",
    "**OR** \n",
    "\n",
    "Pick a JSON dataset *(level 3)*:\n",
    "- [Food/Restaurant Data](https://drive.google.com/drive/folders/1V94S6WpclvQmbnW88KVMD4EruryA1oma?usp=drive_link)\n",
    "- [Fashion Data](https://drive.google.com/drive/folders/1V8SbFjtRRW8WVf3xBzg0gzLjOtMhHea_?usp=drive_link)\n",
    "\n",
    "**OR** \n",
    "\n",
    "Pick a CSV dataset *(level 2)*:\n",
    "- [LA Parking Tickets](https://drive.google.com/drive/folders/1vaOfwMi6QmZEGsXr8VM0ulPGzvTTBCgm?usp=drive_link)\n",
    "- [Hotels](https://drive.google.com/drive/folders/1IpVFxgwBJvJHKoOuBsk6WK2qYqFYP4hi?usp=drive_link)"
   ]
  },
  {
   "cell_type": "markdown",
   "id": "ae147ea6",
   "metadata": {},
   "source": [
    "# My Question\n",
    "### You are looking at the trending books, more specifically, the \"This Year\" trending category. If a book were to get into the \"This Year\" trending category, what is the expected amount of editions it would have? Also, what is the probabilty of the book having more than 100 editions?|"
   ]
  },
  {
   "cell_type": "markdown",
   "id": "149f324f",
   "metadata": {},
   "source": [
    "# My Answer"
   ]
  },
  {
   "cell_type": "code",
   "execution_count": 26,
   "id": "b228559e",
   "metadata": {},
   "outputs": [],
   "source": [
    "#Importing what we need\n",
    "from bs4 import BeautifulSoup\n",
    "import requests\n",
    "import pandas as pd\n",
    "import re\n",
    "import seaborn as sns\n",
    "\n",
    "import numpy as np\n",
    "\n"
   ]
  },
  {
   "cell_type": "code",
   "execution_count": 2,
   "id": "273276b2",
   "metadata": {},
   "outputs": [],
   "source": [
    "def cycle_through5(page):\n",
    "    book_ratings = {\"Title\": [], \"Author\": [], \"Editions\": []}  \n",
    "    count = 1  # Start from the first page\n",
    "\n",
    "    while count <= page: \n",
    "        url = f\"https://openlibrary.org/trending/yearly?page={count}\"\n",
    "        response = requests.get(url)\n",
    "        soup = BeautifulSoup(response.content, 'html.parser')\n",
    "\n",
    "        titles = soup.find_all(\"h3\", {\"class\": \"booktitle\"})\n",
    "        for title in titles:\n",
    "            book_ratings[\"Title\"].append(title.get_text(strip=True))\n",
    "\n",
    "        authors = soup.find_all(\"a\")\n",
    "        for author in authors:\n",
    "            if \"/authors/\" in author.get(\"href\", \"\"):\n",
    "                book_ratings[\"Author\"].append(author.get_text(strip=True))\n",
    "\n",
    "        \n",
    "        #span_rate = soup.find_all('span', itemprop='ratingValue')   ### Finding rating, but there was a chage of plans!\n",
    "        #for span in span_rate:\n",
    "            #text = span.text.strip()\n",
    "            #book_ratings[\"Rating\"].append(text)\n",
    "        \n",
    "        \n",
    "        editions = soup.find_all(\"a\")\n",
    "        for edition in editions:\n",
    "    \n",
    "            if \"/works/\" in edition.get(\"href\", \"\"):\n",
    "                edition_text = edition.get_text(strip=True)\n",
    "        \n",
    "                if \"edition\" in edition_text.lower():\n",
    "                    match = re.search(r'\\d+', edition_text) \n",
    "                    if match: \n",
    "                        number = match.group()  \n",
    "                        book_ratings[\"Editions\"].append(number)\n",
    "            \n",
    "        \n",
    "        print(f\"Page {count} scraped successfully.\")\n",
    "        count += 1\n",
    "\n",
    "    min_length = min(len(book_ratings[\"Title\"]), len(book_ratings[\"Author\"]), len(book_ratings[\"Editions\"]))\n",
    "    for key in book_ratings:\n",
    "        book_ratings[key] = book_ratings[key][:min_length]\n",
    "    return book_ratings"
   ]
  },
  {
   "cell_type": "code",
   "execution_count": 3,
   "id": "ca963529",
   "metadata": {},
   "outputs": [
    {
     "name": "stdout",
     "output_type": "stream",
     "text": [
      "Page 1 scraped successfully.\n",
      "Page 2 scraped successfully.\n",
      "Page 3 scraped successfully.\n",
      "Page 4 scraped successfully.\n",
      "Page 5 scraped successfully.\n",
      "Page 6 scraped successfully.\n",
      "Page 7 scraped successfully.\n",
      "Page 8 scraped successfully.\n",
      "Page 9 scraped successfully.\n",
      "Page 10 scraped successfully.\n",
      "Page 11 scraped successfully.\n",
      "Page 12 scraped successfully.\n",
      "Page 13 scraped successfully.\n",
      "Page 14 scraped successfully.\n",
      "Page 15 scraped successfully.\n",
      "Page 16 scraped successfully.\n",
      "Page 17 scraped successfully.\n",
      "Page 18 scraped successfully.\n",
      "Page 19 scraped successfully.\n",
      "Page 20 scraped successfully.\n"
     ]
    },
    {
     "data": {
      "text/html": [
       "<div>\n",
       "<style scoped>\n",
       "    .dataframe tbody tr th:only-of-type {\n",
       "        vertical-align: middle;\n",
       "    }\n",
       "\n",
       "    .dataframe tbody tr th {\n",
       "        vertical-align: top;\n",
       "    }\n",
       "\n",
       "    .dataframe thead th {\n",
       "        text-align: right;\n",
       "    }\n",
       "</style>\n",
       "<table border=\"1\" class=\"dataframe\">\n",
       "  <thead>\n",
       "    <tr style=\"text-align: right;\">\n",
       "      <th></th>\n",
       "      <th>Title</th>\n",
       "      <th>Author</th>\n",
       "      <th>Editions</th>\n",
       "    </tr>\n",
       "  </thead>\n",
       "  <tbody>\n",
       "    <tr>\n",
       "      <th>0</th>\n",
       "      <td>Atomic Habits</td>\n",
       "      <td>James Clear</td>\n",
       "      <td>41</td>\n",
       "    </tr>\n",
       "    <tr>\n",
       "      <th>1</th>\n",
       "      <td>Control Your Mind and Master Your Feelings</td>\n",
       "      <td>Eric Robertson - undifferentiated</td>\n",
       "      <td>3</td>\n",
       "    </tr>\n",
       "    <tr>\n",
       "      <th>2</th>\n",
       "      <td>The 48 Laws of Power</td>\n",
       "      <td>Robert Greene</td>\n",
       "      <td>52</td>\n",
       "    </tr>\n",
       "    <tr>\n",
       "      <th>3</th>\n",
       "      <td>It Ends With Us</td>\n",
       "      <td>Joost Elffers</td>\n",
       "      <td>34</td>\n",
       "    </tr>\n",
       "    <tr>\n",
       "      <th>4</th>\n",
       "      <td>I Don't Love You Anymore</td>\n",
       "      <td>Colleen Hoover</td>\n",
       "      <td>2</td>\n",
       "    </tr>\n",
       "    <tr>\n",
       "      <th>...</th>\n",
       "      <td>...</td>\n",
       "      <td>...</td>\n",
       "      <td>...</td>\n",
       "    </tr>\n",
       "    <tr>\n",
       "      <th>393</th>\n",
       "      <td>Beloved</td>\n",
       "      <td>Όμηρος</td>\n",
       "      <td>23</td>\n",
       "    </tr>\n",
       "    <tr>\n",
       "      <th>394</th>\n",
       "      <td>Heartless</td>\n",
       "      <td>Anatoly Shcharansky</td>\n",
       "      <td>104</td>\n",
       "    </tr>\n",
       "    <tr>\n",
       "      <th>395</th>\n",
       "      <td>Into the Wild</td>\n",
       "      <td>Benjamin Graham</td>\n",
       "      <td>11</td>\n",
       "    </tr>\n",
       "    <tr>\n",
       "      <th>396</th>\n",
       "      <td>The Blood of Olympus</td>\n",
       "      <td>Alice Oseman</td>\n",
       "      <td>38</td>\n",
       "    </tr>\n",
       "    <tr>\n",
       "      <th>397</th>\n",
       "      <td>New Moon</td>\n",
       "      <td>W Winters</td>\n",
       "      <td>26</td>\n",
       "    </tr>\n",
       "  </tbody>\n",
       "</table>\n",
       "<p>398 rows × 3 columns</p>\n",
       "</div>"
      ],
      "text/plain": [
       "                                          Title  \\\n",
       "0                                 Atomic Habits   \n",
       "1    Control Your Mind and Master Your Feelings   \n",
       "2                          The 48 Laws of Power   \n",
       "3                               It Ends With Us   \n",
       "4                      I Don't Love You Anymore   \n",
       "..                                          ...   \n",
       "393                                     Beloved   \n",
       "394                                   Heartless   \n",
       "395                               Into the Wild   \n",
       "396                        The Blood of Olympus   \n",
       "397                                    New Moon   \n",
       "\n",
       "                                Author Editions  \n",
       "0                          James Clear       41  \n",
       "1    Eric Robertson - undifferentiated        3  \n",
       "2                        Robert Greene       52  \n",
       "3                        Joost Elffers       34  \n",
       "4                       Colleen Hoover        2  \n",
       "..                                 ...      ...  \n",
       "393                             Όμηρος       23  \n",
       "394                Anatoly Shcharansky      104  \n",
       "395                    Benjamin Graham       11  \n",
       "396                       Alice Oseman       38  \n",
       "397                          W Winters       26  \n",
       "\n",
       "[398 rows x 3 columns]"
      ]
     },
     "execution_count": 3,
     "metadata": {},
     "output_type": "execute_result"
    }
   ],
   "source": [
    "df = pd.DataFrame(cycle_through5(20))\n",
    "df"
   ]
  },
  {
   "cell_type": "code",
   "execution_count": 4,
   "id": "0e4aba61",
   "metadata": {},
   "outputs": [],
   "source": [
    "df[\"Editions\"] = pd.to_numeric(df[\"Editions\"], errors='coerce')"
   ]
  },
  {
   "cell_type": "code",
   "execution_count": null,
   "id": "dbcc4fa3",
   "metadata": {},
   "outputs": [],
   "source": []
  },
  {
   "cell_type": "code",
   "execution_count": 5,
   "id": "694ecab1",
   "metadata": {},
   "outputs": [
    {
     "name": "stdout",
     "output_type": "stream",
     "text": [
      "<class 'pandas.core.frame.DataFrame'>\n",
      "RangeIndex: 398 entries, 0 to 397\n",
      "Data columns (total 3 columns):\n",
      " #   Column    Non-Null Count  Dtype \n",
      "---  ------    --------------  ----- \n",
      " 0   Title     398 non-null    object\n",
      " 1   Author    398 non-null    object\n",
      " 2   Editions  398 non-null    int64 \n",
      "dtypes: int64(1), object(2)\n",
      "memory usage: 9.5+ KB\n"
     ]
    }
   ],
   "source": [
    "df.info()"
   ]
  },
  {
   "cell_type": "markdown",
   "id": "a8bc8bcb",
   "metadata": {},
   "source": [
    "***Describe analysis here.***\n",
    "\n",
    "### The code above is just scraping the web pages needed to make a dataframe that we can use for the rest of the problem. \n",
    "Also, there are many variables that say \"book_ratings\" when we are not looking at book ratings anymore because of a fluke that we saw in the \"OpenLibrary\". We just didn't change the variable name. We also discovered the \"re\" import. Also, making the function print \"scraped successfully\" is fun to watch, so it was kept."
   ]
  },
  {
   "cell_type": "code",
   "execution_count": 24,
   "id": "69c67502",
   "metadata": {},
   "outputs": [],
   "source": [
    "# Alternate between code for analysis and markdown descriptions of your analysis\n",
    "# Add more code or markdown cells if needed to fully explain analysis\n",
    "\n",
    "# Define conditions and corresponding values\n",
    "conditions = [\n",
    "    df[\"Editions\"] > 500,\n",
    "    df[\"Editions\"] > 100,\n",
    "    df[\"Editions\"] > 50,\n",
    "    df[\"Editions\"] > 30,\n",
    "    df[\"Editions\"] > 20,\n",
    "    df[\"Editions\"] >= 6,\n",
    "    df[\"Editions\"] <= 5\n",
    "]\n",
    "values = [\"Way Too Many\", \"Too Many\", \"E_High\", \"High\", \"Medium\", \"Decent\", \"Few\"]\n",
    "\n",
    "# Assign values based on conditions\n",
    "df[\"Edition_groups\"] = np.select(conditions, values, default=0)"
   ]
  },
  {
   "cell_type": "code",
   "execution_count": 22,
   "id": "a7eda3c3",
   "metadata": {},
   "outputs": [
    {
     "data": {
      "text/html": [
       "<div>\n",
       "<style scoped>\n",
       "    .dataframe tbody tr th:only-of-type {\n",
       "        vertical-align: middle;\n",
       "    }\n",
       "\n",
       "    .dataframe tbody tr th {\n",
       "        vertical-align: top;\n",
       "    }\n",
       "\n",
       "    .dataframe thead th {\n",
       "        text-align: right;\n",
       "    }\n",
       "</style>\n",
       "<table border=\"1\" class=\"dataframe\">\n",
       "  <thead>\n",
       "    <tr style=\"text-align: right;\">\n",
       "      <th></th>\n",
       "      <th>Title</th>\n",
       "      <th>Author</th>\n",
       "      <th>Editions</th>\n",
       "      <th>Edition_groups</th>\n",
       "    </tr>\n",
       "  </thead>\n",
       "  <tbody>\n",
       "    <tr>\n",
       "      <th>0</th>\n",
       "      <td>Atomic Habits</td>\n",
       "      <td>James Clear</td>\n",
       "      <td>41</td>\n",
       "      <td>High</td>\n",
       "    </tr>\n",
       "    <tr>\n",
       "      <th>1</th>\n",
       "      <td>Control Your Mind and Master Your Feelings</td>\n",
       "      <td>Eric Robertson - undifferentiated</td>\n",
       "      <td>3</td>\n",
       "      <td>Few</td>\n",
       "    </tr>\n",
       "    <tr>\n",
       "      <th>2</th>\n",
       "      <td>The 48 Laws of Power</td>\n",
       "      <td>Robert Greene</td>\n",
       "      <td>52</td>\n",
       "      <td>E_High</td>\n",
       "    </tr>\n",
       "    <tr>\n",
       "      <th>3</th>\n",
       "      <td>It Ends With Us</td>\n",
       "      <td>Joost Elffers</td>\n",
       "      <td>34</td>\n",
       "      <td>High</td>\n",
       "    </tr>\n",
       "    <tr>\n",
       "      <th>4</th>\n",
       "      <td>I Don't Love You Anymore</td>\n",
       "      <td>Colleen Hoover</td>\n",
       "      <td>2</td>\n",
       "      <td>Few</td>\n",
       "    </tr>\n",
       "    <tr>\n",
       "      <th>...</th>\n",
       "      <td>...</td>\n",
       "      <td>...</td>\n",
       "      <td>...</td>\n",
       "      <td>...</td>\n",
       "    </tr>\n",
       "    <tr>\n",
       "      <th>393</th>\n",
       "      <td>Beloved</td>\n",
       "      <td>Όμηρος</td>\n",
       "      <td>23</td>\n",
       "      <td>Medium</td>\n",
       "    </tr>\n",
       "    <tr>\n",
       "      <th>394</th>\n",
       "      <td>Heartless</td>\n",
       "      <td>Anatoly Shcharansky</td>\n",
       "      <td>104</td>\n",
       "      <td>Too Many</td>\n",
       "    </tr>\n",
       "    <tr>\n",
       "      <th>395</th>\n",
       "      <td>Into the Wild</td>\n",
       "      <td>Benjamin Graham</td>\n",
       "      <td>11</td>\n",
       "      <td>Decent</td>\n",
       "    </tr>\n",
       "    <tr>\n",
       "      <th>396</th>\n",
       "      <td>The Blood of Olympus</td>\n",
       "      <td>Alice Oseman</td>\n",
       "      <td>38</td>\n",
       "      <td>High</td>\n",
       "    </tr>\n",
       "    <tr>\n",
       "      <th>397</th>\n",
       "      <td>New Moon</td>\n",
       "      <td>W Winters</td>\n",
       "      <td>26</td>\n",
       "      <td>Medium</td>\n",
       "    </tr>\n",
       "  </tbody>\n",
       "</table>\n",
       "<p>398 rows × 4 columns</p>\n",
       "</div>"
      ],
      "text/plain": [
       "                                          Title  \\\n",
       "0                                 Atomic Habits   \n",
       "1    Control Your Mind and Master Your Feelings   \n",
       "2                          The 48 Laws of Power   \n",
       "3                               It Ends With Us   \n",
       "4                      I Don't Love You Anymore   \n",
       "..                                          ...   \n",
       "393                                     Beloved   \n",
       "394                                   Heartless   \n",
       "395                               Into the Wild   \n",
       "396                        The Blood of Olympus   \n",
       "397                                    New Moon   \n",
       "\n",
       "                                Author  Editions Edition_groups  \n",
       "0                          James Clear        41           High  \n",
       "1    Eric Robertson - undifferentiated         3            Few  \n",
       "2                        Robert Greene        52         E_High  \n",
       "3                        Joost Elffers        34           High  \n",
       "4                       Colleen Hoover         2            Few  \n",
       "..                                 ...       ...            ...  \n",
       "393                             Όμηρος        23         Medium  \n",
       "394                Anatoly Shcharansky       104       Too Many  \n",
       "395                    Benjamin Graham        11         Decent  \n",
       "396                       Alice Oseman        38           High  \n",
       "397                          W Winters        26         Medium  \n",
       "\n",
       "[398 rows x 4 columns]"
      ]
     },
     "execution_count": 22,
     "metadata": {},
     "output_type": "execute_result"
    }
   ],
   "source": [
    "df"
   ]
  },
  {
   "cell_type": "code",
   "execution_count": 20,
   "id": "ab36182a",
   "metadata": {},
   "outputs": [
    {
     "data": {
      "text/plain": [
       "1"
      ]
     },
     "execution_count": 20,
     "metadata": {},
     "output_type": "execute_result"
    }
   ],
   "source": [
    "df[\"Editions\"].min()"
   ]
  },
  {
   "cell_type": "code",
   "execution_count": 23,
   "id": "06258672",
   "metadata": {},
   "outputs": [
    {
     "data": {
      "text/plain": [
       "Few         93\n",
       "Decent      83\n",
       "Too Many    76\n",
       "E_High      56\n",
       "Why bro     35\n",
       "High        33\n",
       "Medium      22\n",
       "Name: Edition_groups, dtype: int64"
      ]
     },
     "execution_count": 23,
     "metadata": {},
     "output_type": "execute_result"
    }
   ],
   "source": [
    "df[\"Edition_groups\"].value_counts()"
   ]
  },
  {
   "cell_type": "code",
   "execution_count": null,
   "id": "ac2ff316",
   "metadata": {},
   "outputs": [],
   "source": []
  },
  {
   "cell_type": "markdown",
   "id": "4d93cfe1",
   "metadata": {},
   "source": [
    "***Describe analysis here.***\n",
    "### We categorized books by the amount of editions they have. For example, if a book has over 100 editions, it would be group as \"Too Many\", meaning that book has a lot of editions. A book with 26 editions would be categorized. This is done to also get the frequency of the groups, example, there are 83 books with a decent amount of editions."
   ]
  },
  {
   "cell_type": "code",
   "execution_count": 28,
   "id": "94e3fabf",
   "metadata": {},
   "outputs": [
    {
     "data": {
      "text/plain": [
       "<AxesSubplot:xlabel='Edition_groups', ylabel='Editions'>"
      ]
     },
     "execution_count": 28,
     "metadata": {},
     "output_type": "execute_result"
    },
    {
     "data": {
      "image/png": "[encoded data removed]",
      "text/plain": [
       "<Figure size 640x480 with 1 Axes>"
      ]
     },
     "metadata": {},
     "output_type": "display_data"
    }
   ],
   "source": [
    "# Add more code/markdown cells here if you need them.\n",
    "sns.barplot(x=\"Edition_groups\", y=\"Editions\", data=df)\n"
   ]
  },
  {
   "cell_type": "code",
   "execution_count": null,
   "id": "92a736eb",
   "metadata": {},
   "outputs": [],
   "source": []
  }
 ],
 "metadata": {
  "kernelspec": {
   "display_name": "Python 3 (ipykernel)",
   "language": "python",
   "name": "python3"
  },
  "language_info": {
   "codemirror_mode": {
    "name": "ipython",
    "version": 3
   },
   "file_extension": ".py",
   "mimetype": "text/x-python",
   "name": "python",
   "nbconvert_exporter": "python",
   "pygments_lexer": "ipython3",
   "version": "3.9.13"
  }
 },
 "nbformat": 4,
 "nbformat_minor": 5
}
