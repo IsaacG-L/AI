{
 "cells": [
  {
   "cell_type": "markdown",
   "id": "9919c268",
   "metadata": {},
   "source": [
    "# Choose a Data Set\n",
    "\n",
    "Create your own dataset by scraping one of the following websites *(level 5)*:\n",
    "- [Wikipedia](https://www.wikipedia.org/)\n",
    "- [OpenLibrary](https://openlibrary.org/)\n",
    "\n",
    "**OR** \n",
    "\n",
    "Use data gathered from one of the following APIs *(level 4)*: \n",
    "- [TMDB](https://developer.themoviedb.org/reference/intro/getting-started)\n",
    "- [College Scorecard](https://collegescorecard.ed.gov/data/api-documentation/)\n",
    "\n",
    "**OR** \n",
    "\n",
    "Pick a JSON dataset *(level 3)*:\n",
    "- [Food/Restaurant Data](https://drive.google.com/drive/folders/1V94S6WpclvQmbnW88KVMD4EruryA1oma?usp=drive_link)\n",
    "- [Fashion Data](https://drive.google.com/drive/folders/1V8SbFjtRRW8WVf3xBzg0gzLjOtMhHea_?usp=drive_link)\n",
    "\n",
    "**OR** \n",
    "\n",
    "Pick a CSV dataset *(level 2)*:\n",
    "- [LA Parking Tickets](https://drive.google.com/drive/folders/1vaOfwMi6QmZEGsXr8VM0ulPGzvTTBCgm?usp=drive_link)\n",
    "- [Hotels](https://drive.google.com/drive/folders/1IpVFxgwBJvJHKoOuBsk6WK2qYqFYP4hi?usp=drive_link)"
   ]
  },
  {
   "cell_type": "markdown",
   "id": "ae147ea6",
   "metadata": {},
   "source": [
    "# My Question\n",
    "### You are looking at the trending books, more specifically, the \"This Year\" trending category. If a book were to get into the \"This Year\" trending category, what is the expected amount of editions it would have? Also, what is the probabilty of the book having over 100 editions?\n",
    "\n",
    "Having over 500 editions would count as the category \"Way Too Many"
   ]
  },
  {
   "cell_type": "markdown",
   "id": "149f324f",
   "metadata": {},
   "source": [
    "# My Answer\n",
    "### The expected amount of editions that a new book that enters the \"This Year\" trending category is 110 editions. We know for a fact that a book in this category will have atleast 1 edition(otherwise it wouldn't exist?). There was a standard deviation of 509 books, but again, it isn't a good idea to use it given that the histogram is highly skewed right. \n",
    "### The probability of the book to have over 100 editions is 16.4%. When doing this calculation, 6% of books had over 1000 editions, 2% over 500(between 500 and 1000) and 19% over 100 editions, which made it so that 27% had over 100 editions and leaving 73% that don't."
   ]
  },
  {
   "cell_type": "code",
   "execution_count": 1,
   "id": "b228559e",
   "metadata": {},
   "outputs": [],
   "source": [
    "#Importing what we need\n",
    "from bs4 import BeautifulSoup\n",
    "import requests\n",
    "import pandas as pd\n",
    "import re\n",
    "import seaborn as sns\n",
    "\n",
    "import numpy as np\n",
    "\n"
   ]
  },
  {
   "cell_type": "code",
   "execution_count": 2,
   "id": "273276b2",
   "metadata": {},
   "outputs": [],
   "source": [
    "def cycle_through5(page):\n",
    "    book_ratings = {\"Title\": [], \"Author\": [], \"Editions\": []}  \n",
    "    count = 1  # Start from the first page\n",
    "\n",
    "    while count <= page: \n",
    "        url = f\"https://openlibrary.org/trending/yearly?page={count}\"\n",
    "        response = requests.get(url)\n",
    "        soup = BeautifulSoup(response.content, 'html.parser')\n",
    "\n",
    "        titles = soup.find_all(\"h3\", {\"class\": \"booktitle\"})\n",
    "        for title in titles:\n",
    "            book_ratings[\"Title\"].append(title.get_text(strip=True))\n",
    "\n",
    "        authors = soup.find_all(\"a\")\n",
    "        for author in authors:\n",
    "            if \"/authors/\" in author.get(\"href\", \"\"):\n",
    "                book_ratings[\"Author\"].append(author.get_text(strip=True))\n",
    "\n",
    "        \n",
    "        #span_rate = soup.find_all('span', itemprop='ratingValue')   ### Finding rating, but there was a chage of plans!\n",
    "        #for span in span_rate:\n",
    "            #text = span.text.strip()\n",
    "            #book_ratings[\"Rating\"].append(text)\n",
    "        \n",
    "        \n",
    "        editions = soup.find_all(\"a\")\n",
    "        for edition in editions:\n",
    "    \n",
    "            if \"/works/\" in edition.get(\"href\", \"\"):\n",
    "                edition_text = edition.get_text(strip=True)\n",
    "        \n",
    "                if \"edition\" in edition_text.lower():\n",
    "                    match = re.search(r'\\d+', edition_text) \n",
    "                    if match: \n",
    "                        number = match.group()  \n",
    "                        book_ratings[\"Editions\"].append(number)\n",
    "            \n",
    "        \n",
    "        print(f\"Page {count} scraped successfully.\")\n",
    "        count += 1\n",
    "\n",
    "    min_length = min(len(book_ratings[\"Title\"]), len(book_ratings[\"Author\"]), len(book_ratings[\"Editions\"]))\n",
    "    for key in book_ratings:\n",
    "        book_ratings[key] = book_ratings[key][:min_length]\n",
    "    return book_ratings"
   ]
  },
  {
   "cell_type": "code",
   "execution_count": 3,
   "id": "ca963529",
   "metadata": {},
   "outputs": [
    {
     "name": "stdout",
     "output_type": "stream",
     "text": [
      "Page 1 scraped successfully.\n",
      "Page 2 scraped successfully.\n",
      "Page 3 scraped successfully.\n",
      "Page 4 scraped successfully.\n",
      "Page 5 scraped successfully.\n",
      "Page 6 scraped successfully.\n",
      "Page 7 scraped successfully.\n",
      "Page 8 scraped successfully.\n",
      "Page 9 scraped successfully.\n",
      "Page 10 scraped successfully.\n",
      "Page 11 scraped successfully.\n",
      "Page 12 scraped successfully.\n",
      "Page 13 scraped successfully.\n",
      "Page 14 scraped successfully.\n",
      "Page 15 scraped successfully.\n",
      "Page 16 scraped successfully.\n",
      "Page 17 scraped successfully.\n",
      "Page 18 scraped successfully.\n",
      "Page 19 scraped successfully.\n",
      "Page 20 scraped successfully.\n"
     ]
    },
    {
     "data": {
      "text/html": [
       "<div>\n",
       "<style scoped>\n",
       "    .dataframe tbody tr th:only-of-type {\n",
       "        vertical-align: middle;\n",
       "    }\n",
       "\n",
       "    .dataframe tbody tr th {\n",
       "        vertical-align: top;\n",
       "    }\n",
       "\n",
       "    .dataframe thead th {\n",
       "        text-align: right;\n",
       "    }\n",
       "</style>\n",
       "<table border=\"1\" class=\"dataframe\">\n",
       "  <thead>\n",
       "    <tr style=\"text-align: right;\">\n",
       "      <th></th>\n",
       "      <th>Title</th>\n",
       "      <th>Author</th>\n",
       "      <th>Editions</th>\n",
       "    </tr>\n",
       "  </thead>\n",
       "  <tbody>\n",
       "    <tr>\n",
       "      <th>0</th>\n",
       "      <td>Atomic Habits</td>\n",
       "      <td>James Clear</td>\n",
       "      <td>41</td>\n",
       "    </tr>\n",
       "    <tr>\n",
       "      <th>1</th>\n",
       "      <td>Control Your Mind and Master Your Feelings</td>\n",
       "      <td>Eric Robertson - undifferentiated</td>\n",
       "      <td>3</td>\n",
       "    </tr>\n",
       "    <tr>\n",
       "      <th>2</th>\n",
       "      <td>The 48 Laws of Power</td>\n",
       "      <td>Robert Greene</td>\n",
       "      <td>52</td>\n",
       "    </tr>\n",
       "    <tr>\n",
       "      <th>3</th>\n",
       "      <td>It Ends With Us</td>\n",
       "      <td>Joost Elffers</td>\n",
       "      <td>34</td>\n",
       "    </tr>\n",
       "    <tr>\n",
       "      <th>4</th>\n",
       "      <td>I Don't Love You Anymore</td>\n",
       "      <td>Colleen Hoover</td>\n",
       "      <td>2</td>\n",
       "    </tr>\n",
       "    <tr>\n",
       "      <th>...</th>\n",
       "      <td>...</td>\n",
       "      <td>...</td>\n",
       "      <td>...</td>\n",
       "    </tr>\n",
       "    <tr>\n",
       "      <th>393</th>\n",
       "      <td>Influence</td>\n",
       "      <td>Όμηρος</td>\n",
       "      <td>11</td>\n",
       "    </tr>\n",
       "    <tr>\n",
       "      <th>394</th>\n",
       "      <td>Into the Wild</td>\n",
       "      <td>Benjamin Graham</td>\n",
       "      <td>24</td>\n",
       "    </tr>\n",
       "    <tr>\n",
       "      <th>395</th>\n",
       "      <td>Beloved</td>\n",
       "      <td>Nicholas Sparks</td>\n",
       "      <td>38</td>\n",
       "    </tr>\n",
       "    <tr>\n",
       "      <th>396</th>\n",
       "      <td>The Blood of Olympus</td>\n",
       "      <td>Alice Oseman</td>\n",
       "      <td>104</td>\n",
       "    </tr>\n",
       "    <tr>\n",
       "      <th>397</th>\n",
       "      <td>New Moon</td>\n",
       "      <td>Stephen King</td>\n",
       "      <td>26</td>\n",
       "    </tr>\n",
       "  </tbody>\n",
       "</table>\n",
       "<p>398 rows × 3 columns</p>\n",
       "</div>"
      ],
      "text/plain": [
       "                                          Title  \\\n",
       "0                                 Atomic Habits   \n",
       "1    Control Your Mind and Master Your Feelings   \n",
       "2                          The 48 Laws of Power   \n",
       "3                               It Ends With Us   \n",
       "4                      I Don't Love You Anymore   \n",
       "..                                          ...   \n",
       "393                                   Influence   \n",
       "394                               Into the Wild   \n",
       "395                                     Beloved   \n",
       "396                        The Blood of Olympus   \n",
       "397                                    New Moon   \n",
       "\n",
       "                                Author Editions  \n",
       "0                          James Clear       41  \n",
       "1    Eric Robertson - undifferentiated        3  \n",
       "2                        Robert Greene       52  \n",
       "3                        Joost Elffers       34  \n",
       "4                       Colleen Hoover        2  \n",
       "..                                 ...      ...  \n",
       "393                             Όμηρος       11  \n",
       "394                    Benjamin Graham       24  \n",
       "395                    Nicholas Sparks       38  \n",
       "396                       Alice Oseman      104  \n",
       "397                       Stephen King       26  \n",
       "\n",
       "[398 rows x 3 columns]"
      ]
     },
     "execution_count": 3,
     "metadata": {},
     "output_type": "execute_result"
    }
   ],
   "source": [
    "df = pd.DataFrame(cycle_through5(20))\n",
    "df"
   ]
  },
  {
   "cell_type": "code",
   "execution_count": 4,
   "id": "0e4aba61",
   "metadata": {},
   "outputs": [],
   "source": [
    "df[\"Editions\"] = pd.to_numeric(df[\"Editions\"], errors='coerce')"
   ]
  },
  {
   "cell_type": "code",
   "execution_count": null,
   "id": "dbcc4fa3",
   "metadata": {},
   "outputs": [],
   "source": []
  },
  {
   "cell_type": "code",
   "execution_count": 5,
   "id": "694ecab1",
   "metadata": {},
   "outputs": [
    {
     "name": "stdout",
     "output_type": "stream",
     "text": [
      "<class 'pandas.core.frame.DataFrame'>\n",
      "RangeIndex: 398 entries, 0 to 397\n",
      "Data columns (total 3 columns):\n",
      " #   Column    Non-Null Count  Dtype \n",
      "---  ------    --------------  ----- \n",
      " 0   Title     398 non-null    object\n",
      " 1   Author    398 non-null    object\n",
      " 2   Editions  398 non-null    int64 \n",
      "dtypes: int64(1), object(2)\n",
      "memory usage: 9.5+ KB\n"
     ]
    }
   ],
   "source": [
    "df.info()"
   ]
  },
  {
   "cell_type": "markdown",
   "id": "a8bc8bcb",
   "metadata": {},
   "source": [
    "***Describe analysis here.***\n",
    "\n",
    "### The code above is just scraping the web pages needed to make a dataframe that we can use for the rest of the problem. \n",
    "Also, there are many variables that say \"book_ratings\" when we are not looking at book ratings anymore because of a fluke that we saw in the \"OpenLibrary\"(our code to be exact). We just didn't change the variable name. We also discovered the \"re\" import. Also, making the function print \"scraped successfully\" is fun to watch, so it was kept."
   ]
  },
  {
   "cell_type": "code",
   "execution_count": 43,
   "id": "69c67502",
   "metadata": {},
   "outputs": [],
   "source": [
    "# Alternate between code for analysis and markdown descriptions of your analysis\n",
    "# Add more code or markdown cells if needed to fully explain analysis\n",
    "\n",
    "# Define conditions and corresponding values\n",
    "conditions = [\n",
    "    #df[\"Editions\"] > 500,  # Way Too Many\n",
    "    #df[\"Editions\"] > 100,  # Too Many\n",
    "    df[\"Editions\"] > 1000,   # E_High   # This is Extremely High\n",
    "    df[\"Editions\"] > 500,   # High\n",
    "    df[\"Editions\"] > 100,   # Medium\n",
    "    df[\"Editions\"] >= 30 ,   # Fair\n",
    "    df[\"Editions\"] < 30    # Few\n",
    "]\n",
    "#values = [\"Way Too Many\", \"Too Many\", \"E_High\", \"High\", \"Medium\", \"Decent\", \"Few\"]\n",
    "values = [\"E_High\", \"High\", \"Medium\", \"Fair\", \"Few\"]\n",
    "\n",
    "# Assign values based on conditions\n",
    "df[\"Edition_groups\"] = np.select(conditions, values, default=0)"
   ]
  },
  {
   "cell_type": "code",
   "execution_count": 46,
   "id": "8428a26e-63d0-484c-8262-964e9e177f72",
   "metadata": {},
   "outputs": [
    {
     "data": {
      "text/plain": [
       "Edition_groups\n",
       "Few       197\n",
       "Fair       89\n",
       "Medium     76\n",
       "E_High     26\n",
       "High       10\n",
       "Name: count, dtype: int64"
      ]
     },
     "execution_count": 46,
     "metadata": {},
     "output_type": "execute_result"
    }
   ],
   "source": [
    "df[\"Edition_groups\"].value_counts()"
   ]
  },
  {
   "cell_type": "code",
   "execution_count": 7,
   "id": "a7eda3c3",
   "metadata": {},
   "outputs": [
    {
     "data": {
      "text/html": [
       "<div>\n",
       "<style scoped>\n",
       "    .dataframe tbody tr th:only-of-type {\n",
       "        vertical-align: middle;\n",
       "    }\n",
       "\n",
       "    .dataframe tbody tr th {\n",
       "        vertical-align: top;\n",
       "    }\n",
       "\n",
       "    .dataframe thead th {\n",
       "        text-align: right;\n",
       "    }\n",
       "</style>\n",
       "<table border=\"1\" class=\"dataframe\">\n",
       "  <thead>\n",
       "    <tr style=\"text-align: right;\">\n",
       "      <th></th>\n",
       "      <th>Title</th>\n",
       "      <th>Author</th>\n",
       "      <th>Editions</th>\n",
       "      <th>Edition_groups</th>\n",
       "    </tr>\n",
       "  </thead>\n",
       "  <tbody>\n",
       "    <tr>\n",
       "      <th>0</th>\n",
       "      <td>Atomic Habits</td>\n",
       "      <td>James Clear</td>\n",
       "      <td>41</td>\n",
       "      <td>High</td>\n",
       "    </tr>\n",
       "    <tr>\n",
       "      <th>1</th>\n",
       "      <td>Control Your Mind and Master Your Feelings</td>\n",
       "      <td>Eric Robertson - undifferentiated</td>\n",
       "      <td>3</td>\n",
       "      <td>Few</td>\n",
       "    </tr>\n",
       "    <tr>\n",
       "      <th>2</th>\n",
       "      <td>The 48 Laws of Power</td>\n",
       "      <td>Robert Greene</td>\n",
       "      <td>52</td>\n",
       "      <td>E_High</td>\n",
       "    </tr>\n",
       "    <tr>\n",
       "      <th>3</th>\n",
       "      <td>It Ends With Us</td>\n",
       "      <td>Joost Elffers</td>\n",
       "      <td>34</td>\n",
       "      <td>High</td>\n",
       "    </tr>\n",
       "    <tr>\n",
       "      <th>4</th>\n",
       "      <td>I Don't Love You Anymore</td>\n",
       "      <td>Colleen Hoover</td>\n",
       "      <td>2</td>\n",
       "      <td>Few</td>\n",
       "    </tr>\n",
       "    <tr>\n",
       "      <th>...</th>\n",
       "      <td>...</td>\n",
       "      <td>...</td>\n",
       "      <td>...</td>\n",
       "      <td>...</td>\n",
       "    </tr>\n",
       "    <tr>\n",
       "      <th>393</th>\n",
       "      <td>Influence</td>\n",
       "      <td>Όμηρος</td>\n",
       "      <td>11</td>\n",
       "      <td>Decent</td>\n",
       "    </tr>\n",
       "    <tr>\n",
       "      <th>394</th>\n",
       "      <td>Into the Wild</td>\n",
       "      <td>Benjamin Graham</td>\n",
       "      <td>24</td>\n",
       "      <td>Medium</td>\n",
       "    </tr>\n",
       "    <tr>\n",
       "      <th>395</th>\n",
       "      <td>Beloved</td>\n",
       "      <td>Nicholas Sparks</td>\n",
       "      <td>38</td>\n",
       "      <td>High</td>\n",
       "    </tr>\n",
       "    <tr>\n",
       "      <th>396</th>\n",
       "      <td>The Blood of Olympus</td>\n",
       "      <td>Alice Oseman</td>\n",
       "      <td>104</td>\n",
       "      <td>Too Many</td>\n",
       "    </tr>\n",
       "    <tr>\n",
       "      <th>397</th>\n",
       "      <td>New Moon</td>\n",
       "      <td>Stephen King</td>\n",
       "      <td>26</td>\n",
       "      <td>Medium</td>\n",
       "    </tr>\n",
       "  </tbody>\n",
       "</table>\n",
       "<p>398 rows × 4 columns</p>\n",
       "</div>"
      ],
      "text/plain": [
       "                                          Title  \\\n",
       "0                                 Atomic Habits   \n",
       "1    Control Your Mind and Master Your Feelings   \n",
       "2                          The 48 Laws of Power   \n",
       "3                               It Ends With Us   \n",
       "4                      I Don't Love You Anymore   \n",
       "..                                          ...   \n",
       "393                                   Influence   \n",
       "394                               Into the Wild   \n",
       "395                                     Beloved   \n",
       "396                        The Blood of Olympus   \n",
       "397                                    New Moon   \n",
       "\n",
       "                                Author  Editions Edition_groups  \n",
       "0                          James Clear        41           High  \n",
       "1    Eric Robertson - undifferentiated         3            Few  \n",
       "2                        Robert Greene        52         E_High  \n",
       "3                        Joost Elffers        34           High  \n",
       "4                       Colleen Hoover         2            Few  \n",
       "..                                 ...       ...            ...  \n",
       "393                             Όμηρος        11         Decent  \n",
       "394                    Benjamin Graham        24         Medium  \n",
       "395                    Nicholas Sparks        38           High  \n",
       "396                       Alice Oseman       104       Too Many  \n",
       "397                       Stephen King        26         Medium  \n",
       "\n",
       "[398 rows x 4 columns]"
      ]
     },
     "execution_count": 7,
     "metadata": {},
     "output_type": "execute_result"
    }
   ],
   "source": [
    "df"
   ]
  },
  {
   "cell_type": "code",
   "execution_count": 45,
   "id": "06258672",
   "metadata": {},
   "outputs": [
    {
     "data": {
      "text/plain": [
       "Edition_groups\n",
       "Few       197\n",
       "Fair       89\n",
       "Medium     76\n",
       "E_High     26\n",
       "High       10\n",
       "Name: count, dtype: int64"
      ]
     },
     "execution_count": 45,
     "metadata": {},
     "output_type": "execute_result"
    }
   ],
   "source": [
    "df[\"Edition_groups\"].value_counts()"
   ]
  },
  {
   "cell_type": "code",
   "execution_count": null,
   "id": "ac2ff316",
   "metadata": {},
   "outputs": [],
   "source": []
  },
  {
   "cell_type": "markdown",
   "id": "4d93cfe1",
   "metadata": {},
   "source": [
    "***Describe analysis here.***\n",
    "#### We categorized books by the amount of editions they have. For example, if a book has over 100 editions, it would be grouped as \"Too Many\", meaning that book has a lot of editions. A book with 26 editions would be categorized as \"Medium\". This is done to also get the frequency of the groups, example, there are 83 books with a decent amount of editions."
   ]
  },
  {
   "cell_type": "code",
   "execution_count": 15,
   "id": "624a8abc-0fc3-4d76-abc6-2f5047ea48b3",
   "metadata": {},
   "outputs": [],
   "source": [
    "df[\"Edition_groups\"] = df[\"Edition_groups\"].astype(str)\n"
   ]
  },
  {
   "cell_type": "code",
   "execution_count": 16,
   "id": "aced7775-5e79-407a-952d-b029d6260f8d",
   "metadata": {},
   "outputs": [
    {
     "name": "stdout",
     "output_type": "stream",
     "text": [
      "<class 'pandas.core.frame.DataFrame'>\n",
      "RangeIndex: 398 entries, 0 to 397\n",
      "Data columns (total 4 columns):\n",
      " #   Column          Non-Null Count  Dtype \n",
      "---  ------          --------------  ----- \n",
      " 0   Title           398 non-null    object\n",
      " 1   Author          398 non-null    object\n",
      " 2   Editions        398 non-null    int64 \n",
      " 3   Edition_groups  398 non-null    object\n",
      "dtypes: int64(1), object(3)\n",
      "memory usage: 12.6+ KB\n"
     ]
    }
   ],
   "source": [
    "df.info()"
   ]
  },
  {
   "cell_type": "code",
   "execution_count": 35,
   "id": "94e3fabf",
   "metadata": {},
   "outputs": [
    {
     "data": {
      "text/plain": [
       "<Axes: xlabel='Editions', ylabel='Count'>"
      ]
     },
     "execution_count": 35,
     "metadata": {},
     "output_type": "execute_result"
    },
    {
     "data": {
      "image/png": "[encoded data removed]",
      "text/plain": [
       "<Figure size 640x480 with 1 Axes>"
      ]
     },
     "metadata": {},
     "output_type": "display_data"
    }
   ],
   "source": [
    "# Add more code/markdown cells here if you need them.\n",
    "sns.histplot(data=df, x=\"Editions\", bins=10)\n",
    "#sns.histplot(data=df, x=\"Edition_groups\", bins=20)"
   ]
  },
  {
   "cell_type": "code",
   "execution_count": 36,
   "id": "329b1b48-b08d-4191-ab6b-2c7a842365e4",
   "metadata": {},
   "outputs": [
    {
     "data": {
      "text/plain": [
       "509.81068310091763"
      ]
     },
     "execution_count": 36,
     "metadata": {},
     "output_type": "execute_result"
    }
   ],
   "source": [
    "df[\"Editions\"].std()"
   ]
  },
  {
   "cell_type": "markdown",
   "id": "eb367b45-ef11-4868-be17-0a44ed566842",
   "metadata": {},
   "source": [
    "#### Analysis\n",
    "#### We made a histogram, apparently it is not vary reliable to find a standard deviation, since it is 509.8 editions and the graph is skewed right(alot)."
   ]
  },
  {
   "cell_type": "code",
   "execution_count": 59,
   "id": "9e33a965-909a-440b-825c-4dfa33692721",
   "metadata": {},
   "outputs": [
    {
     "name": "stdout",
     "output_type": "stream",
     "text": [
      "0.06532663316582915\n",
      "0.02512562814070352\n",
      "0.19095477386934673\n",
      "0.2236180904522613\n",
      "0.4949748743718593\n"
     ]
    }
   ],
   "source": [
    "print(26/398) #E_H\n",
    "print(10/398) #H\n",
    "print(76/398) #M  over 100 editions\n",
    "print(89/398) #D\n",
    "print(197/398) #F\n",
    " \n",
    "\n"
   ]
  },
  {
   "cell_type": "markdown",
   "id": "3001fdb1-4ae2-45ce-b053-474783d7b246",
   "metadata": {},
   "source": [
    "# Expected Value = Probability * Value"
   ]
  },
  {
   "cell_type": "code",
   "execution_count": 60,
   "id": "7c19eca1-cabc-4cbf-b639-951040f28ce2",
   "metadata": {},
   "outputs": [
    {
     "data": {
      "text/plain": [
       "110.81"
      ]
     },
     "execution_count": 60,
     "metadata": {},
     "output_type": "execute_result"
    }
   ],
   "source": [
    "Expected_Value = (1 * 1) + (29 * 0.49) + (30 * 0.22) + (100 * 0.19) + (500 * 0.02) + (1000 * 0.06)\n",
    "Expected_Value"
   ]
  },
  {
   "cell_type": "markdown",
   "id": "4ab49ea1-50c6-4e6f-b68e-a99e621015d0",
   "metadata": {},
   "source": [
    "### The expected amount of editions a book on this year's trending should have is 110. \n",
    "### Although, using the standard deviation from above, that would increase it to also expecting 519 editions, which can't be trusted that much because the histogram isn't really symmetrical and it is skewed right."
   ]
  },
  {
   "cell_type": "code",
   "execution_count": 66,
   "id": "5ec9991f-09a8-4d6f-a487-60acacbf76be",
   "metadata": {},
   "outputs": [],
   "source": [
    "# P(A|B) = P(B|A) * P(A)\n",
    "#          ------------\n",
    "#              P(B)\n",
    "\n",
    "# 19% of books have over 100 editions, also 6% of books get over 1000 editions(meaning that they still have over 100) and 2% to have over 500 \n",
    "# while 73% of books have less than 100 editions.\n",
    "\n",
    "# A = Having over 100 editions  B = Not having over 100 editions\n",
    "# P(B|A)  = (0.73 * 0.27) P(A) = 0.27\n",
    "# P(B) =   ((0.73 * 0.27) * 0.27) + 0.27\n",
    "pba_sandwich = (0.73 * 0.27) * 0.27\n",
    "prob_B = pba_sandwich + 0.27\n",
    "probability = pba_sandwich / prob_B"
   ]
  },
  {
   "cell_type": "code",
   "execution_count": 67,
   "id": "28bd2b57-c482-4bc6-9f1f-1ede9709e8b9",
   "metadata": {},
   "outputs": [
    {
     "data": {
      "text/plain": [
       "0.1646478990894662"
      ]
     },
     "execution_count": 67,
     "metadata": {},
     "output_type": "execute_result"
    }
   ],
   "source": [
    "probability"
   ]
  },
  {
   "cell_type": "markdown",
   "id": "ad586f08-ef34-494a-87da-76b674a53c3c",
   "metadata": {},
   "source": [
    "#### The probability of a book that enters the \"This Year\" trending to have over 100 editions is 16.4%\n",
    "I hope that the model question is atleast somewhat on the right track for this to be \"accurate\"."
   ]
  },
  {
   "cell_type": "code",
   "execution_count": null,
   "id": "b00c2a0c-a6f8-4f92-b148-dba7b8c104f1",
   "metadata": {},
   "outputs": [],
   "source": []
  }
 ],
 "metadata": {
  "kernelspec": {
   "display_name": "Python 3 (ipykernel)",
   "language": "python",
   "name": "python3"
  },
  "language_info": {
   "codemirror_mode": {
    "name": "ipython",
    "version": 3
   },
   "file_extension": ".py",
   "mimetype": "text/x-python",
   "name": "python",
   "nbconvert_exporter": "python",
   "pygments_lexer": "ipython3",
   "version": "3.9.13"
  }
 },
 "nbformat": 4,
 "nbformat_minor": 5
}
