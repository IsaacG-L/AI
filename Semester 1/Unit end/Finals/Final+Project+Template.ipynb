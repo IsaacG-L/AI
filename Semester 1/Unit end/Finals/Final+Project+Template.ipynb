{
 "cells": [
  {
   "cell_type": "markdown",
   "id": "e72e548d",
   "metadata": {},
   "source": [
    "# Choose a Data Set\n",
    "\n",
    "You can choose to analyze any data that you would like! Remember, you need 1000 rows of non-null data in order to get 5 points for the \"Data\" criteria of my [rubric](https://docs.google.com/document/d/1s3wllcF3LLnytxwD8mZ-BCypXKnfaahnizWGNojT-B4/edit?usp=sharing). Consider looking at [Kaggle](https://www.kaggle.com/datasets) or [free APIs](https://free-apis.github.io/#/browse) for datasets of this size. Alternatively, you can scrape the web to make your own dataset! :D\n",
    "\n",
    "Once you have chosen your dataset, please read your data into a dataframe and call `.info()` below. If you don't call `info` I will give you 0 points for the first criteria described on the [rubric](https://docs.google.com/document/d/1s3wllcF3LLnytxwD8mZ-BCypXKnfaahnizWGNojT-B4/edit?usp=sharing)."
   ]
  },
  {
   "cell_type": "code",
   "execution_count": 1,
   "id": "d71eb2fa",
   "metadata": {},
   "outputs": [],
   "source": [
    "# Read data into a dataframe and call info()\n",
    "    # Example call:\n",
    "    # df = pd.DataFrame({\"A\":[1, 2, 3], \"B\":[4, 5, 6]})\n",
    "    # df.info()\n",
    "    \n",
    "    "
   ]
  },
  {
   "cell_type": "code",
   "execution_count": 2,
   "id": "1fbfebe3",
   "metadata": {},
   "outputs": [
    {
     "name": "stdout",
     "output_type": "stream",
     "text": [
      "<class 'pandas.core.frame.DataFrame'>\n",
      "RangeIndex: 64833 entries, 0 to 64832\n",
      "Data columns (total 27 columns):\n",
      " #   Column             Non-Null Count  Dtype  \n",
      "---  ------             --------------  -----  \n",
      " 0   manga_id           64833 non-null  int64  \n",
      " 1   title              64833 non-null  object \n",
      " 2   type               64833 non-null  object \n",
      " 3   score              24636 non-null  float64\n",
      " 4   scored_by          64833 non-null  int64  \n",
      " 5   status             64833 non-null  object \n",
      " 6   volumes            48211 non-null  float64\n",
      " 7   chapters           46042 non-null  float64\n",
      " 8   start_date         62950 non-null  object \n",
      " 9   end_date           51932 non-null  object \n",
      " 10  members            64833 non-null  int64  \n",
      " 11  favorites          64833 non-null  int64  \n",
      " 12  sfw                64833 non-null  bool   \n",
      " 13  approved           64833 non-null  bool   \n",
      " 14  created_at_before  64833 non-null  object \n",
      " 15  updated_at         62678 non-null  object \n",
      " 16  real_start_date    62950 non-null  object \n",
      " 17  real_end_date      51932 non-null  object \n",
      " 18  genres             64833 non-null  object \n",
      " 19  themes             64833 non-null  object \n",
      " 20  demographics       64833 non-null  object \n",
      " 21  authors            64833 non-null  object \n",
      " 22  serializations     64833 non-null  object \n",
      " 23  synopsis           44917 non-null  object \n",
      " 24  background         11433 non-null  object \n",
      " 25  title_english      18716 non-null  object \n",
      " 26  title_japanese     63700 non-null  object \n",
      "dtypes: bool(2), float64(3), int64(4), object(18)\n",
      "memory usage: 12.5+ MB\n"
     ]
    }
   ],
   "source": [
    "# Analyze here\n",
    "import pandas as pd\n",
    "import seaborn as sns\n",
    "import requests\n",
    "import random\n",
    "from bs4 import BeautifulSoup\n",
    "\n",
    "df = pd.read_csv(\"manga.csv\")\n",
    "df = df.drop(columns=['main_picture', 'url', 'title_synonyms'])\n",
    "df.info()"
   ]
  },
  {
   "cell_type": "markdown",
   "id": "109e5f57",
   "metadata": {},
   "source": [
    "# My Question\n"
   ]
  },
  {
   "cell_type": "markdown",
   "id": "94af0ecd",
   "metadata": {},
   "source": [
    "### Write your question here.\n",
    "### When randomly choosing a book, what is the theoretical probability that you pull a manhwa or manhua? What is the probability that is sfw(safe for work)? You start to think too much. In what month do most books start to serialize or publish and what is the average amount of serializations per month?\n",
    "\n",
    "Context: Japan-manga, China-Manhua, South Korea-Manhwa (they are all forms of comics)\n",
    "Context Part 2: Many manga, are \"serialized\", meaning that they release 1 chapter a week, or month(tend to be longer) depending on what magazine they are being serialized, after successfully publishing multiple chapters, they are combined into 1 volume. Most weekly serializations have 7 or 8 chapters in the first volume, then 10 on the following ones. "
   ]
  },
  {
   "cell_type": "markdown",
   "id": "9070cec5",
   "metadata": {},
   "source": [
    "# My Analysis"
   ]
  },
  {
   "cell_type": "code",
   "execution_count": 4,
   "id": "3e27457a",
   "metadata": {},
   "outputs": [],
   "source": [
    "# Making it so that the serializations that were just empty [] be filled with something.\n",
    "df['serializations'] = df['serializations'].replace('[]', 'Unknown')"
   ]
  },
  {
   "cell_type": "code",
   "execution_count": 11,
   "id": "22a9abc8",
   "metadata": {
    "scrolled": true
   },
   "outputs": [],
   "source": [
    "# Removing unnecessary(right?) brackets and spaces!\n",
    "df['serializations'] = df['serializations'].str.replace(r'[\\[\\]\\s]', '', regex=True)\n",
    "# Removing the single quotes that were around the serialization names.\n",
    "df['serializations'] = df['serializations'].str.replace(\"'\", \"\", regex=False)\n"
   ]
  },
  {
   "cell_type": "markdown",
   "id": "5260e358",
   "metadata": {},
   "source": [
    "#### The code above ^ is just fixing the data so that it is more usable and pleasant!"
   ]
  },
  {
   "cell_type": "code",
   "execution_count": 3,
   "id": "6b7c8ee1",
   "metadata": {
    "scrolled": true
   },
   "outputs": [
    {
     "data": {
      "text/plain": [
       "manga          44077\n",
       "light_novel    10224\n",
       "one_shot        5248\n",
       "manhwa          2986\n",
       "doujinshi       1816\n",
       "manhua           350\n",
       "novel            132\n",
       "Name: type, dtype: int64"
      ]
     },
     "execution_count": 3,
     "metadata": {},
     "output_type": "execute_result"
    }
   ],
   "source": [
    "df[\"type\"].value_counts()"
   ]
  },
  {
   "cell_type": "markdown",
   "id": "c8da9109",
   "metadata": {},
   "source": [
    "### Theoretical P:  P(Choosing a Manhua U Manhwa) = 5.15%"
   ]
  },
  {
   "cell_type": "code",
   "execution_count": 18,
   "id": "f2d10b3a",
   "metadata": {},
   "outputs": [
    {
     "data": {
      "text/plain": [
       "5.145527740502522"
      ]
     },
     "execution_count": 18,
     "metadata": {},
     "output_type": "execute_result"
    }
   ],
   "source": [
    "total_comics = 64833 \n",
    "manhua = 350 # Chinese \"comics\"\n",
    "manhwa = 2986 # Korean \"comics\"\n",
    "\n",
    "manhuawa = manhua + manhwa # Combo of both\n",
    "\n",
    "theo_p = (manhuawa / total_comics) * 100\n",
    "theo_p "
   ]
  },
  {
   "cell_type": "code",
   "execution_count": null,
   "id": "499e4841",
   "metadata": {},
   "outputs": [],
   "source": [
    "count = 0\n",
    "trials = 10\n",
    "manhua_manhwa = 0\n",
    "\n",
    "while count < trials:\n",
    "    num = random.randint(1, total_comics)\n",
    "    if (num <= manhuawa):\n",
    "        manhua_manhwa += 1\n",
    "        count += 1\n",
    "print(manhua_manhwa / trials)"
   ]
  },
  {
   "cell_type": "markdown",
   "id": "098ecf86",
   "metadata": {},
   "source": [
    "# My Answer"
   ]
  },
  {
   "cell_type": "code",
   "execution_count": null,
   "id": "a97ae2aa",
   "metadata": {},
   "outputs": [],
   "source": []
  }
 ],
 "metadata": {
  "kernelspec": {
   "display_name": "Python 3 (ipykernel)",
   "language": "python",
   "name": "python3"
  },
  "language_info": {
   "codemirror_mode": {
    "name": "ipython",
    "version": 3
   },
   "file_extension": ".py",
   "mimetype": "text/x-python",
   "name": "python",
   "nbconvert_exporter": "python",
   "pygments_lexer": "ipython3",
   "version": "3.9.13"
  }
 },
 "nbformat": 4,
 "nbformat_minor": 5
}
