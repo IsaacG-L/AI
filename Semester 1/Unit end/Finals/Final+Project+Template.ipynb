{
 "cells": [
  {
   "cell_type": "markdown",
   "id": "e72e548d",
   "metadata": {},
   "source": [
    "# Choose a Data Set\n",
    "\n",
    "You can choose to analyze any data that you would like! Remember, you need 1000 rows of non-null data in order to get 5 points for the \"Data\" criteria of my [rubric](https://docs.google.com/document/d/1s3wllcF3LLnytxwD8mZ-BCypXKnfaahnizWGNojT-B4/edit?usp=sharing). Consider looking at [Kaggle](https://www.kaggle.com/datasets) or [free APIs](https://free-apis.github.io/#/browse) for datasets of this size. Alternatively, you can scrape the web to make your own dataset! :D\n",
    "\n",
    "Once you have chosen your dataset, please read your data into a dataframe and call `.info()` below. If you don't call `info` I will give you 0 points for the first criteria described on the [rubric](https://docs.google.com/document/d/1s3wllcF3LLnytxwD8mZ-BCypXKnfaahnizWGNojT-B4/edit?usp=sharing)."
   ]
  },
  {
   "cell_type": "code",
   "execution_count": 1,
   "id": "d71eb2fa",
   "metadata": {},
   "outputs": [],
   "source": [
    "# Read data into a dataframe and call info()\n",
    "    # Example call:\n",
    "    # df = pd.DataFrame({\"A\":[1, 2, 3], \"B\":[4, 5, 6]})\n",
    "    # df.info()\n",
    "    \n",
    "    "
   ]
  },
  {
   "cell_type": "code",
   "execution_count": 26,
   "id": "1fbfebe3",
   "metadata": {
    "scrolled": false
   },
   "outputs": [
    {
     "name": "stdout",
     "output_type": "stream",
     "text": [
      "<class 'pandas.core.frame.DataFrame'>\n",
      "RangeIndex: 64833 entries, 0 to 64832\n",
      "Data columns (total 27 columns):\n",
      " #   Column             Non-Null Count  Dtype  \n",
      "---  ------             --------------  -----  \n",
      " 0   manga_id           64833 non-null  int64  \n",
      " 1   title              64833 non-null  object \n",
      " 2   type               64833 non-null  object \n",
      " 3   score              24636 non-null  float64\n",
      " 4   scored_by          64833 non-null  int64  \n",
      " 5   status             64833 non-null  object \n",
      " 6   volumes            48211 non-null  float64\n",
      " 7   chapters           46042 non-null  float64\n",
      " 8   start_date         62950 non-null  object \n",
      " 9   end_date           51932 non-null  object \n",
      " 10  members            64833 non-null  int64  \n",
      " 11  favorites          64833 non-null  int64  \n",
      " 12  sfw                64833 non-null  bool   \n",
      " 13  approved           64833 non-null  bool   \n",
      " 14  created_at_before  64833 non-null  object \n",
      " 15  updated_at         62678 non-null  object \n",
      " 16  real_start_date    62950 non-null  object \n",
      " 17  real_end_date      51932 non-null  object \n",
      " 18  genres             64833 non-null  object \n",
      " 19  themes             64833 non-null  object \n",
      " 20  demographics       64833 non-null  object \n",
      " 21  authors            64833 non-null  object \n",
      " 22  serializations     64833 non-null  object \n",
      " 23  synopsis           44917 non-null  object \n",
      " 24  background         11433 non-null  object \n",
      " 25  title_english      18716 non-null  object \n",
      " 26  title_japanese     63700 non-null  object \n",
      "dtypes: bool(2), float64(3), int64(4), object(18)\n",
      "memory usage: 12.5+ MB\n"
     ]
    }
   ],
   "source": [
    "# Analyze here\n",
    "import pandas as pd\n",
    "import seaborn as sns\n",
    "import requests\n",
    "import random\n",
    "from bs4 import BeautifulSoup\n",
    "\n",
    "df = pd.read_csv(\"manga.csv\")\n",
    "df = df.drop(columns=['main_picture', 'url', 'title_synonyms'])\n",
    "df.info()"
   ]
  },
  {
   "cell_type": "markdown",
   "id": "109e5f57",
   "metadata": {},
   "source": [
    "# My Question\n"
   ]
  },
  {
   "cell_type": "markdown",
   "id": "94af0ecd",
   "metadata": {},
   "source": [
    "### Write your question here.\n",
    "### When randomly choosing a book, what is the theoretical probability that you pull a manhwa or manhua? What is the probability that is sfw(safe for work)? You start to think too much. In what month do most books start to serialize or publish and what is the average amount of serializations per month? What type of book has the most published works and which type has the least?\n",
    "\n",
    "Context: Japan-manga, China-Manhua, South Korea-Manhwa (they are all forms of comics)\n",
    "Context Part 2: Many manga, are \"serialized\", meaning that they release 1 chapter a week, or month(tend to be longer) depending on what magazine they are being serialized, after successfully publishing multiple chapters, they are combined into 1 volume. Most weekly serializations have 7 or 8 chapters in the first volume, then 10 on the following ones. "
   ]
  },
  {
   "cell_type": "markdown",
   "id": "9070cec5",
   "metadata": {},
   "source": [
    "# My Analysis"
   ]
  },
  {
   "cell_type": "code",
   "execution_count": 3,
   "id": "dfb904b3",
   "metadata": {},
   "outputs": [],
   "source": [
    "# Making it so that the serializations that were just empty [] be filled with something.\n",
    "df['serializations'] = df['serializations'].replace('[]', 'Unknown')"
   ]
  },
  {
   "cell_type": "code",
   "execution_count": 4,
   "id": "22a9abc8",
   "metadata": {
    "scrolled": true
   },
   "outputs": [],
   "source": [
    "# Removing unnecessary(right?) brackets and spaces!\n",
    "df['serializations'] = df['serializations'].str.replace(r'[\\[\\]\\s]', '', regex=True)\n",
    "# Removing the single quotes that were around the serialization names.\n",
    "df['serializations'] = df['serializations'].str.replace(\"'\", \"\", regex=False)\n"
   ]
  },
  {
   "cell_type": "markdown",
   "id": "3fc49edc",
   "metadata": {},
   "source": [
    "#### The code above ^ is just fixing the data so that it is more usable and pleasant!"
   ]
  },
  {
   "cell_type": "code",
   "execution_count": 112,
   "id": "6b7c8ee1",
   "metadata": {
    "scrolled": true
   },
   "outputs": [
    {
     "data": {
      "text/plain": [
       "manga          42772\n",
       "light_novel    10222\n",
       "one_shot        4978\n",
       "manhwa          2800\n",
       "doujinshi       1739\n",
       "manhua           307\n",
       "novel            132\n",
       "Name: type, dtype: int64"
      ]
     },
     "execution_count": 112,
     "metadata": {},
     "output_type": "execute_result"
    }
   ],
   "source": [
    "df[\"type\"].value_counts()"
   ]
  },
  {
   "cell_type": "markdown",
   "id": "1b0e3e39",
   "metadata": {},
   "source": [
    "### Theoretical P:  P(Choosing a Manhua U Manhwa) = 4.79%"
   ]
  },
  {
   "cell_type": "markdown",
   "id": "225a1270",
   "metadata": {},
   "source": [
    "#### total_comics = 64833 \n",
    "manhua = 307 # Chinese \"comics\"\n",
    "manhwa = 2800 # Korean \"comics\"\n",
    "\n",
    "manhuawa = manhua + manhwa # Combo of both\n",
    "\n",
    "theo_p = (manhuawa / total_comics) * 100\n",
    "theo_p "
   ]
  },
  {
   "cell_type": "code",
   "execution_count": 114,
   "id": "955a3954",
   "metadata": {},
   "outputs": [
    {
     "name": "stdout",
     "output_type": "stream",
     "text": [
      "4.649\n"
     ]
    }
   ],
   "source": [
    "count = 0\n",
    "trials = 100000\n",
    "manhua_manhwa = 0\n",
    "\n",
    "while count < trials:\n",
    "    num = random.randint(1, total_comics)\n",
    "    if (num <= manhuawa):\n",
    "        manhua_manhwa += 1\n",
    "    count += 1\n",
    "print((manhua_manhwa / trials) * 100)"
   ]
  },
  {
   "cell_type": "markdown",
   "id": "cbb455fe",
   "metadata": {},
   "source": [
    "### Empirical P = 4.649 %\n",
    "#### The theoretical probability of randomly pulling a manhua or a manhwa is a 4.79%. This appears to be accurate because the empirical probability is a 4.649%, after running a simulation of 100,000 trials.  They are very close, with them being ariund 5%. Also, we are not randomly pulling and taking it out, the sample space remains the same in quantity. I guess there aren't that many manhuas or manhwas in a manga dataset..."
   ]
  },
  {
   "cell_type": "code",
   "execution_count": 84,
   "id": "6d7c9146",
   "metadata": {},
   "outputs": [
    {
     "data": {
      "text/plain": [
       "True     44006\n",
       "False    18944\n",
       "Name: sfw, dtype: int64"
      ]
     },
     "execution_count": 84,
     "metadata": {},
     "output_type": "execute_result"
    }
   ],
   "source": [
    "df[\"sfw\"].value_counts()"
   ]
  },
  {
   "cell_type": "code",
   "execution_count": 88,
   "id": "af3bdaa3",
   "metadata": {},
   "outputs": [],
   "source": [
    "manhwa_sfw = 0\n",
    "manhwa_nsfw = 0\n",
    "\n",
    "manhua_sfw = 0\n",
    "manhua_nsfw = 0\n",
    "\n",
    "for index, row in df.iterrows():\n",
    "    if row[\"type\"] == \"manhwa\" and row[\"sfw\"] == True:\n",
    "        manhwa_sfw += 1\n",
    "    elif row[\"type\"] == \"manhwa\" and row[\"sfw\"] == False:\n",
    "        manhwa_nsfw += 1\n",
    "    elif row[\"type\"] == \"manhua\" and row[\"sfw\"] == True:\n",
    "        manhua_sfw += 1\n",
    "    elif row[\"type\"] == \"manhua\" and row[\"sfw\"] == False:\n",
    "        manhua_nsfw += 1"
   ]
  },
  {
   "cell_type": "code",
   "execution_count": 115,
   "id": "1eda12e1",
   "metadata": {},
   "outputs": [],
   "source": [
    "combo_sfw = manhwa_sfw + manhua_sfw\n",
    "combo_nsfw = manhwa_nsfw + manhua_nsfw"
   ]
  },
  {
   "cell_type": "code",
   "execution_count": 111,
   "id": "99ce3743",
   "metadata": {},
   "outputs": [
    {
     "data": {
      "text/plain": [
       "3336"
      ]
     },
     "execution_count": 111,
     "metadata": {},
     "output_type": "execute_result"
    }
   ],
   "source": [
    "manhuawa # The amount of manhua and manhwa in the data"
   ]
  },
  {
   "cell_type": "code",
   "execution_count": 117,
   "id": "eed989be",
   "metadata": {},
   "outputs": [
    {
     "name": "stdout",
     "output_type": "stream",
     "text": [
      "307\n",
      "300\n"
     ]
    }
   ],
   "source": [
    "print(manhua)\n",
    "print(manhua_sfw)"
   ]
  },
  {
   "cell_type": "code",
   "execution_count": 121,
   "id": "e5f986a0",
   "metadata": {},
   "outputs": [
    {
     "name": "stdout",
     "output_type": "stream",
     "text": [
      "97.11999999999999\n"
     ]
    }
   ],
   "source": [
    "#China\n",
    "trials = 10000\n",
    "count = 0\n",
    "actually_sfw = 0\n",
    "while count < trials:\n",
    "    numy = random.randint(1, 307)\n",
    "    if numy < 300:\n",
    "        actually_sfw += 1\n",
    "    count += 1\n",
    "print((actually_sfw/ trials) * 100)"
   ]
  },
  {
   "cell_type": "code",
   "execution_count": 122,
   "id": "42d681c7",
   "metadata": {},
   "outputs": [
    {
     "name": "stdout",
     "output_type": "stream",
     "text": [
      "2800\n",
      "2467\n"
     ]
    }
   ],
   "source": [
    "print(manhwa)\n",
    "print(manhwa_sfw)"
   ]
  },
  {
   "cell_type": "code",
   "execution_count": 123,
   "id": "befbe0fd",
   "metadata": {},
   "outputs": [
    {
     "name": "stdout",
     "output_type": "stream",
     "text": [
      "87.46000000000001\n"
     ]
    }
   ],
   "source": [
    "#Korea\n",
    "trials = 10000\n",
    "count = 0\n",
    "actually_sfw_2 = 0\n",
    "while count < trials:\n",
    "    numy = random.randint(1, 2800)\n",
    "    if numy < manhwa_sfw:\n",
    "        actually_sfw_2 += 1\n",
    "    count += 1\n",
    "print((actually_sfw_2/ trials) * 100)"
   ]
  },
  {
   "cell_type": "markdown",
   "id": "5c8191ca",
   "metadata": {},
   "source": [
    "### If you randomly pull a manhua, the empirical probability that it is safe for work is 97.1%. If you pull a manhwa, the empirical probability that it is safe for work is 87.46%."
   ]
  },
  {
   "cell_type": "code",
   "execution_count": 31,
   "id": "6dded4a6",
   "metadata": {},
   "outputs": [],
   "source": [
    "df.dropna(subset=[\"start_date\"], inplace=True)"
   ]
  },
  {
   "cell_type": "code",
   "execution_count": 50,
   "id": "f2a61118",
   "metadata": {},
   "outputs": [],
   "source": [
    "df[\"start_date\"] = pd.to_datetime(df['start_date'], errors='coerce')\n",
    "df[\"month\"] = df[\"start_date\"].dt.month"
   ]
  },
  {
   "cell_type": "code",
   "execution_count": 51,
   "id": "2553acea",
   "metadata": {},
   "outputs": [
    {
     "data": {
      "text/plain": [
       "1     11003\n",
       "12     5466\n",
       "8      5312\n",
       "4      4965\n",
       "7      4727\n",
       "10     4704\n",
       "6      4606\n",
       "5      4567\n",
       "3      4477\n",
       "11     4462\n",
       "9      4383\n",
       "2      4278\n",
       "Name: month, dtype: int64"
      ]
     },
     "execution_count": 51,
     "metadata": {},
     "output_type": "execute_result"
    }
   ],
   "source": [
    "df[\"month\"].value_counts()"
   ]
  },
  {
   "cell_type": "code",
   "execution_count": 63,
   "id": "1e3df7c1",
   "metadata": {},
   "outputs": [],
   "source": [
    "months = {\"Jan\": 0, \"Feb\": 0, \"Mar\": 0, \"Apr\": 0, \"May\": 0, \"Jun\": 0, \"Jul\": 0, \"Aug\": 0, \"Sep\": 0, \"Oct\": 0, \n",
    "        \"Nov\": 0, \"Dec\": 0}\n",
    "\n",
    "for date in df[\"month\"]:\n",
    "    #month = date.split(\"-\")[1]\n",
    "    if date == 1:\n",
    "        months[\"Jan\"] += 1\n",
    "    elif date == 2:\n",
    "        months[\"Feb\"] += 1\n",
    "    elif date == 3:\n",
    "        months[\"Mar\"] += 1\n",
    "    elif date == 4:\n",
    "        months[\"Apr\"] += 1\n",
    "    elif date == 5:\n",
    "        months[\"May\"] += 1\n",
    "    elif date == 6:\n",
    "        months[\"Jun\"] += 1\n",
    "    elif date == 7:\n",
    "        months[\"Jul\"] += 1\n",
    "    elif date == 8:\n",
    "        months[\"Aug\"] += 1\n",
    "    elif date == 9:\n",
    "        months[\"Sep\"] += 1\n",
    "    elif date == 10:\n",
    "        months[\"Oct\"] += 1\n",
    "    elif date == 11:\n",
    "        months[\"Nov\"] += 1\n",
    "    elif date == 12:\n",
    "        months[\"Dec\"] += 1\n",
    "#months"
   ]
  },
  {
   "cell_type": "code",
   "execution_count": 60,
   "id": "9d9c9471",
   "metadata": {},
   "outputs": [
    {
     "data": {
      "text/plain": [
       "<AxesSubplot:xlabel='Months', ylabel='Count'>"
      ]
     },
     "execution_count": 60,
     "metadata": {},
     "output_type": "execute_result"
    },
    {
     "data": {
      "image/png": "[encoded data removed]",
      "text/plain": [
       "<Figure size 640x480 with 1 Axes>"
      ]
     },
     "metadata": {},
     "output_type": "display_data"
    }
   ],
   "source": [
    "dates = {\n",
    "    \"Months\":[\"Jan\", \"Feb\", \"Mar\", \"Apr\", \"May\", \"Jun\", \"Jul\", \"Aug\", \"Sep\", \"Oct\", \"Nov\", \"Dec\"],\n",
    "    \"Count\":[months[\"Jan\"], months[\"Feb\"], months[\"Mar\"], months[\"Apr\"], months[\"May\"], months[\"Jun\"], months[\"Jul\"], months[\"Aug\"], months[\"Sep\"], months[\"Oct\"], months[\"Nov\"], months[\"Dec\"]]\n",
    "}\n",
    "\n",
    "dates = pd.DataFrame(dates)\n",
    "sns.barplot(data=dates, x=\"Months\", y=\"Count\")"
   ]
  },
  {
   "cell_type": "code",
   "execution_count": 78,
   "id": "3749d652",
   "metadata": {},
   "outputs": [
    {
     "data": {
      "text/plain": [
       "1     11003\n",
       "12     5466\n",
       "8      5312\n",
       "4      4965\n",
       "7      4727\n",
       "10     4704\n",
       "6      4606\n",
       "5      4567\n",
       "3      4477\n",
       "11     4462\n",
       "9      4383\n",
       "2      4278\n",
       "Name: month, dtype: int64"
      ]
     },
     "execution_count": 78,
     "metadata": {},
     "output_type": "execute_result"
    }
   ],
   "source": [
    "df[\"month\"].value_counts()"
   ]
  },
  {
   "cell_type": "code",
   "execution_count": 80,
   "id": "bf8c6a79",
   "metadata": {},
   "outputs": [
    {
     "data": {
      "text/plain": [
       "5245.833333333333"
      ]
     },
     "execution_count": 80,
     "metadata": {},
     "output_type": "execute_result"
    }
   ],
   "source": [
    "mean_value = sum(months.values()) / len(months)\n",
    "mean_value"
   ]
  },
  {
   "cell_type": "markdown",
   "id": "5f71c2f5",
   "metadata": {},
   "source": [
    "#### Apparently, the month with the most series starting to serialize is January, it has over 10,000 serializations. Looking at the loop, January has exactly 11,003 starting serializations The average amount of works published or serialized per month is 5,245."
   ]
  },
  {
   "cell_type": "code",
   "execution_count": 8,
   "id": "1ca0ed71",
   "metadata": {},
   "outputs": [
    {
     "data": {
      "text/plain": [
       "<AxesSubplot:xlabel='type', ylabel='Count'>"
      ]
     },
     "execution_count": 8,
     "metadata": {},
     "output_type": "execute_result"
    },
    {
     "data": {
      "image/png": "[encoded data removed]",
      "text/plain": [
       "<Figure size 640x480 with 1 Axes>"
      ]
     },
     "metadata": {},
     "output_type": "display_data"
    }
   ],
   "source": [
    "#df[(df[\"type\"] == 'manhua') & (df[\"sfw\"] == True)]\n",
    "sns.histplot(data=df, x=\"type\", color=\"Indigo\")"
   ]
  },
  {
   "cell_type": "code",
   "execution_count": 66,
   "id": "27759826",
   "metadata": {},
   "outputs": [
    {
     "data": {
      "text/plain": [
       "manga          42772\n",
       "light_novel    10222\n",
       "one_shot        4978\n",
       "manhwa          2800\n",
       "doujinshi       1739\n",
       "manhua           307\n",
       "novel            132\n",
       "Name: type, dtype: int64"
      ]
     },
     "execution_count": 66,
     "metadata": {},
     "output_type": "execute_result"
    }
   ],
   "source": [
    "df[\"type\"].value_counts()"
   ]
  },
  {
   "cell_type": "code",
   "execution_count": 75,
   "id": "4391c804",
   "metadata": {},
   "outputs": [],
   "source": [
    "pre_freq_table = {\"Type\": [], \"Frequency\": []}\n",
    "manga = 0\n",
    "light_novel = 0\n",
    "one_shot = 0\n",
    "manhwa = 0\n",
    "doujinshi = 0\n",
    "manhua = 0\n",
    "novel = 0\n",
    "for what_type in df[\"type\"]:\n",
    "    if what_type == \"manga\":\n",
    "        manga += 1\n",
    "    elif what_type == \"light_novel\":\n",
    "        light_novel += 1\n",
    "    elif what_type == \"one_shot\":\n",
    "        one_shot += 1\n",
    "    elif what_type == \"manhwa\":\n",
    "        manhwa += 1\n",
    "    elif what_type == \"doujinshi\":\n",
    "        doujinshi += 1\n",
    "    elif what_type == \"manhua\":\n",
    "        manhua += 1\n",
    "    elif what_type == \"novel\":\n",
    "        novel += 1\n",
    "        \n",
    "add_freq = [\"Manga\", \"Light Novel\", \"One Shot\", \"Manhwa\", \"Doujinshi\", \"Manhua\", \"Novel\"]\n",
    "pre_freq_table[\"Type\"] = pre_freq_table[\"Type\"] + add_freq\n",
    "\n",
    "pre_freq_table[\"Frequency\"].append(manga)\n",
    "pre_freq_table[\"Frequency\"].append(light_novel)\n",
    "pre_freq_table[\"Frequency\"].append(one_shot)\n",
    "pre_freq_table[\"Frequency\"].append(manhwa)\n",
    "pre_freq_table[\"Frequency\"].append(doujinshi)\n",
    "pre_freq_table[\"Frequency\"].append(manhua)\n",
    "pre_freq_table[\"Frequency\"].append(novel)"
   ]
  },
  {
   "cell_type": "code",
   "execution_count": 77,
   "id": "52c8cc84",
   "metadata": {},
   "outputs": [
    {
     "data": {
      "text/html": [
       "<div>\n",
       "<style scoped>\n",
       "    .dataframe tbody tr th:only-of-type {\n",
       "        vertical-align: middle;\n",
       "    }\n",
       "\n",
       "    .dataframe tbody tr th {\n",
       "        vertical-align: top;\n",
       "    }\n",
       "\n",
       "    .dataframe thead th {\n",
       "        text-align: right;\n",
       "    }\n",
       "</style>\n",
       "<table border=\"1\" class=\"dataframe\">\n",
       "  <thead>\n",
       "    <tr style=\"text-align: right;\">\n",
       "      <th></th>\n",
       "      <th>Type</th>\n",
       "      <th>Frequency</th>\n",
       "      <th>Percent</th>\n",
       "    </tr>\n",
       "  </thead>\n",
       "  <tbody>\n",
       "    <tr>\n",
       "      <th>0</th>\n",
       "      <td>Manga</td>\n",
       "      <td>42772</td>\n",
       "      <td>67.945989</td>\n",
       "    </tr>\n",
       "    <tr>\n",
       "      <th>1</th>\n",
       "      <td>Light Novel</td>\n",
       "      <td>10222</td>\n",
       "      <td>16.238284</td>\n",
       "    </tr>\n",
       "    <tr>\n",
       "      <th>2</th>\n",
       "      <td>One Shot</td>\n",
       "      <td>4978</td>\n",
       "      <td>7.907863</td>\n",
       "    </tr>\n",
       "    <tr>\n",
       "      <th>3</th>\n",
       "      <td>Manhwa</td>\n",
       "      <td>2800</td>\n",
       "      <td>4.447975</td>\n",
       "    </tr>\n",
       "    <tr>\n",
       "      <th>4</th>\n",
       "      <td>Doujinshi</td>\n",
       "      <td>1739</td>\n",
       "      <td>2.762510</td>\n",
       "    </tr>\n",
       "    <tr>\n",
       "      <th>5</th>\n",
       "      <td>Manhua</td>\n",
       "      <td>307</td>\n",
       "      <td>0.487689</td>\n",
       "    </tr>\n",
       "    <tr>\n",
       "      <th>6</th>\n",
       "      <td>Novel</td>\n",
       "      <td>132</td>\n",
       "      <td>0.209690</td>\n",
       "    </tr>\n",
       "  </tbody>\n",
       "</table>\n",
       "</div>"
      ],
      "text/plain": [
       "          Type  Frequency    Percent\n",
       "0        Manga      42772  67.945989\n",
       "1  Light Novel      10222  16.238284\n",
       "2     One Shot       4978   7.907863\n",
       "3       Manhwa       2800   4.447975\n",
       "4    Doujinshi       1739   2.762510\n",
       "5       Manhua        307   0.487689\n",
       "6        Novel        132   0.209690"
      ]
     },
     "execution_count": 77,
     "metadata": {},
     "output_type": "execute_result"
    }
   ],
   "source": [
    "freqTable = pd.DataFrame(pre_freq_table)\n",
    "freqTable[\"Percent\"] = (freqTable[\"Frequency\"] / len(df)) * 100\n",
    "freqTable\n"
   ]
  },
  {
   "cell_type": "markdown",
   "id": "3801420b",
   "metadata": {},
   "source": [
    "### The type of work that has the most publishes is manga! Looking at a relative frequency table, it has a total of 42,772 total works, which makes up for 67.9% of the entire data. The type of work with the least are novels, with 0.2% of the data..."
   ]
  },
  {
   "cell_type": "markdown",
   "id": "098ecf86",
   "metadata": {},
   "source": [
    "# My Answer"
   ]
  },
  {
   "cell_type": "markdown",
   "id": "6d7ca497",
   "metadata": {},
   "source": [
    "### The theoretical probability of randomly pulling a manhua or manhwa is 4.8"
   ]
  }
 ],
 "metadata": {
  "kernelspec": {
   "display_name": "Python 3 (ipykernel)",
   "language": "python",
   "name": "python3"
  },
  "language_info": {
   "codemirror_mode": {
    "name": "ipython",
    "version": 3
   },
   "file_extension": ".py",
   "mimetype": "text/x-python",
   "name": "python",
   "nbconvert_exporter": "python",
   "pygments_lexer": "ipython3",
   "version": "3.9.13"
  }
 },
 "nbformat": 4,
 "nbformat_minor": 5
}
