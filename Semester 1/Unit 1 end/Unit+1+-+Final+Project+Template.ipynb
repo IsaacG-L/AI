{
 "cells": [
  {
   "cell_type": "markdown",
   "id": "c80b3b64",
   "metadata": {},
   "source": [
    "# Choose a Data Set\n",
    "Pick one of the following data sets to analyze for your final project. \n",
    "- [Cosmetics](https://drive.google.com/drive/folders/1qvmRfGb7a_pYAtgW6614gxlP-bxl_Ptz?usp=drive_link)\n",
    "- [Mental Health](https://drive.google.com/drive/folders/1YOp1aQVcmqlAkUEGHNPl_TyNXbY-xHwO?usp=drive_link)\n",
    "- [Pokemon](https://drive.google.com/drive/folders/1kDu2oRgm_hUW5hdM0tHnMUqCGSKUYT1v?usp=drive_link)\n",
    "- [Ramen](https://drive.google.com/drive/folders/1Y4_5QHOCy8rHc5EsEwDUuoCfp2WLo-MN?usp=drive_link)\n",
    "- [Student Performance](https://drive.google.com/drive/folders/1fE31Ka38AnGpgfI_Es3z4psuA0phhH0Y?usp=drive_link)"
   ]
  },
  {
   "cell_type": "markdown",
   "id": "8a7e64bc",
   "metadata": {},
   "source": [
    "# My Question"
   ]
  },
  {
   "cell_type": "markdown",
   "id": "b52e166c",
   "metadata": {},
   "source": [
    "***Write your question here.***\n",
    "\n",
    "### Out of the different levels of motivation, who had the most students and what was the average exam score for each group? What level had the highest average exam score and what are the scores within its 1st standard deviation?"
   ]
  },
  {
   "cell_type": "markdown",
   "id": "0a574d2e",
   "metadata": {},
   "source": [
    "# My Analysis"
   ]
  },
  {
   "cell_type": "code",
   "execution_count": 5,
   "id": "e9e64518",
   "metadata": {},
   "outputs": [
    {
     "name": "stdout",
     "output_type": "stream",
     "text": [
      "<class 'pandas.core.frame.DataFrame'>\n",
      "RangeIndex: 6607 entries, 0 to 6606\n",
      "Data columns (total 20 columns):\n",
      " #   Column                      Non-Null Count  Dtype \n",
      "---  ------                      --------------  ----- \n",
      " 0   Hours_Studied               6607 non-null   int64 \n",
      " 1   Attendance                  6607 non-null   int64 \n",
      " 2   Parental_Involvement        6607 non-null   object\n",
      " 3   Access_to_Resources         6607 non-null   object\n",
      " 4   Extracurricular_Activities  6607 non-null   object\n",
      " 5   Sleep_Hours                 6607 non-null   int64 \n",
      " 6   Previous_Scores             6607 non-null   int64 \n",
      " 7   Motivation_Level            6607 non-null   object\n",
      " 8   Internet_Access             6607 non-null   object\n",
      " 9   Tutoring_Sessions           6607 non-null   int64 \n",
      " 10  Family_Income               6607 non-null   object\n",
      " 11  Teacher_Quality             6529 non-null   object\n",
      " 12  School_Type                 6607 non-null   object\n",
      " 13  Peer_Influence              6607 non-null   object\n",
      " 14  Physical_Activity           6607 non-null   int64 \n",
      " 15  Learning_Disabilities       6607 non-null   object\n",
      " 16  Parental_Education_Level    6517 non-null   object\n",
      " 17  Distance_from_Home          6540 non-null   object\n",
      " 18  Gender                      6607 non-null   object\n",
      " 19  Exam_Score                  6607 non-null   int64 \n",
      "dtypes: int64(7), object(13)\n",
      "memory usage: 1.0+ MB\n"
     ]
    }
   ],
   "source": [
    "# Write all the code needed for your analysis here. \n",
    "# You can add more cells to this section if you would like.\n",
    "\n",
    "import pandas as pd\n",
    "import seaborn as sns\n",
    "import numpy as np\n",
    "df =pd.read_csv(\"students.csv\")\n",
    "df.info()"
   ]
  },
  {
   "cell_type": "code",
   "execution_count": 6,
   "id": "c0a206c8-af22-44a4-91d4-f7b66144467f",
   "metadata": {},
   "outputs": [
    {
     "data": {
      "text/html": [
       "<div>\n",
       "<style scoped>\n",
       "    .dataframe tbody tr th:only-of-type {\n",
       "        vertical-align: middle;\n",
       "    }\n",
       "\n",
       "    .dataframe tbody tr th {\n",
       "        vertical-align: top;\n",
       "    }\n",
       "\n",
       "    .dataframe thead th {\n",
       "        text-align: right;\n",
       "    }\n",
       "</style>\n",
       "<table border=\"1\" class=\"dataframe\">\n",
       "  <thead>\n",
       "    <tr style=\"text-align: right;\">\n",
       "      <th></th>\n",
       "      <th>Hours_Studied</th>\n",
       "      <th>Attendance</th>\n",
       "      <th>Parental_Involvement</th>\n",
       "      <th>Access_to_Resources</th>\n",
       "      <th>Extracurricular_Activities</th>\n",
       "      <th>Sleep_Hours</th>\n",
       "      <th>Previous_Scores</th>\n",
       "      <th>Motivation_Level</th>\n",
       "      <th>Internet_Access</th>\n",
       "      <th>Tutoring_Sessions</th>\n",
       "      <th>Family_Income</th>\n",
       "      <th>Teacher_Quality</th>\n",
       "      <th>School_Type</th>\n",
       "      <th>Peer_Influence</th>\n",
       "      <th>Physical_Activity</th>\n",
       "      <th>Learning_Disabilities</th>\n",
       "      <th>Parental_Education_Level</th>\n",
       "      <th>Distance_from_Home</th>\n",
       "      <th>Gender</th>\n",
       "      <th>Exam_Score</th>\n",
       "    </tr>\n",
       "  </thead>\n",
       "  <tbody>\n",
       "    <tr>\n",
       "      <th>0</th>\n",
       "      <td>23</td>\n",
       "      <td>84</td>\n",
       "      <td>Low</td>\n",
       "      <td>High</td>\n",
       "      <td>No</td>\n",
       "      <td>7</td>\n",
       "      <td>73</td>\n",
       "      <td>Low</td>\n",
       "      <td>Yes</td>\n",
       "      <td>0</td>\n",
       "      <td>Low</td>\n",
       "      <td>Medium</td>\n",
       "      <td>Public</td>\n",
       "      <td>Positive</td>\n",
       "      <td>3</td>\n",
       "      <td>No</td>\n",
       "      <td>High School</td>\n",
       "      <td>Near</td>\n",
       "      <td>Male</td>\n",
       "      <td>67</td>\n",
       "    </tr>\n",
       "    <tr>\n",
       "      <th>1</th>\n",
       "      <td>19</td>\n",
       "      <td>64</td>\n",
       "      <td>Low</td>\n",
       "      <td>Medium</td>\n",
       "      <td>No</td>\n",
       "      <td>8</td>\n",
       "      <td>59</td>\n",
       "      <td>Low</td>\n",
       "      <td>Yes</td>\n",
       "      <td>2</td>\n",
       "      <td>Medium</td>\n",
       "      <td>Medium</td>\n",
       "      <td>Public</td>\n",
       "      <td>Negative</td>\n",
       "      <td>4</td>\n",
       "      <td>No</td>\n",
       "      <td>College</td>\n",
       "      <td>Moderate</td>\n",
       "      <td>Female</td>\n",
       "      <td>61</td>\n",
       "    </tr>\n",
       "    <tr>\n",
       "      <th>2</th>\n",
       "      <td>24</td>\n",
       "      <td>98</td>\n",
       "      <td>Medium</td>\n",
       "      <td>Medium</td>\n",
       "      <td>Yes</td>\n",
       "      <td>7</td>\n",
       "      <td>91</td>\n",
       "      <td>Medium</td>\n",
       "      <td>Yes</td>\n",
       "      <td>2</td>\n",
       "      <td>Medium</td>\n",
       "      <td>Medium</td>\n",
       "      <td>Public</td>\n",
       "      <td>Neutral</td>\n",
       "      <td>4</td>\n",
       "      <td>No</td>\n",
       "      <td>Postgraduate</td>\n",
       "      <td>Near</td>\n",
       "      <td>Male</td>\n",
       "      <td>74</td>\n",
       "    </tr>\n",
       "    <tr>\n",
       "      <th>3</th>\n",
       "      <td>29</td>\n",
       "      <td>89</td>\n",
       "      <td>Low</td>\n",
       "      <td>Medium</td>\n",
       "      <td>Yes</td>\n",
       "      <td>8</td>\n",
       "      <td>98</td>\n",
       "      <td>Medium</td>\n",
       "      <td>Yes</td>\n",
       "      <td>1</td>\n",
       "      <td>Medium</td>\n",
       "      <td>Medium</td>\n",
       "      <td>Public</td>\n",
       "      <td>Negative</td>\n",
       "      <td>4</td>\n",
       "      <td>No</td>\n",
       "      <td>High School</td>\n",
       "      <td>Moderate</td>\n",
       "      <td>Male</td>\n",
       "      <td>71</td>\n",
       "    </tr>\n",
       "    <tr>\n",
       "      <th>4</th>\n",
       "      <td>19</td>\n",
       "      <td>92</td>\n",
       "      <td>Medium</td>\n",
       "      <td>Medium</td>\n",
       "      <td>Yes</td>\n",
       "      <td>6</td>\n",
       "      <td>65</td>\n",
       "      <td>Medium</td>\n",
       "      <td>Yes</td>\n",
       "      <td>3</td>\n",
       "      <td>Medium</td>\n",
       "      <td>High</td>\n",
       "      <td>Public</td>\n",
       "      <td>Neutral</td>\n",
       "      <td>4</td>\n",
       "      <td>No</td>\n",
       "      <td>College</td>\n",
       "      <td>Near</td>\n",
       "      <td>Female</td>\n",
       "      <td>70</td>\n",
       "    </tr>\n",
       "  </tbody>\n",
       "</table>\n",
       "</div>"
      ],
      "text/plain": [
       "   Hours_Studied  Attendance Parental_Involvement Access_to_Resources  \\\n",
       "0             23          84                  Low                High   \n",
       "1             19          64                  Low              Medium   \n",
       "2             24          98               Medium              Medium   \n",
       "3             29          89                  Low              Medium   \n",
       "4             19          92               Medium              Medium   \n",
       "\n",
       "  Extracurricular_Activities  Sleep_Hours  Previous_Scores Motivation_Level  \\\n",
       "0                         No            7               73              Low   \n",
       "1                         No            8               59              Low   \n",
       "2                        Yes            7               91           Medium   \n",
       "3                        Yes            8               98           Medium   \n",
       "4                        Yes            6               65           Medium   \n",
       "\n",
       "  Internet_Access  Tutoring_Sessions Family_Income Teacher_Quality  \\\n",
       "0             Yes                  0           Low          Medium   \n",
       "1             Yes                  2        Medium          Medium   \n",
       "2             Yes                  2        Medium          Medium   \n",
       "3             Yes                  1        Medium          Medium   \n",
       "4             Yes                  3        Medium            High   \n",
       "\n",
       "  School_Type Peer_Influence  Physical_Activity Learning_Disabilities  \\\n",
       "0      Public       Positive                  3                    No   \n",
       "1      Public       Negative                  4                    No   \n",
       "2      Public        Neutral                  4                    No   \n",
       "3      Public       Negative                  4                    No   \n",
       "4      Public        Neutral                  4                    No   \n",
       "\n",
       "  Parental_Education_Level Distance_from_Home  Gender  Exam_Score  \n",
       "0              High School               Near    Male          67  \n",
       "1                  College           Moderate  Female          61  \n",
       "2             Postgraduate               Near    Male          74  \n",
       "3              High School           Moderate    Male          71  \n",
       "4                  College               Near  Female          70  "
      ]
     },
     "execution_count": 6,
     "metadata": {},
     "output_type": "execute_result"
    }
   ],
   "source": [
    "df.head()\n"
   ]
  },
  {
   "cell_type": "code",
   "execution_count": 7,
   "id": "a2fe4693-c84c-48b7-9c7f-5882fec7d98a",
   "metadata": {},
   "outputs": [
    {
     "data": {
      "text/plain": [
       "array(['Low', 'Medium', 'High'], dtype=object)"
      ]
     },
     "execution_count": 7,
     "metadata": {},
     "output_type": "execute_result"
    }
   ],
   "source": [
    "df[\"Motivation_Level\"].unique()"
   ]
  },
  {
   "cell_type": "markdown",
   "id": "2c23ba3b",
   "metadata": {},
   "source": [
    "## This is the relative freq table!"
   ]
  },
  {
   "cell_type": "code",
   "execution_count": 9,
   "id": "09c92cc3",
   "metadata": {},
   "outputs": [],
   "source": [
    "low = 0\n",
    "\n",
    "medium = 0\n",
    "\n",
    "high  = 0\n",
    "\n",
    "for idx in range(len(df)):\n",
    "    if df.loc[idx][\"Motivation_Level\"] == \"Low\":\n",
    "        low += 1\n",
    "    elif df.loc[idx][\"Motivation_Level\"] == \"Medium\":\n",
    "        medium += 1\n",
    "    elif df.loc[idx][\"Motivation_Level\"] == \"High\":\n",
    "        high += 1\n",
    "        \n",
    "level_motivation = [\"Low\", \"Medium\", \"High\"]\n",
    "counts = [low / len(df[\"Motivation_Level\"])* 100, medium / len(df[\"Motivation_Level\"])* 100, high / len(df[\"Motivation_Level\"])* 100]\n",
    "\n",
    "freqTable = pd.DataFrame({\n",
    "    \"Motivation Level\": level_motivation,\n",
    "    \"Count\": counts\n",
    "})"
   ]
  },
  {
   "cell_type": "code",
   "execution_count": 10,
   "id": "84ab6a3b",
   "metadata": {},
   "outputs": [
    {
     "data": {
      "text/html": [
       "<div>\n",
       "<style scoped>\n",
       "    .dataframe tbody tr th:only-of-type {\n",
       "        vertical-align: middle;\n",
       "    }\n",
       "\n",
       "    .dataframe tbody tr th {\n",
       "        vertical-align: top;\n",
       "    }\n",
       "\n",
       "    .dataframe thead th {\n",
       "        text-align: right;\n",
       "    }\n",
       "</style>\n",
       "<table border=\"1\" class=\"dataframe\">\n",
       "  <thead>\n",
       "    <tr style=\"text-align: right;\">\n",
       "      <th></th>\n",
       "      <th>Motivation Level</th>\n",
       "      <th>Count</th>\n",
       "    </tr>\n",
       "  </thead>\n",
       "  <tbody>\n",
       "    <tr>\n",
       "      <th>0</th>\n",
       "      <td>Low</td>\n",
       "      <td>29.317391</td>\n",
       "    </tr>\n",
       "    <tr>\n",
       "      <th>1</th>\n",
       "      <td>Medium</td>\n",
       "      <td>50.718934</td>\n",
       "    </tr>\n",
       "    <tr>\n",
       "      <th>2</th>\n",
       "      <td>High</td>\n",
       "      <td>19.963675</td>\n",
       "    </tr>\n",
       "  </tbody>\n",
       "</table>\n",
       "</div>"
      ],
      "text/plain": [
       "  Motivation Level      Count\n",
       "0              Low  29.317391\n",
       "1           Medium  50.718934\n",
       "2             High  19.963675"
      ]
     },
     "execution_count": 10,
     "metadata": {},
     "output_type": "execute_result"
    }
   ],
   "source": [
    "freqTable"
   ]
  },
  {
   "cell_type": "code",
   "execution_count": 11,
   "id": "696bc9f7-5c2c-4a31-8cac-a602f9fa0cf7",
   "metadata": {},
   "outputs": [
    {
     "data": {
      "text/plain": [
       "Motivation_Level\n",
       "Medium    3351\n",
       "Low       1937\n",
       "High      1319\n",
       "Name: count, dtype: int64"
      ]
     },
     "execution_count": 11,
     "metadata": {},
     "output_type": "execute_result"
    }
   ],
   "source": [
    "# This makes the freTable in the code above useless correct?\n",
    "df[\"Motivation_Level\"].value_counts()"
   ]
  },
  {
   "cell_type": "markdown",
   "id": "3b3084e7",
   "metadata": {},
   "source": [
    "## Going to find the mean/average of each group"
   ]
  },
  {
   "cell_type": "code",
   "execution_count": 13,
   "id": "d2b092e9",
   "metadata": {},
   "outputs": [],
   "source": [
    "df_low = df[df[\"Motivation_Level\"] == \"Low\"]\n",
    "df_medium = df[df[\"Motivation_Level\"] == \"Medium\"]\n",
    "df_high = df[df[\"Motivation_Level\"] == \"High\"]\n",
    "\n"
   ]
  },
  {
   "cell_type": "code",
   "execution_count": 14,
   "id": "e2cc8dfc",
   "metadata": {},
   "outputs": [
    {
     "name": "stdout",
     "output_type": "stream",
     "text": [
      "Low Mean: 66.75219411461022  Medium Mean: 67.33064756789018  High Mean: 67.70432145564821\n"
     ]
    }
   ],
   "source": [
    "low_mean = df_low[\"Exam_Score\"].mean()\n",
    "medium_mean = df_medium[\"Exam_Score\"].mean()\n",
    "high_mean = df_high[\"Exam_Score\"].mean()\n",
    "\n",
    "print(\"Low Mean:\", low_mean, \" Medium Mean:\", medium_mean, \" High Mean:\", high_mean)"
   ]
  },
  {
   "cell_type": "markdown",
   "id": "ff670595-8bc9-40d3-835c-2738ae944462",
   "metadata": {},
   "source": [
    "### This is a histogram/barplot just for show."
   ]
  },
  {
   "cell_type": "code",
   "execution_count": 16,
   "id": "9a18bb2f-8cae-4ebc-ad30-cb458f2ef323",
   "metadata": {},
   "outputs": [
    {
     "data": {
      "text/plain": [
       "<Axes: xlabel='Motivation_Level', ylabel='Count'>"
      ]
     },
     "execution_count": 16,
     "metadata": {},
     "output_type": "execute_result"
    },
    {
     "data": {
      "image/png": "[encoded data removed]",
      "text/plain": [
       "<Figure size 640x480 with 1 Axes>"
      ]
     },
     "metadata": {},
     "output_type": "display_data"
    }
   ],
   "source": [
    "sns.histplot(data=df, x=\"Motivation_Level\", bins=50)"
   ]
  },
  {
   "cell_type": "code",
   "execution_count": 17,
   "id": "e3896e1f-8a5f-4c81-8b9a-d3f7c3a010cb",
   "metadata": {},
   "outputs": [
    {
     "data": {
      "text/plain": [
       "<Axes: xlabel='Exam_Score', ylabel='Count'>"
      ]
     },
     "execution_count": 17,
     "metadata": {},
     "output_type": "execute_result"
    },
    {
     "data": {
      "image/png": "[encoded data removed]",
      "text/plain": [
       "<Figure size 640x480 with 1 Axes>"
      ]
     },
     "metadata": {},
     "output_type": "display_data"
    }
   ],
   "source": [
    "sns.histplot(data=df_low[\"Exam_Score\"], bins=10, color=\"purple\")    #LOW\n",
    "sns.histplot(data=df_medium[\"Exam_Score\"], bins=10, color=\"pink\")    #MEDIUM\n",
    "sns.histplot(data=df_high[\"Exam_Score\"], bins=10, color=\"lightblue\")   #HIGH"
   ]
  },
  {
   "cell_type": "markdown",
   "id": "7113c26d-ec3f-4ace-8087-05e29a2de359",
   "metadata": {},
   "source": [
    "### This is where we will find the standard deviation and the scores within."
   ]
  },
  {
   "cell_type": "code",
   "execution_count": 40,
   "id": "24625077-6e8e-4583-82db-12957d7de283",
   "metadata": {},
   "outputs": [
    {
     "data": {
      "text/plain": [
       "3.8769664712893053"
      ]
     },
     "execution_count": 40,
     "metadata": {},
     "output_type": "execute_result"
    }
   ],
   "source": [
    "df_high[\"Exam_Score\"].std()"
   ]
  },
  {
   "cell_type": "code",
   "execution_count": 54,
   "id": "80d73575-b620-49c1-a350-0097be8d5088",
   "metadata": {},
   "outputs": [
    {
     "name": "stdout",
     "output_type": "stream",
     "text": [
      "The test scores within the 1st standard deviation range from 63.827354984358905 to 71.58128792693752\n"
     ]
    }
   ],
   "source": [
    "min_std = df_high[\"Exam_Score\"].mean() - df_high[\"Exam_Score\"].std()\n",
    "max_std = df_high[\"Exam_Score\"].mean() + df_high[\"Exam_Score\"].std()\n",
    "\n",
    "print(\"The test scores within the 1st standard deviation range from\", min_std, \"to\", max_std)"
   ]
  },
  {
   "cell_type": "code",
   "execution_count": null,
   "id": "3945d014-5e90-4549-8261-674ccfd29dfe",
   "metadata": {},
   "outputs": [],
   "source": []
  },
  {
   "cell_type": "code",
   "execution_count": 20,
   "id": "dcde88fb-1502-4b2f-88e2-b1ac5f788cbd",
   "metadata": {},
   "outputs": [
    {
     "data": {
      "text/plain": [
       "{'Max': 98, 'Q3': 70.0, 'Median': 67.0, 'Q1': 70.0, 'Min': 57}"
      ]
     },
     "execution_count": 20,
     "metadata": {},
     "output_type": "execute_result"
    }
   ],
   "source": [
    "summary = {\n",
    "    \"Max\": df_high[\"Exam_Score\"].max(),\n",
    "    \"Q3\": df_high[\"Exam_Score\"].quantile(0.75),\n",
    "    \"Median\": df_high[\"Exam_Score\"].median(),\n",
    "    \"Q1\": df_high[\"Exam_Score\"].quantile(0.75),\n",
    "    \"Min\": df_high[\"Exam_Score\"].min()\n",
    "}\n",
    "summary"
   ]
  },
  {
   "cell_type": "markdown",
   "id": "28ec392b-f4ed-4836-9018-b436bd4737fa",
   "metadata": {},
   "source": [
    "### The graphs below are reexpressed with log because I wanted to test it out for fun. They still work!"
   ]
  },
  {
   "cell_type": "code",
   "execution_count": 38,
   "id": "ba25126d-ba07-4c4e-86b0-a46d5ade6ac8",
   "metadata": {},
   "outputs": [
    {
     "data": {
      "text/plain": [
       "<Axes: xlabel='Exam_Score', ylabel='Count'>"
      ]
     },
     "execution_count": 38,
     "metadata": {},
     "output_type": "execute_result"
    },
    {
     "data": {
      "image/png": "[encoded data removed]",
      "text/plain": [
       "<Figure size 640x480 with 1 Axes>"
      ]
     },
     "metadata": {},
     "output_type": "display_data"
    }
   ],
   "source": [
    "sns.histplot(data=np.log(df_low[\"Exam_Score\"]), bins=10, color=\"pink\")   #LOW\n",
    "sns.histplot(data=np.log(df_medium[\"Exam_Score\"]), bins=10, color=\"lightblue\")   #MEDIUM\n",
    "sns.histplot(data=np.log(df_high[\"Exam_Score\"]), bins=10, color=\"purple\")    # HIGH\n",
    "\n"
   ]
  },
  {
   "cell_type": "markdown",
   "id": "77e676b2",
   "metadata": {},
   "source": [
    "# My Answer"
   ]
  },
  {
   "cell_type": "markdown",
   "id": "16aec0ac",
   "metadata": {},
   "source": [
    "***Write your answer here.***\n",
    "### The Motivation Level group with the most students is the Medium motivation, which covers 50.7% of all the students, if we look at a relative frequency table. The average exam score for the Low Motivation group was 66.75219411461022, the average score for the Medium Motivation group was 67.33064756789018 and the average score for the High Motivated group was 67.70432145564821. The High Motivation level group had the highest average score with a 67.70432145564821, just a bit more higher than the Medium level motivated students, we can somewhat see it when we look at a 5-number summary, the median is 67(exam score). The exam scores within the 1st standard deviation for the High level motivation group ranges from 63.827354984358905 to 71.58128792693752. \n",
    "\n",
    "### Extra: It could be that the reason why the average scores for the High and Medium level motivated groups is because the Medium level group contains a vast majority of the students, since it does cover around 50% of them. With this data set, if a student is highly motivated or atleast medium level motivated, they can earn somewhat of an average score or more.\r\n",
    " "
   ]
  },
  {
   "cell_type": "code",
   "execution_count": null,
   "id": "04317805-0d99-4469-b1e7-3ead70bbe346",
   "metadata": {},
   "outputs": [],
   "source": []
  }
 ],
 "metadata": {
  "kernelspec": {
   "display_name": "Python 3 (ipykernel)",
   "language": "python",
   "name": "python3"
  },
  "language_info": {
   "codemirror_mode": {
    "name": "ipython",
    "version": 3
   },
   "file_extension": ".py",
   "mimetype": "text/x-python",
   "name": "python",
   "nbconvert_exporter": "python",
   "pygments_lexer": "ipython3",
   "version": "3.12.4"
  }
 },
 "nbformat": 4,
 "nbformat_minor": 5
}
