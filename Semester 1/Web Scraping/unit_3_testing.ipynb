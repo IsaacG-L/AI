{
 "cells": [
  {
   "cell_type": "code",
   "execution_count": 2,
   "id": "29c09f4d",
   "metadata": {},
   "outputs": [],
   "source": [
    "import re\n",
    "import requests\n",
    "from bs4 import BeautifulSoup\n",
    "import pandas as pd\n",
    "\n",
    "url = \"https://openlibrary.org/search?q=Japan&mode=everything&sort=rating&page=1\"\n",
    "response = requests.get(url)\n",
    "soup = BeautifulSoup(response.content, 'html.parser')\n",
    "book_ratings = {\"Title\": [], \"Author\": [], \"Amount_Ratings\": [], \"Rating\": []}\n",
    "\n",
    "\n",
    "\n",
    "# Initialize the dictionary to store the scraped data\n",
    "book_ratings = {\n",
    "    \"Title\": [],\n",
    "    \"Amount_Ratings\": [],\n",
    "    \"Rating\": [],\n",
    "    \"Author\": []\n",
    "}\n",
    "\n",
    "# Scrape titles\n",
    "titles = soup.find_all(\"h3\", {\"class\": \"booktitle\"})\n",
    "for title in titles:\n",
    "    title = str(title.get_text().strip())\n",
    "    book_ratings[\"Title\"].append(title)\n",
    "\n",
    "# Scrape the number of ratings\n",
    "span_rate = soup.find_all('span', itemprop='ratingValue')\n",
    "for span in span_rate:\n",
    "    text = span.text.strip()\n",
    "    match = re.search(r'\\((\\d+)\\)', text)  # Extract number inside parentheses\n",
    "\n",
    "    if match:\n",
    "        num_ratings = match.group(1)\n",
    "        book_ratings[\"Amount_Ratings\"].append(num_ratings)\n",
    "\n",
    "# Scrape the rating values\n",
    "just_rate = soup.find_all('span', itemprop='ratingValue')\n",
    "for span in just_rate:\n",
    "    another_text = span.text.strip()\n",
    "    match = re.search(r'(\\d+\\.\\d+)', another_text)  # Corrected line, use 'another_text'\n",
    "\n",
    "    if match:\n",
    "        numy_ratings = match.group(1)\n",
    "        book_ratings[\"Rating\"].append(numy_ratings)\n",
    "\n",
    "# Scrape authors\n",
    "authors = soup.find_all(\"a\")\n",
    "for author in authors:\n",
    "    if author.get(\"href\") and \"/authors/\" in author.get(\"href\"):  # Ensure href exists\n",
    "        book_ratings[\"Author\"].append(author.get_text(strip=True))\n",
    "\n",
    "# Trim lists to the minimum length\n",
    "min_length = min(len(book_ratings[key]) for key in book_ratings)\n",
    "\n",
    "# Trim all lists in book_info to the minimum length\n",
    "for key in book_ratings:\n",
    "    book_ratings[key] = book_ratings[key][:min_length]\n"
   ]
  },
  {
   "cell_type": "code",
   "execution_count": 3,
   "id": "4539125a",
   "metadata": {},
   "outputs": [],
   "source": [
    "df = pd.DataFrame(book_ratings)"
   ]
  },
  {
   "cell_type": "code",
   "execution_count": 4,
   "id": "5bd9e6c3",
   "metadata": {},
   "outputs": [
    {
     "data": {
      "text/html": [
       "<div>\n",
       "<style scoped>\n",
       "    .dataframe tbody tr th:only-of-type {\n",
       "        vertical-align: middle;\n",
       "    }\n",
       "\n",
       "    .dataframe tbody tr th {\n",
       "        vertical-align: top;\n",
       "    }\n",
       "\n",
       "    .dataframe thead th {\n",
       "        text-align: right;\n",
       "    }\n",
       "</style>\n",
       "<table border=\"1\" class=\"dataframe\">\n",
       "  <thead>\n",
       "    <tr style=\"text-align: right;\">\n",
       "      <th></th>\n",
       "      <th>Title</th>\n",
       "      <th>Amount_Ratings</th>\n",
       "      <th>Rating</th>\n",
       "      <th>Author</th>\n",
       "    </tr>\n",
       "  </thead>\n",
       "  <tbody>\n",
       "  </tbody>\n",
       "</table>\n",
       "</div>"
      ],
      "text/plain": [
       "Empty DataFrame\n",
       "Columns: [Title, Amount_Ratings, Rating, Author]\n",
       "Index: []"
      ]
     },
     "execution_count": 4,
     "metadata": {},
     "output_type": "execute_result"
    }
   ],
   "source": [
    "df"
   ]
  },
  {
   "cell_type": "code",
   "execution_count": null,
   "id": "36d83732",
   "metadata": {},
   "outputs": [],
   "source": []
  }
 ],
 "metadata": {
  "kernelspec": {
   "display_name": "Python 3 (ipykernel)",
   "language": "python",
   "name": "python3"
  },
  "language_info": {
   "codemirror_mode": {
    "name": "ipython",
    "version": 3
   },
   "file_extension": ".py",
   "mimetype": "text/x-python",
   "name": "python",
   "nbconvert_exporter": "python",
   "pygments_lexer": "ipython3",
   "version": "3.9.13"
  }
 },
 "nbformat": 4,
 "nbformat_minor": 5
}
