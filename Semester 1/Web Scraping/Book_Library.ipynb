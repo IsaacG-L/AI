{
 "cells": [
  {
   "cell_type": "code",
   "execution_count": 2,
   "id": "08b3569b-750f-47da-b748-bf04ed598b80",
   "metadata": {},
   "outputs": [],
   "source": [
    "import pandas as pd\n",
    "from bs4 import BeautifulSoup\n",
    "import requests\n",
    "import seaborn as sns\n",
    "import numpy as np"
   ]
  },
  {
   "cell_type": "code",
   "execution_count": 3,
   "id": "718eee70-036e-4e9b-9846-4f233f85c3d2",
   "metadata": {},
   "outputs": [],
   "source": [
    "url = \"https://openlibrary.org/trending/forever?page=1\"\n",
    "response = requests.get(url)\n",
    "soup = BeautifulSoup(response.content, 'html.parser')\n",
    "book_info = {\"Title\": [], \"Author\": [], \"Logs\": []}\n",
    "\n"
   ]
  },
  {
   "cell_type": "code",
   "execution_count": 4,
   "id": "56a9b588-12bc-486c-badb-d578c26b6d30",
   "metadata": {},
   "outputs": [],
   "source": [
    "titles = soup.find_all(\"h3\", {\"class\": \"booktitle\"})\n",
    "for title in titles:\n",
    "    title = str(title.get_text().strip())\n",
    "    book_info[\"Title\"].append(title)\n",
    "\n",
    "\n",
    "\n",
    "logs = soup.find_all(\"div\", {\"class\": \"details\"})\n",
    "log_counts = []\n",
    "for log in logs:\n",
    "    str_log = str(log)\n",
    "    split_str_log = str_log.split()\n",
    "    idx_Logged = split_str_log.index(\"Logged\")\n",
    "    log_counts.append(split_str_log[idx_Logged + 1])\n",
    "\n",
    "for log in log_counts:\n",
    "    book_info[\"Logs\"].append(log)\n",
    "\n",
    "\n",
    "\n",
    "## The Authors are out of place because some have 2, but the \"authors\" seperated each \"a\" tag into its own row.\n",
    "\n",
    "authors = soup.find_all(\"a\")  \n",
    "\n",
    "for author in authors:\n",
    "    if \"/authors/\" in author.get(\"href\", \"\"): \n",
    "        book_info[\"Author\"].append(author.get_text(strip=True))"
   ]
  },
  {
   "cell_type": "code",
   "execution_count": 5,
   "id": "e32f9d30-58be-402e-ae76-2310e6787c99",
   "metadata": {},
   "outputs": [
    {
     "name": "stdout",
     "output_type": "stream",
     "text": [
      "{'Title': 20, 'Author': 20, 'Logs': 20}\n"
     ]
    }
   ],
   "source": [
    "# Determine the minimum length across all lists\n",
    "min_length = min(len(book_info[key]) for key in book_info)\n",
    "\n",
    "# Trim all lists in book_info to the minimum length\n",
    "for key in book_info:\n",
    "    book_info[key] = book_info[key][:min_length]\n",
    "\n",
    "print({key: len(value) for key, value in book_info.items()})\n"
   ]
  },
  {
   "cell_type": "markdown",
   "id": "8e939d94-14d7-4cc7-b709-36bd3c6a38b8",
   "metadata": {},
   "source": [
    "## Page Number 2"
   ]
  },
  {
   "cell_type": "code",
   "execution_count": 15,
   "id": "fea15332-991e-4002-97e3-f8ff77e3d49d",
   "metadata": {},
   "outputs": [],
   "source": [
    "url = \"https://openlibrary.org/trending/forever?page=2\"\n",
    "response = requests.get(url)\n",
    "soup2 = BeautifulSoup(response.content, 'html.parser')\n"
   ]
  },
  {
   "cell_type": "code",
   "execution_count": 16,
   "id": "d370baa6-7b68-4a2c-9f0c-5a208bafd8b4",
   "metadata": {},
   "outputs": [],
   "source": [
    "titles = soup2.find_all(\"h3\", {\"class\": \"booktitle\"})\n",
    "for title in titles:\n",
    "    title = str(title.get_text().strip())\n",
    "    book_info[\"Title\"].append(title)\n",
    "\n",
    "\n",
    "\n",
    "logs = soup2.find_all(\"div\", {\"class\": \"details\"})\n",
    "log_counts = []\n",
    "for log in logs:\n",
    "    str_log = str(log)\n",
    "    split_str_log = str_log.split()\n",
    "    idx_Logged = split_str_log.index(\"Logged\")\n",
    "    log_counts.append(split_str_log[idx_Logged + 1])\n",
    "\n",
    "for log in log_counts:\n",
    "    book_info[\"Logs\"].append(log)\n",
    "\n",
    "\n",
    "\n",
    "## The Authors are out of place because some have 2, but the \"authors\" seperated each \"a\" tag into its own row.\n",
    "\n",
    "authors = soup2.find_all(\"a\")  \n",
    "\n",
    "for author in authors:\n",
    "    if \"/authors/\" in author.get(\"href\", \"\"): \n",
    "        book_info[\"Author\"].append(author.get_text(strip=True))\n",
    "\n",
    "min_length = min(len(book_info[key]) for key in book_info)\n",
    "\n",
    "# Trim all lists in book_info to the minimum length\n",
    "for key in book_info:\n",
    "    book_info[key] = book_info[key][:min_length]\n",
    "\n",
    "\n",
    "#print({key: len(value) for key, value in book_info.items()})\n",
    "\n"
   ]
  },
  {
   "cell_type": "markdown",
   "id": "e25a94e9-fb78-4b31-8d92-f6543d064993",
   "metadata": {},
   "source": [
    "### Page Number 3"
   ]
  },
  {
   "cell_type": "code",
   "execution_count": 17,
   "id": "06cc92b7-8f5c-4961-861b-c1214cd3b728",
   "metadata": {},
   "outputs": [],
   "source": [
    "url = \"https://openlibrary.org/trending/forever?page=3\"\n",
    "response = requests.get(url)\n",
    "soup3 = BeautifulSoup(response.content, 'html.parser')\n",
    "\n",
    "titles = soup3.find_all(\"h3\", {\"class\": \"booktitle\"})\n",
    "for title in titles:\n",
    "    title = str(title.get_text().strip())\n",
    "    book_info[\"Title\"].append(title)\n",
    "\n",
    "\n",
    "\n",
    "logs = soup3.find_all(\"div\", {\"class\": \"details\"})\n",
    "log_counts = []\n",
    "for log in logs:\n",
    "    str_log = str(log)\n",
    "    split_str_log = str_log.split()\n",
    "    idx_Logged = split_str_log.index(\"Logged\")\n",
    "    log_counts.append(split_str_log[idx_Logged + 1])\n",
    "\n",
    "for log in log_counts:\n",
    "    book_info[\"Logs\"].append(log)\n",
    "\n",
    "\n",
    "\n",
    "## The Authors are out of place because some have 2, but the \"authors\" seperated each \"a\" tag into its own row.\n",
    "\n",
    "authors = soup3.find_all(\"a\")  \n",
    "\n",
    "for author in authors:\n",
    "    if \"/authors/\" in author.get(\"href\", \"\"): \n",
    "        book_info[\"Author\"].append(author.get_text(strip=True))\n",
    "\n",
    "min_length = min(len(book_info[key]) for key in book_info)\n",
    "\n",
    "# Trim all lists in book_info to the minimum length\n",
    "for key in book_info:\n",
    "    book_info[key] = book_info[key][:min_length]\n",
    "\n",
    "\n",
    "#print({key: len(value) for key, value in book_info.items()})\n"
   ]
  },
  {
   "cell_type": "markdown",
   "id": "8fdb1750-9031-4006-8c90-fc6040ea9bc8",
   "metadata": {},
   "source": [
    "### Page 4.........."
   ]
  },
  {
   "cell_type": "code",
   "execution_count": 18,
   "id": "e37fd30b-a473-4420-bd32-7f15b768a699",
   "metadata": {},
   "outputs": [],
   "source": [
    "url = \"https://openlibrary.org/trending/forever?page=4\"\n",
    "response = requests.get(url)\n",
    "soup3 = BeautifulSoup(response.content, 'html.parser')\n",
    "\n",
    "titles = soup3.find_all(\"h3\", {\"class\": \"booktitle\"})\n",
    "for title in titles:\n",
    "    title = str(title.get_text().strip())\n",
    "    book_info[\"Title\"].append(title)\n",
    "\n",
    "\n",
    "\n",
    "logs = soup3.find_all(\"div\", {\"class\": \"details\"})\n",
    "log_counts = []\n",
    "for log in logs:\n",
    "    str_log = str(log)\n",
    "    split_str_log = str_log.split()\n",
    "    idx_Logged = split_str_log.index(\"Logged\")\n",
    "    log_counts.append(split_str_log[idx_Logged + 1])\n",
    "\n",
    "for log in log_counts:\n",
    "    book_info[\"Logs\"].append(log)\n",
    "\n",
    "\n",
    "\n",
    "## The Authors are out of place because some have 2, but the \"authors\" seperated each \"a\" tag into its own row.\n",
    "\n",
    "authors = soup3.find_all(\"a\")  \n",
    "\n",
    "for author in authors:\n",
    "    if \"/authors/\" in author.get(\"href\", \"\"): \n",
    "        book_info[\"Author\"].append(author.get_text(strip=True))\n",
    "\n",
    "min_length = min(len(book_info[key]) for key in book_info)\n",
    "\n",
    "# Trim all lists in book_info to the minimum length\n",
    "for key in book_info:\n",
    "    book_info[key] = book_info[key][:min_length]\n"
   ]
  },
  {
   "cell_type": "markdown",
   "id": "280f8d58-fa04-4cac-96d4-601191a090e4",
   "metadata": {},
   "source": [
    "### Page 5 !!"
   ]
  },
  {
   "cell_type": "code",
   "execution_count": 19,
   "id": "d7d188a0-7bb9-4965-951c-53cdf2833231",
   "metadata": {},
   "outputs": [],
   "source": [
    "url = \"https://openlibrary.org/trending/forever?page=5\"\n",
    "response = requests.get(url)\n",
    "soup3 = BeautifulSoup(response.content, 'html.parser')\n",
    "\n",
    "titles = soup3.find_all(\"h3\", {\"class\": \"booktitle\"})\n",
    "for title in titles:\n",
    "    title = str(title.get_text().strip())\n",
    "    book_info[\"Title\"].append(title)\n",
    "\n",
    "\n",
    "\n",
    "logs = soup3.find_all(\"div\", {\"class\": \"details\"})\n",
    "log_counts = []\n",
    "for log in logs:\n",
    "    str_log = str(log)\n",
    "    split_str_log = str_log.split()\n",
    "    idx_Logged = split_str_log.index(\"Logged\")\n",
    "    log_counts.append(split_str_log[idx_Logged + 1])\n",
    "\n",
    "for log in log_counts:\n",
    "    book_info[\"Logs\"].append(log)\n",
    "\n",
    "\n",
    "\n",
    "## The Authors are out of place because some have 2, but the \"authors\" seperated each \"a\" tag into its own row.\n",
    "\n",
    "authors = soup3.find_all(\"a\")  \n",
    "\n",
    "for author in authors:\n",
    "    if \"/authors/\" in author.get(\"href\", \"\"): \n",
    "        book_info[\"Author\"].append(author.get_text(strip=True))\n",
    "\n",
    "min_length = min(len(book_info[key]) for key in book_info)\n",
    "\n",
    "# Trim all lists in book_info to the minimum length\n",
    "for key in book_info:\n",
    "    book_info[key] = book_info[key][:min_length]"
   ]
  },
  {
   "cell_type": "markdown",
   "id": "22ed72e8-5f21-4382-9424-abd72b058f2f",
   "metadata": {},
   "source": [
    "### Page 6"
   ]
  },
  {
   "cell_type": "code",
   "execution_count": 20,
   "id": "bb3aadbd-d649-4b91-99e0-df2fa2b6abc8",
   "metadata": {},
   "outputs": [],
   "source": [
    "url = \"https://openlibrary.org/trending/forever?page=6\"\n",
    "response = requests.get(url)\n",
    "soup3 = BeautifulSoup(response.content, 'html.parser')\n",
    "\n",
    "titles = soup3.find_all(\"h3\", {\"class\": \"booktitle\"})\n",
    "for title in titles:\n",
    "    title = str(title.get_text().strip())\n",
    "    book_info[\"Title\"].append(title)\n",
    "\n",
    "\n",
    "\n",
    "logs = soup3.find_all(\"div\", {\"class\": \"details\"})\n",
    "log_counts = []\n",
    "for log in logs:\n",
    "    str_log = str(log)\n",
    "    split_str_log = str_log.split()\n",
    "    idx_Logged = split_str_log.index(\"Logged\")\n",
    "    log_counts.append(split_str_log[idx_Logged + 1])\n",
    "\n",
    "for log in log_counts:\n",
    "    book_info[\"Logs\"].append(log)\n",
    "\n",
    "\n",
    "\n",
    "## The Authors are out of place because some have 2, but the \"authors\" seperated each \"a\" tag into its own row.\n",
    "\n",
    "authors = soup3.find_all(\"a\")  \n",
    "\n",
    "for author in authors:\n",
    "    if \"/authors/\" in author.get(\"href\", \"\"): \n",
    "        book_info[\"Author\"].append(author.get_text(strip=True))\n",
    "\n",
    "min_length = min(len(book_info[key]) for key in book_info)\n",
    "\n",
    "# Trim all lists in book_info to the minimum length\n",
    "for key in book_info:\n",
    "    book_info[key] = book_info[key][:min_length]"
   ]
  },
  {
   "cell_type": "markdown",
   "id": "010e1152-ea3e-49b6-9c33-82d3f415cebd",
   "metadata": {},
   "source": [
    "### Page 7"
   ]
  },
  {
   "cell_type": "code",
   "execution_count": 21,
   "id": "67ff7a1f-8e9d-4e2c-9b7b-38f0d1e488a7",
   "metadata": {},
   "outputs": [],
   "source": [
    "url = \"https://openlibrary.org/trending/forever?page=7\"\n",
    "response = requests.get(url)\n",
    "soup3 = BeautifulSoup(response.content, 'html.parser')\n",
    "\n",
    "titles = soup3.find_all(\"h3\", {\"class\": \"booktitle\"})\n",
    "for title in titles:\n",
    "    title = str(title.get_text().strip())\n",
    "    book_info[\"Title\"].append(title)\n",
    "\n",
    "\n",
    "\n",
    "logs = soup3.find_all(\"div\", {\"class\": \"details\"})\n",
    "log_counts = []\n",
    "for log in logs:\n",
    "    str_log = str(log)\n",
    "    split_str_log = str_log.split()\n",
    "    idx_Logged = split_str_log.index(\"Logged\")\n",
    "    log_counts.append(split_str_log[idx_Logged + 1])\n",
    "\n",
    "for log in log_counts:\n",
    "    book_info[\"Logs\"].append(log)\n",
    "\n",
    "\n",
    "\n",
    "## The Authors are out of place because some have 2, but the \"authors\" seperated each \"a\" tag into its own row.\n",
    "\n",
    "authors = soup3.find_all(\"a\")  \n",
    "\n",
    "for author in authors:\n",
    "    if \"/authors/\" in author.get(\"href\", \"\"): \n",
    "        book_info[\"Author\"].append(author.get_text(strip=True))\n",
    "\n",
    "min_length = min(len(book_info[key]) for key in book_info)\n",
    "\n",
    "# Trim all lists in book_info to the minimum length\n",
    "for key in book_info:\n",
    "    book_info[key] = book_info[key][:min_length]"
   ]
  },
  {
   "cell_type": "markdown",
   "id": "71b291a4-faac-4983-b3d2-801a343a924c",
   "metadata": {},
   "source": [
    "### Page 8"
   ]
  },
  {
   "cell_type": "code",
   "execution_count": 22,
   "id": "d6cb1559-ba32-4eaf-b845-05b0165d6cc6",
   "metadata": {},
   "outputs": [],
   "source": [
    "url = \"https://openlibrary.org/trending/forever?page=8\"\n",
    "response = requests.get(url)\n",
    "soup3 = BeautifulSoup(response.content, 'html.parser')\n",
    "\n",
    "titles = soup3.find_all(\"h3\", {\"class\": \"booktitle\"})\n",
    "for title in titles:\n",
    "    title = str(title.get_text().strip())\n",
    "    book_info[\"Title\"].append(title)\n",
    "\n",
    "\n",
    "\n",
    "logs = soup3.find_all(\"div\", {\"class\": \"details\"})\n",
    "log_counts = []\n",
    "for log in logs:\n",
    "    str_log = str(log)\n",
    "    split_str_log = str_log.split()\n",
    "    idx_Logged = split_str_log.index(\"Logged\")\n",
    "    log_counts.append(split_str_log[idx_Logged + 1])\n",
    "\n",
    "for log in log_counts:\n",
    "    book_info[\"Logs\"].append(log)\n",
    "\n",
    "\n",
    "\n",
    "## The Authors are out of place because some have 2, but the \"authors\" seperated each \"a\" tag into its own row.\n",
    "\n",
    "authors = soup3.find_all(\"a\")  \n",
    "\n",
    "for author in authors:\n",
    "    if \"/authors/\" in author.get(\"href\", \"\"): \n",
    "        book_info[\"Author\"].append(author.get_text(strip=True))\n",
    "\n",
    "min_length = min(len(book_info[key]) for key in book_info)\n",
    "\n",
    "# Trim all lists in book_info to the minimum length\n",
    "for key in book_info:\n",
    "    book_info[key] = book_info[key][:min_length]"
   ]
  },
  {
   "cell_type": "markdown",
   "id": "c27af8ad-302a-4f4b-a338-edcc2f52ce2f",
   "metadata": {},
   "source": [
    "### Page 9"
   ]
  },
  {
   "cell_type": "code",
   "execution_count": 23,
   "id": "24ab140b-734d-47bc-9275-1e4e622f5471",
   "metadata": {},
   "outputs": [],
   "source": [
    "url = \"https://openlibrary.org/trending/forever?page=9\"\n",
    "response = requests.get(url)\n",
    "soup3 = BeautifulSoup(response.content, 'html.parser')\n",
    "\n",
    "titles = soup3.find_all(\"h3\", {\"class\": \"booktitle\"})\n",
    "for title in titles:\n",
    "    title = str(title.get_text().strip())\n",
    "    book_info[\"Title\"].append(title)\n",
    "\n",
    "\n",
    "\n",
    "logs = soup3.find_all(\"div\", {\"class\": \"details\"})\n",
    "log_counts = []\n",
    "for log in logs:\n",
    "    str_log = str(log)\n",
    "    split_str_log = str_log.split()\n",
    "    idx_Logged = split_str_log.index(\"Logged\")\n",
    "    log_counts.append(split_str_log[idx_Logged + 1])\n",
    "\n",
    "for log in log_counts:\n",
    "    book_info[\"Logs\"].append(log)\n",
    "\n",
    "\n",
    "\n",
    "## The Authors are out of place because some have 2, but the \"authors\" seperated each \"a\" tag into its own row.\n",
    "\n",
    "authors = soup3.find_all(\"a\")  \n",
    "\n",
    "for author in authors:\n",
    "    if \"/authors/\" in author.get(\"href\", \"\"): \n",
    "        book_info[\"Author\"].append(author.get_text(strip=True))\n",
    "\n",
    "min_length = min(len(book_info[key]) for key in book_info)\n",
    "\n",
    "# Trim all lists in book_info to the minimum length\n",
    "for key in book_info:\n",
    "    book_info[key] = book_info[key][:min_length]"
   ]
  },
  {
   "cell_type": "markdown",
   "id": "ded9d23e-39f1-4bb6-868c-cb07b4e25e71",
   "metadata": {},
   "source": [
    "### Page 10"
   ]
  },
  {
   "cell_type": "code",
   "execution_count": 24,
   "id": "943682c3-3c08-44e5-8b9d-fd990553ceb4",
   "metadata": {},
   "outputs": [],
   "source": [
    "url = \"https://openlibrary.org/trending/forever?page=10\"\n",
    "response = requests.get(url)\n",
    "soup3 = BeautifulSoup(response.content, 'html.parser')\n",
    "\n",
    "titles = soup3.find_all(\"h3\", {\"class\": \"booktitle\"})\n",
    "for title in titles:\n",
    "    title = str(title.get_text().strip())\n",
    "    book_info[\"Title\"].append(title)\n",
    "\n",
    "\n",
    "\n",
    "logs = soup3.find_all(\"div\", {\"class\": \"details\"})\n",
    "log_counts = []\n",
    "for log in logs:\n",
    "    str_log = str(log)\n",
    "    split_str_log = str_log.split()\n",
    "    idx_Logged = split_str_log.index(\"Logged\")\n",
    "    log_counts.append(split_str_log[idx_Logged + 1])\n",
    "\n",
    "for log in log_counts:\n",
    "    book_info[\"Logs\"].append(log)\n",
    "\n",
    "\n",
    "\n",
    "## The Authors are out of place because some have 2, but the \"authors\" seperated each \"a\" tag into its own row.\n",
    "\n",
    "authors = soup3.find_all(\"a\")  \n",
    "\n",
    "for author in authors:\n",
    "    if \"/authors/\" in author.get(\"href\", \"\"): \n",
    "        book_info[\"Author\"].append(author.get_text(strip=True))\n",
    "\n",
    "min_length = min(len(book_info[key]) for key in book_info)\n",
    "\n",
    "# Trim all lists in book_info to the minimum length\n",
    "for key in book_info:\n",
    "    book_info[key] = book_info[key][:min_length]"
   ]
  },
  {
   "cell_type": "code",
   "execution_count": 25,
   "id": "79862eff-eaf8-4172-b5e3-53b68ed14310",
   "metadata": {},
   "outputs": [],
   "source": [
    "df = pd.DataFrame(book_info)"
   ]
  },
  {
   "cell_type": "code",
   "execution_count": 26,
   "id": "4732bc88-1acb-411e-8443-6054ca615ff8",
   "metadata": {
    "scrolled": true
   },
   "outputs": [
    {
     "data": {
      "text/html": [
       "<div>\n",
       "<style scoped>\n",
       "    .dataframe tbody tr th:only-of-type {\n",
       "        vertical-align: middle;\n",
       "    }\n",
       "\n",
       "    .dataframe tbody tr th {\n",
       "        vertical-align: top;\n",
       "    }\n",
       "\n",
       "    .dataframe thead th {\n",
       "        text-align: right;\n",
       "    }\n",
       "</style>\n",
       "<table border=\"1\" class=\"dataframe\">\n",
       "  <thead>\n",
       "    <tr style=\"text-align: right;\">\n",
       "      <th></th>\n",
       "      <th>Title</th>\n",
       "      <th>Author</th>\n",
       "      <th>Logs</th>\n",
       "    </tr>\n",
       "  </thead>\n",
       "  <tbody>\n",
       "    <tr>\n",
       "      <th>194</th>\n",
       "      <td>The Titan's Curse</td>\n",
       "      <td>Khaled Hosseini</td>\n",
       "      <td>1301</td>\n",
       "    </tr>\n",
       "    <tr>\n",
       "      <th>195</th>\n",
       "      <td>Cien años de soledad</td>\n",
       "      <td>Dan Brown</td>\n",
       "      <td>1301</td>\n",
       "    </tr>\n",
       "    <tr>\n",
       "      <th>196</th>\n",
       "      <td>A child called \"it\"</td>\n",
       "      <td>Mark Haddon</td>\n",
       "      <td>1299</td>\n",
       "    </tr>\n",
       "    <tr>\n",
       "      <th>197</th>\n",
       "      <td>A Wrinkle in Time</td>\n",
       "      <td>Toni Morrison</td>\n",
       "      <td>1296</td>\n",
       "    </tr>\n",
       "    <tr>\n",
       "      <th>198</th>\n",
       "      <td>I, Robot</td>\n",
       "      <td>Eric Carle</td>\n",
       "      <td>1280</td>\n",
       "    </tr>\n",
       "  </tbody>\n",
       "</table>\n",
       "</div>"
      ],
      "text/plain": [
       "                    Title           Author  Logs\n",
       "194     The Titan's Curse  Khaled Hosseini  1301\n",
       "195  Cien años de soledad        Dan Brown  1301\n",
       "196   A child called \"it\"      Mark Haddon  1299\n",
       "197     A Wrinkle in Time    Toni Morrison  1296\n",
       "198              I, Robot       Eric Carle  1280"
      ]
     },
     "execution_count": 26,
     "metadata": {},
     "output_type": "execute_result"
    }
   ],
   "source": [
    "df.tail()\n"
   ]
  },
  {
   "cell_type": "code",
   "execution_count": 27,
   "id": "a993762a-7d9b-423a-b184-5c61d5bd8fde",
   "metadata": {},
   "outputs": [],
   "source": [
    "df[\"Logs\"] = pd.to_numeric(df[\"Logs\"], errors='coerce')\n"
   ]
  },
  {
   "cell_type": "code",
   "execution_count": 28,
   "id": "7e311b47-6347-42c7-9634-a32195f12c63",
   "metadata": {},
   "outputs": [
    {
     "name": "stdout",
     "output_type": "stream",
     "text": [
      "<class 'pandas.core.frame.DataFrame'>\n",
      "RangeIndex: 199 entries, 0 to 198\n",
      "Data columns (total 3 columns):\n",
      " #   Column  Non-Null Count  Dtype \n",
      "---  ------  --------------  ----- \n",
      " 0   Title   199 non-null    object\n",
      " 1   Author  199 non-null    object\n",
      " 2   Logs    199 non-null    int64 \n",
      "dtypes: int64(1), object(2)\n",
      "memory usage: 4.8+ KB\n"
     ]
    }
   ],
   "source": [
    "df.info()"
   ]
  },
  {
   "cell_type": "code",
   "execution_count": 29,
   "id": "ce591cd2-5199-49a0-8b30-21cfdfa55450",
   "metadata": {},
   "outputs": [
    {
     "data": {
      "text/plain": [
       "1720020"
      ]
     },
     "execution_count": 29,
     "metadata": {},
     "output_type": "execute_result"
    }
   ],
   "source": [
    "df.loc[190, \"Logs\"] * df.loc[191, \"Logs\"] "
   ]
  },
  {
   "cell_type": "code",
   "execution_count": 30,
   "id": "d8a1f048-dd0f-4997-b56a-a073ae82358c",
   "metadata": {},
   "outputs": [
    {
     "data": {
      "text/plain": [
       "Title                            Author                 Logs\n",
       "... Trotzdem Ja zum Leben sagen  Veronica Roth          1705    1\n",
       "The Cruel Prince                 Mariona Gastó Jiménez  4329    1\n",
       "The Da Vinci Code                Dan Brown              2635    1\n",
       "The Duke and I                   Lancali                1473    1\n",
       "The Eyes of Darkness             Jeff Kinney            1901    1\n",
       "                                                               ..\n",
       "I Don't Love You Anymore         Rithvik Singh          5477    1\n",
       "I Fell in Love with Hope         Jodi Picoult           1526    1\n",
       "I'm Glad My Mom Died             Jennette McCurdy       3675    1\n",
       "I, Robot                         Eric Carle             1280    1\n",
       "कामसूत्र                         Gary Goldschneider     1308    1\n",
       "Name: count, Length: 199, dtype: int64"
      ]
     },
     "execution_count": 30,
     "metadata": {},
     "output_type": "execute_result"
    }
   ],
   "source": [
    "df.value_counts()"
   ]
  },
  {
   "cell_type": "code",
   "execution_count": null,
   "id": "11766ede-25ea-44f4-8f7b-156c9febbca5",
   "metadata": {},
   "outputs": [],
   "source": []
  },
  {
   "cell_type": "code",
   "execution_count": 31,
   "id": "73f779a0-eb84-47d2-b3c0-5dab40182086",
   "metadata": {},
   "outputs": [
    {
     "data": {
      "text/plain": [
       "174"
      ]
     },
     "execution_count": 31,
     "metadata": {},
     "output_type": "execute_result"
    }
   ],
   "source": [
    "k1 = 0\n",
    "k5 = 0\n",
    "k10 = 0\n",
    "k20 = 0\n",
    "k30 = 0\n",
    "k40 = 0\n",
    "\n",
    "for log in df[\"Logs\"]:\n",
    "    if log >= 40000:\n",
    "        k1 += 1\n",
    "        k5 += 1\n",
    "        k10 += 1\n",
    "        k20 += 1\n",
    "        k30 += 1\n",
    "        k40 += 1\n",
    "    elif log >= 30000:\n",
    "        k30 += 1\n",
    "        k40 += 1\n",
    "    elif log >= 20000:\n",
    "        k20 += 1\n",
    "        k30 += 1\n",
    "        k40 += 1\n",
    "    elif log >= 10000:\n",
    "        k10 += 1\n",
    "        k20 += 1\n",
    "        k30 += 1\n",
    "        k40 += 1\n",
    "    elif log >= 5000:\n",
    "        k5 += 1\n",
    "        k10 += 1\n",
    "        k20 += 1\n",
    "        k30 += 1\n",
    "        k40 += 1\n",
    "    else :\n",
    "        k1 += 1\n",
    "        k5 += 1\n",
    "        k10 += 1\n",
    "        k20 += 1\n",
    "        k30 += 1\n",
    "        k40 += 1\n",
    "\n",
    "\n",
    "k1"
   ]
  },
  {
   "cell_type": "code",
   "execution_count": 32,
   "id": "db44ca63-626d-4e35-bad7-5805ad4970fd",
   "metadata": {},
   "outputs": [],
   "source": [
    "def under1000(df):\n",
    "    k1 = 0\n",
    "    k5 = 0\n",
    "    k10 = 0\n",
    "    k20 = 0\n",
    "    k30 = 0\n",
    "    k40 = 0\n",
    "    for log in df[\"Logs\"]:\n",
    "        if log > 40000:\n",
    "            k40 += 1\n",
    "        elif log > 30000:\n",
    "            k30 += 1\n",
    "           \n",
    "        elif log > 20000:\n",
    "            k20 += 1\n",
    "           \n",
    "        elif log > 10000:\n",
    "            k10 += 1\n",
    "           \n",
    "        elif log >= 5000:\n",
    "            k5 += 1\n",
    "        else :\n",
    "            k1 += 1\n",
    "        \n",
    "    print(k40)\n",
    "    print(k30)\n",
    "    print(k20)\n",
    "    print(k10)\n",
    "    print(k5)\n",
    "    return k1"
   ]
  },
  {
   "cell_type": "code",
   "execution_count": 33,
   "id": "c07f6acb-f24c-4802-8be3-e2e863b44f92",
   "metadata": {},
   "outputs": [
    {
     "name": "stdout",
     "output_type": "stream",
     "text": [
      "2\n",
      "2\n",
      "2\n",
      "4\n",
      "17\n"
     ]
    },
    {
     "data": {
      "text/plain": [
       "172"
      ]
     },
     "execution_count": 33,
     "metadata": {},
     "output_type": "execute_result"
    }
   ],
   "source": [
    "under1000(df)"
   ]
  },
  {
   "cell_type": "code",
   "execution_count": 37,
   "id": "62e837eb-8e61-4724-b1df-58cc9b961d3f",
   "metadata": {},
   "outputs": [
    {
     "data": {
      "text/html": [
       "<div>\n",
       "<style scoped>\n",
       "    .dataframe tbody tr th:only-of-type {\n",
       "        vertical-align: middle;\n",
       "    }\n",
       "\n",
       "    .dataframe tbody tr th {\n",
       "        vertical-align: top;\n",
       "    }\n",
       "\n",
       "    .dataframe thead th {\n",
       "        text-align: right;\n",
       "    }\n",
       "</style>\n",
       "<table border=\"1\" class=\"dataframe\">\n",
       "  <thead>\n",
       "    <tr style=\"text-align: right;\">\n",
       "      <th></th>\n",
       "      <th>Title</th>\n",
       "      <th>Author</th>\n",
       "      <th>Logs</th>\n",
       "    </tr>\n",
       "  </thead>\n",
       "  <tbody>\n",
       "    <tr>\n",
       "      <th>0</th>\n",
       "      <td>Atomic Habits</td>\n",
       "      <td>James Clear</td>\n",
       "      <td>41216</td>\n",
       "    </tr>\n",
       "    <tr>\n",
       "      <th>1</th>\n",
       "      <td>It Ends With Us</td>\n",
       "      <td>Colleen Hoover</td>\n",
       "      <td>40571</td>\n",
       "    </tr>\n",
       "    <tr>\n",
       "      <th>2</th>\n",
       "      <td>The 48 Laws of Power</td>\n",
       "      <td>Robert Greene</td>\n",
       "      <td>35010</td>\n",
       "    </tr>\n",
       "    <tr>\n",
       "      <th>3</th>\n",
       "      <td>The Subtle Art of Not Giving a F*ck</td>\n",
       "      <td>Joost Elffers</td>\n",
       "      <td>30188</td>\n",
       "    </tr>\n",
       "    <tr>\n",
       "      <th>4</th>\n",
       "      <td>Um casamento arranjado</td>\n",
       "      <td>Mark Manson</td>\n",
       "      <td>23277</td>\n",
       "    </tr>\n",
       "    <tr>\n",
       "      <th>...</th>\n",
       "      <td>...</td>\n",
       "      <td>...</td>\n",
       "      <td>...</td>\n",
       "    </tr>\n",
       "    <tr>\n",
       "      <th>194</th>\n",
       "      <td>The Titan's Curse</td>\n",
       "      <td>Khaled Hosseini</td>\n",
       "      <td>1301</td>\n",
       "    </tr>\n",
       "    <tr>\n",
       "      <th>195</th>\n",
       "      <td>Cien años de soledad</td>\n",
       "      <td>Dan Brown</td>\n",
       "      <td>1301</td>\n",
       "    </tr>\n",
       "    <tr>\n",
       "      <th>196</th>\n",
       "      <td>A child called \"it\"</td>\n",
       "      <td>Mark Haddon</td>\n",
       "      <td>1299</td>\n",
       "    </tr>\n",
       "    <tr>\n",
       "      <th>197</th>\n",
       "      <td>A Wrinkle in Time</td>\n",
       "      <td>Toni Morrison</td>\n",
       "      <td>1296</td>\n",
       "    </tr>\n",
       "    <tr>\n",
       "      <th>198</th>\n",
       "      <td>I, Robot</td>\n",
       "      <td>Eric Carle</td>\n",
       "      <td>1280</td>\n",
       "    </tr>\n",
       "  </tbody>\n",
       "</table>\n",
       "<p>199 rows × 3 columns</p>\n",
       "</div>"
      ],
      "text/plain": [
       "                                   Title           Author   Logs\n",
       "0                          Atomic Habits      James Clear  41216\n",
       "1                        It Ends With Us   Colleen Hoover  40571\n",
       "2                   The 48 Laws of Power    Robert Greene  35010\n",
       "3    The Subtle Art of Not Giving a F*ck    Joost Elffers  30188\n",
       "4                 Um casamento arranjado      Mark Manson  23277\n",
       "..                                   ...              ...    ...\n",
       "194                    The Titan's Curse  Khaled Hosseini   1301\n",
       "195                 Cien años de soledad        Dan Brown   1301\n",
       "196                  A child called \"it\"      Mark Haddon   1299\n",
       "197                    A Wrinkle in Time    Toni Morrison   1296\n",
       "198                             I, Robot       Eric Carle   1280\n",
       "\n",
       "[199 rows x 3 columns]"
      ]
     },
     "execution_count": 37,
     "metadata": {},
     "output_type": "execute_result"
    }
   ],
   "source": [
    "df"
   ]
  },
  {
   "cell_type": "code",
   "execution_count": 41,
   "id": "f26fac87-78f6-416c-81fa-2929c6e1435d",
   "metadata": {},
   "outputs": [],
   "source": [
    "\n",
    "# Define conditions and corresponding values\n",
    "conditions = [\n",
    "    df[\"Logs\"] > 40000,\n",
    "    df[\"Logs\"] > 30000,\n",
    "    df[\"Logs\"] > 20000,\n",
    "    df[\"Logs\"] > 10000,\n",
    "    df[\"Logs\"] > 5000,\n",
    "    df[\"Logs\"] < 5000\n",
    "]\n",
    "values = [40000, 30000, 20000, 10000, 5000, 1000]\n",
    "\n",
    "# Assign values based on conditions\n",
    "df[\"Log_Category\"] = np.select(conditions, values, default=0)\n"
   ]
  },
  {
   "cell_type": "code",
   "execution_count": 42,
   "id": "0ea58a15-e829-49d1-bb7e-ff5edd391431",
   "metadata": {},
   "outputs": [
    {
     "data": {
      "text/html": [
       "<div>\n",
       "<style scoped>\n",
       "    .dataframe tbody tr th:only-of-type {\n",
       "        vertical-align: middle;\n",
       "    }\n",
       "\n",
       "    .dataframe tbody tr th {\n",
       "        vertical-align: top;\n",
       "    }\n",
       "\n",
       "    .dataframe thead th {\n",
       "        text-align: right;\n",
       "    }\n",
       "</style>\n",
       "<table border=\"1\" class=\"dataframe\">\n",
       "  <thead>\n",
       "    <tr style=\"text-align: right;\">\n",
       "      <th></th>\n",
       "      <th>Title</th>\n",
       "      <th>Author</th>\n",
       "      <th>Logs</th>\n",
       "      <th>Log_Category</th>\n",
       "    </tr>\n",
       "  </thead>\n",
       "  <tbody>\n",
       "    <tr>\n",
       "      <th>0</th>\n",
       "      <td>Atomic Habits</td>\n",
       "      <td>James Clear</td>\n",
       "      <td>41216</td>\n",
       "      <td>40000</td>\n",
       "    </tr>\n",
       "    <tr>\n",
       "      <th>1</th>\n",
       "      <td>It Ends With Us</td>\n",
       "      <td>Colleen Hoover</td>\n",
       "      <td>40571</td>\n",
       "      <td>40000</td>\n",
       "    </tr>\n",
       "    <tr>\n",
       "      <th>2</th>\n",
       "      <td>The 48 Laws of Power</td>\n",
       "      <td>Robert Greene</td>\n",
       "      <td>35010</td>\n",
       "      <td>30000</td>\n",
       "    </tr>\n",
       "    <tr>\n",
       "      <th>3</th>\n",
       "      <td>The Subtle Art of Not Giving a F*ck</td>\n",
       "      <td>Joost Elffers</td>\n",
       "      <td>30188</td>\n",
       "      <td>30000</td>\n",
       "    </tr>\n",
       "    <tr>\n",
       "      <th>4</th>\n",
       "      <td>Um casamento arranjado</td>\n",
       "      <td>Mark Manson</td>\n",
       "      <td>23277</td>\n",
       "      <td>20000</td>\n",
       "    </tr>\n",
       "    <tr>\n",
       "      <th>...</th>\n",
       "      <td>...</td>\n",
       "      <td>...</td>\n",
       "      <td>...</td>\n",
       "      <td>...</td>\n",
       "    </tr>\n",
       "    <tr>\n",
       "      <th>194</th>\n",
       "      <td>The Titan's Curse</td>\n",
       "      <td>Khaled Hosseini</td>\n",
       "      <td>1301</td>\n",
       "      <td>1000</td>\n",
       "    </tr>\n",
       "    <tr>\n",
       "      <th>195</th>\n",
       "      <td>Cien años de soledad</td>\n",
       "      <td>Dan Brown</td>\n",
       "      <td>1301</td>\n",
       "      <td>1000</td>\n",
       "    </tr>\n",
       "    <tr>\n",
       "      <th>196</th>\n",
       "      <td>A child called \"it\"</td>\n",
       "      <td>Mark Haddon</td>\n",
       "      <td>1299</td>\n",
       "      <td>1000</td>\n",
       "    </tr>\n",
       "    <tr>\n",
       "      <th>197</th>\n",
       "      <td>A Wrinkle in Time</td>\n",
       "      <td>Toni Morrison</td>\n",
       "      <td>1296</td>\n",
       "      <td>1000</td>\n",
       "    </tr>\n",
       "    <tr>\n",
       "      <th>198</th>\n",
       "      <td>I, Robot</td>\n",
       "      <td>Eric Carle</td>\n",
       "      <td>1280</td>\n",
       "      <td>1000</td>\n",
       "    </tr>\n",
       "  </tbody>\n",
       "</table>\n",
       "<p>199 rows × 4 columns</p>\n",
       "</div>"
      ],
      "text/plain": [
       "                                   Title           Author   Logs  Log_Category\n",
       "0                          Atomic Habits      James Clear  41216         40000\n",
       "1                        It Ends With Us   Colleen Hoover  40571         40000\n",
       "2                   The 48 Laws of Power    Robert Greene  35010         30000\n",
       "3    The Subtle Art of Not Giving a F*ck    Joost Elffers  30188         30000\n",
       "4                 Um casamento arranjado      Mark Manson  23277         20000\n",
       "..                                   ...              ...    ...           ...\n",
       "194                    The Titan's Curse  Khaled Hosseini   1301          1000\n",
       "195                 Cien años de soledad        Dan Brown   1301          1000\n",
       "196                  A child called \"it\"      Mark Haddon   1299          1000\n",
       "197                    A Wrinkle in Time    Toni Morrison   1296          1000\n",
       "198                             I, Robot       Eric Carle   1280          1000\n",
       "\n",
       "[199 rows x 4 columns]"
      ]
     },
     "execution_count": 42,
     "metadata": {},
     "output_type": "execute_result"
    }
   ],
   "source": [
    "df"
   ]
  },
  {
   "cell_type": "code",
   "execution_count": 43,
   "id": "c651bf43-b6c1-47a0-a717-48d364c731f0",
   "metadata": {},
   "outputs": [
    {
     "name": "stdout",
     "output_type": "stream",
     "text": [
      "<class 'pandas.core.frame.DataFrame'>\n",
      "RangeIndex: 199 entries, 0 to 198\n",
      "Data columns (total 4 columns):\n",
      " #   Column        Non-Null Count  Dtype \n",
      "---  ------        --------------  ----- \n",
      " 0   Title         199 non-null    object\n",
      " 1   Author        199 non-null    object\n",
      " 2   Logs          199 non-null    int64 \n",
      " 3   Log_Category  199 non-null    int32 \n",
      "dtypes: int32(1), int64(1), object(2)\n",
      "memory usage: 5.6+ KB\n"
     ]
    }
   ],
   "source": [
    "df.info()"
   ]
  },
  {
   "cell_type": "code",
   "execution_count": 61,
   "id": "dc1fa9d8-b590-4379-8a6b-b820bed5cb6a",
   "metadata": {},
   "outputs": [],
   "source": [
    "df[\"Log_Category\"] = df[\"Log_Category\"].astype(str)\n"
   ]
  },
  {
   "cell_type": "code",
   "execution_count": 67,
   "id": "8550eea0-9abb-433d-a49e-1737b7287cf5",
   "metadata": {},
   "outputs": [
    {
     "data": {
      "text/plain": [
       "<Axes: xlabel='Log_Category', ylabel='Frequency'>"
      ]
     },
     "execution_count": 67,
     "metadata": {},
     "output_type": "execute_result"
    },
    {
     "data": {
      "image/png": "[encoded data removed]",
      "text/plain": [
       "<Figure size 640x480 with 1 Axes>"
      ]
     },
     "metadata": {},
     "output_type": "display_data"
    }
   ],
   "source": [
    "\n",
    "category_counts = df[\"Log_Category\"].value_counts().reset_index()\n",
    "category_counts.columns = [\"Log_Category\", \"Frequency\"]\n",
    "\n",
    "sns.barplot(x=\"Log_Category\", y=\"Frequency\", data=category_counts)\n"
   ]
  },
  {
   "cell_type": "code",
   "execution_count": 72,
   "id": "3502d8a3-b46d-4278-ad5a-a19af9558aa8",
   "metadata": {},
   "outputs": [
    {
     "data": {
      "text/plain": [
       "<Axes: xlabel='Logs', ylabel='Count'>"
      ]
     },
     "execution_count": 72,
     "metadata": {},
     "output_type": "execute_result"
    },
    {
     "data": {
      "image/png": "[encoded data removed]",
      "text/plain": [
       "<Figure size 640x480 with 1 Axes>"
      ]
     },
     "metadata": {},
     "output_type": "display_data"
    }
   ],
   "source": [
    "sns.histplot(data=df, x=\"Logs\", bins=20)"
   ]
  },
  {
   "cell_type": "code",
   "execution_count": 73,
   "id": "2fe10c86-887c-42ee-a32f-dcf14df65ca8",
   "metadata": {},
   "outputs": [
    {
     "data": {
      "text/plain": [
       "5691.120857073478"
      ]
     },
     "execution_count": 73,
     "metadata": {},
     "output_type": "execute_result"
    }
   ],
   "source": [
    "df[\"Logs\"].std()"
   ]
  },
  {
   "cell_type": "code",
   "execution_count": null,
   "id": "3f50de22-399e-49ab-9828-3e47ce6fa9b6",
   "metadata": {},
   "outputs": [],
   "source": []
  },
  {
   "cell_type": "code",
   "execution_count": 81,
   "id": "662f2508-32e1-4d11-9830-e795aa03870f",
   "metadata": {},
   "outputs": [
    {
     "name": "stdout",
     "output_type": "stream",
     "text": [
      "<class 'pandas.core.frame.DataFrame'>\n",
      "RangeIndex: 199 entries, 0 to 198\n",
      "Data columns (total 4 columns):\n",
      " #   Column        Non-Null Count  Dtype \n",
      "---  ------        --------------  ----- \n",
      " 0   Title         199 non-null    object\n",
      " 1   Author        199 non-null    object\n",
      " 2   Logs          199 non-null    int64 \n",
      " 3   Log_Category  199 non-null    object\n",
      "dtypes: int64(1), object(3)\n",
      "memory usage: 6.3+ KB\n"
     ]
    }
   ],
   "source": [
    "df.info()"
   ]
  },
  {
   "cell_type": "code",
   "execution_count": 80,
   "id": "8bee815d-0a23-41c6-8573-9588d19caf82",
   "metadata": {},
   "outputs": [
    {
     "name": "stdout",
     "output_type": "stream",
     "text": [
      "86.4321608040201\n",
      "8.542713567839195\n",
      "2.0100502512562812\n",
      "1.0050251256281406\n",
      "1.0050251256281406\n",
      "1.0050251256281406\n"
     ]
    }
   ],
   "source": [
    "math = (172/ 199) * 100\n",
    "math2 = (17 / 199) * 100\n",
    "math3 = (4/199) * 100\n",
    "math4 = (2/199) * 100\n",
    "print(math)\n",
    "print(math2)\n",
    "print(math3)\n",
    "print(math4)\n",
    "print(math4)\n",
    "print(math4)"
   ]
  },
  {
   "cell_type": "code",
   "execution_count": 53,
   "id": "b4f2aad4-e0af-418e-b853-6f18f31e94f3",
   "metadata": {},
   "outputs": [
    {
     "data": {
      "text/plain": [
       "Log_Category\n",
       "1000     172\n",
       "5000      17\n",
       "10000      4\n",
       "40000      2\n",
       "30000      2\n",
       "20000      2\n",
       "Name: count, dtype: int64"
      ]
     },
     "execution_count": 53,
     "metadata": {},
     "output_type": "execute_result"
    }
   ],
   "source": [
    "df[\"Log_Category\"].value_counts()"
   ]
  },
  {
   "cell_type": "code",
   "execution_count": 87,
   "id": "22dfc6c5-a22a-41c1-917f-c91759d8a378",
   "metadata": {},
   "outputs": [
    {
     "data": {
      "text/plain": [
       "3385.0"
      ]
     },
     "execution_count": 87,
     "metadata": {},
     "output_type": "execute_result"
    }
   ],
   "source": [
    "over_40k = 40000 * 0.01\n",
    "over_30k = 30000 * 0.01\n",
    "over_20k = 20000 * 0.01\n",
    "over_10k = 10000 * 0.02\n",
    "over_5k = 5000 * .085\n",
    "less_5k_more_1k = 1000 * .86\n",
    "\n",
    "expected_value = over_40k + over_30k + over_20k + over_10k + over_5k + less_5k_more_1k + 1000\n",
    "expected_value"
   ]
  },
  {
   "cell_type": "code",
   "execution_count": 89,
   "id": "d23ae330-d018-40ef-89ac-7517eefe57e5",
   "metadata": {},
   "outputs": [
    {
     "data": {
      "text/plain": [
       "9076.1"
      ]
     },
     "execution_count": 89,
     "metadata": {},
     "output_type": "execute_result"
    }
   ],
   "source": [
    "finally_finished = 5691.1 + 3385.0\n",
    "finally_finished\n"
   ]
  },
  {
   "cell_type": "code",
   "execution_count": null,
   "id": "5e0d8502-f6b4-4125-ac15-2cb23bb6e229",
   "metadata": {},
   "outputs": [],
   "source": []
  }
 ],
 "metadata": {
  "kernelspec": {
   "display_name": "Python 3 (ipykernel)",
   "language": "python",
   "name": "python3"
  },
  "language_info": {
   "codemirror_mode": {
    "name": "ipython",
    "version": 3
   },
   "file_extension": ".py",
   "mimetype": "text/x-python",
   "name": "python",
   "nbconvert_exporter": "python",
   "pygments_lexer": "ipython3",
   "version": "3.12.4"
  }
 },
 "nbformat": 4,
 "nbformat_minor": 5
}
