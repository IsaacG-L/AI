{
 "cells": [
  {
   "cell_type": "code",
   "execution_count": 9,
   "id": "6f93c11b",
   "metadata": {},
   "outputs": [
    {
     "data": {
      "text/plain": [
       "['Unnamed: 0', 'Breed', 'Age (Years)', 'Weight (kg)', 'Color', 'Gender', 'ID']"
      ]
     },
     "execution_count": 9,
     "metadata": {},
     "output_type": "execute_result"
    }
   ],
   "source": [
    "import pandas as pd\n",
    "data = pd.read_csv(\"cats.csv\")\n",
    "list(data.columns)"
   ]
  },
  {
   "cell_type": "code",
   "execution_count": 12,
   "id": "5aad2a4b",
   "metadata": {},
   "outputs": [
    {
     "data": {
      "text/plain": [
       "Index(['Unnamed: 0', 'Breed', 'Age (Years)', 'Weight (kg)', 'Color', 'Gender',\n",
       "       'ID'],\n",
       "      dtype='object')"
      ]
     },
     "execution_count": 12,
     "metadata": {},
     "output_type": "execute_result"
    }
   ],
   "source": [
    "data.columns"
   ]
  },
  {
   "cell_type": "code",
   "execution_count": 19,
   "id": "b0e45e84",
   "metadata": {},
   "outputs": [],
   "source": [
    "#data.drop(['Unnamed: 0'], inplace=True, axis=1)//#\n"
   ]
  },
  {
   "cell_type": "code",
   "execution_count": 18,
   "id": "0c45cd34",
   "metadata": {},
   "outputs": [
    {
     "data": {
      "text/plain": [
       "<bound method NDFrame.head of              Breed  Age (Years)  Weight (kg)          Color  Gender   ID\n",
       "0     Egyptian Mau           12            7          White    Male  181\n",
       "1    Scottish Fold           17            8  Tortoiseshell    Male  907\n",
       "2           Sphynx            9            9         Orange    Male  732\n",
       "3         Oriental            6            7           Gray  Female  464\n",
       "4         Savannah           14            7  Tortoiseshell  Female  451\n",
       "..             ...          ...          ...            ...     ...  ...\n",
       "995     Abyssinian           18            3          Black  Female  347\n",
       "996        Burmese            4            5        Pointed  Female  339\n",
       "997        Persian           19            9          Cream    Male  659\n",
       "998        Persian           17            3        Bicolor  Female  124\n",
       "999           Manx           18            8          Black    Male  226\n",
       "\n",
       "[1000 rows x 6 columns]>"
      ]
     },
     "execution_count": 18,
     "metadata": {},
     "output_type": "execute_result"
    }
   ],
   "source": [
    "data.head"
   ]
  },
  {
   "cell_type": "code",
   "execution_count": null,
   "id": "99384083",
   "metadata": {},
   "outputs": [],
   "source": []
  }
 ],
 "metadata": {
  "kernelspec": {
   "display_name": "Python 3 (ipykernel)",
   "language": "python",
   "name": "python3"
  },
  "language_info": {
   "codemirror_mode": {
    "name": "ipython",
    "version": 3
   },
   "file_extension": ".py",
   "mimetype": "text/x-python",
   "name": "python",
   "nbconvert_exporter": "python",
   "pygments_lexer": "ipython3",
   "version": "3.9.13"
  }
 },
 "nbformat": 4,
 "nbformat_minor": 5
}
