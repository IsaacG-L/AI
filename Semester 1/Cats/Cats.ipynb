{
 "cells": [
  {
   "cell_type": "code",
   "execution_count": 52,
   "id": "6f93c11b",
   "metadata": {},
   "outputs": [
    {
     "data": {
      "text/plain": [
       "['Unnamed: 0', 'Breed', 'Age (Years)', 'Weight (kg)', 'Color', 'Gender', 'ID']"
      ]
     },
     "execution_count": 52,
     "metadata": {},
     "output_type": "execute_result"
    }
   ],
   "source": [
    "import pandas as pd\n",
    "data = pd.read_csv(\"cats.csv\")\n",
    "list(data.columns)"
   ]
  },
  {
   "cell_type": "code",
   "execution_count": 53,
   "id": "58603a58",
   "metadata": {},
   "outputs": [
    {
     "data": {
      "text/plain": [
       "Index(['Unnamed: 0', 'Breed', 'Age (Years)', 'Weight (kg)', 'Color', 'Gender',\n",
       "       'ID'],\n",
       "      dtype='object')"
      ]
     },
     "execution_count": 53,
     "metadata": {},
     "output_type": "execute_result"
    }
   ],
   "source": [
    "data.columns"
   ]
  },
  {
   "cell_type": "code",
   "execution_count": 54,
   "id": "704f104b",
   "metadata": {},
   "outputs": [],
   "source": [
    "data.drop(['Unnamed: 0'], inplace=True, axis=1)\n"
   ]
  },
  {
   "cell_type": "code",
   "execution_count": 64,
   "id": "fb0f5933",
   "metadata": {},
   "outputs": [
    {
     "data": {
      "text/plain": [
       "Index(['Breed', 'Age (Years)', 'Weight (kg)', 'Color', 'Gender', 'ID',\n",
       "       'Weight (lbs)'],\n",
       "      dtype='object')"
      ]
     },
     "execution_count": 64,
     "metadata": {},
     "output_type": "execute_result"
    }
   ],
   "source": [
    "data.columns"
   ]
  },
  {
   "cell_type": "code",
   "execution_count": 55,
   "id": "dcb06f35",
   "metadata": {},
   "outputs": [
    {
     "data": {
      "text/plain": [
       "<bound method NDFrame.head of              Breed  Age (Years)  Weight (kg)          Color  Gender   ID\n",
       "0     Egyptian Mau           12            7          White    Male  181\n",
       "1    Scottish Fold           17            8  Tortoiseshell    Male  907\n",
       "2           Sphynx            9            9         Orange    Male  732\n",
       "3         Oriental            6            7           Gray  Female  464\n",
       "4         Savannah           14            7  Tortoiseshell  Female  451\n",
       "..             ...          ...          ...            ...     ...  ...\n",
       "995     Abyssinian           18            3          Black  Female  347\n",
       "996        Burmese            4            5        Pointed  Female  339\n",
       "997        Persian           19            9          Cream    Male  659\n",
       "998        Persian           17            3        Bicolor  Female  124\n",
       "999           Manx           18            8          Black    Male  226\n",
       "\n",
       "[1000 rows x 6 columns]>"
      ]
     },
     "execution_count": 55,
     "metadata": {},
     "output_type": "execute_result"
    }
   ],
   "source": [
    "data.head"
   ]
  },
  {
   "cell_type": "code",
   "execution_count": 56,
   "id": "a6e27f0f",
   "metadata": {
    "scrolled": false
   },
   "outputs": [
    {
     "name": "stdout",
     "output_type": "stream",
     "text": [
      "Breed          Maine Coon\n",
      "Age (Years)             9\n",
      "Weight (kg)             5\n",
      "Color                Blue\n",
      "Gender             Female\n",
      "ID                    590\n",
      "Name: 98, dtype: object\n"
     ]
    }
   ],
   "source": [
    "result = data.iloc[98]\n",
    "\n",
    "print(result)"
   ]
  },
  {
   "cell_type": "code",
   "execution_count": 57,
   "id": "b544ea4b",
   "metadata": {},
   "outputs": [
    {
     "data": {
      "text/plain": [
       "'Maine Coon'"
      ]
     },
     "execution_count": 57,
     "metadata": {},
     "output_type": "execute_result"
    }
   ],
   "source": [
    "data.loc[98][\"Breed\"]"
   ]
  },
  {
   "cell_type": "code",
   "execution_count": 58,
   "id": "6a0b73f4",
   "metadata": {},
   "outputs": [],
   "source": [
    "data.loc[len(data)] = [\"Orange Tabby\", 3, 5, \"Orange\", \"Male\", len(data)]"
   ]
  },
  {
   "cell_type": "code",
   "execution_count": 59,
   "id": "9f3d1dc6",
   "metadata": {},
   "outputs": [
    {
     "data": {
      "text/html": [
       "<div>\n",
       "<style scoped>\n",
       "    .dataframe tbody tr th:only-of-type {\n",
       "        vertical-align: middle;\n",
       "    }\n",
       "\n",
       "    .dataframe tbody tr th {\n",
       "        vertical-align: top;\n",
       "    }\n",
       "\n",
       "    .dataframe thead th {\n",
       "        text-align: right;\n",
       "    }\n",
       "</style>\n",
       "<table border=\"1\" class=\"dataframe\">\n",
       "  <thead>\n",
       "    <tr style=\"text-align: right;\">\n",
       "      <th></th>\n",
       "      <th>Breed</th>\n",
       "      <th>Age (Years)</th>\n",
       "      <th>Weight (kg)</th>\n",
       "      <th>Color</th>\n",
       "      <th>Gender</th>\n",
       "      <th>ID</th>\n",
       "    </tr>\n",
       "  </thead>\n",
       "  <tbody>\n",
       "    <tr>\n",
       "      <th>0</th>\n",
       "      <td>Egyptian Mau</td>\n",
       "      <td>12</td>\n",
       "      <td>7</td>\n",
       "      <td>White</td>\n",
       "      <td>Male</td>\n",
       "      <td>181</td>\n",
       "    </tr>\n",
       "    <tr>\n",
       "      <th>1</th>\n",
       "      <td>Scottish Fold</td>\n",
       "      <td>17</td>\n",
       "      <td>8</td>\n",
       "      <td>Tortoiseshell</td>\n",
       "      <td>Male</td>\n",
       "      <td>907</td>\n",
       "    </tr>\n",
       "    <tr>\n",
       "      <th>2</th>\n",
       "      <td>Sphynx</td>\n",
       "      <td>9</td>\n",
       "      <td>9</td>\n",
       "      <td>Orange</td>\n",
       "      <td>Male</td>\n",
       "      <td>732</td>\n",
       "    </tr>\n",
       "    <tr>\n",
       "      <th>3</th>\n",
       "      <td>Oriental</td>\n",
       "      <td>6</td>\n",
       "      <td>7</td>\n",
       "      <td>Gray</td>\n",
       "      <td>Female</td>\n",
       "      <td>464</td>\n",
       "    </tr>\n",
       "    <tr>\n",
       "      <th>4</th>\n",
       "      <td>Savannah</td>\n",
       "      <td>14</td>\n",
       "      <td>7</td>\n",
       "      <td>Tortoiseshell</td>\n",
       "      <td>Female</td>\n",
       "      <td>451</td>\n",
       "    </tr>\n",
       "    <tr>\n",
       "      <th>...</th>\n",
       "      <td>...</td>\n",
       "      <td>...</td>\n",
       "      <td>...</td>\n",
       "      <td>...</td>\n",
       "      <td>...</td>\n",
       "      <td>...</td>\n",
       "    </tr>\n",
       "    <tr>\n",
       "      <th>996</th>\n",
       "      <td>Burmese</td>\n",
       "      <td>4</td>\n",
       "      <td>5</td>\n",
       "      <td>Pointed</td>\n",
       "      <td>Female</td>\n",
       "      <td>339</td>\n",
       "    </tr>\n",
       "    <tr>\n",
       "      <th>997</th>\n",
       "      <td>Persian</td>\n",
       "      <td>19</td>\n",
       "      <td>9</td>\n",
       "      <td>Cream</td>\n",
       "      <td>Male</td>\n",
       "      <td>659</td>\n",
       "    </tr>\n",
       "    <tr>\n",
       "      <th>998</th>\n",
       "      <td>Persian</td>\n",
       "      <td>17</td>\n",
       "      <td>3</td>\n",
       "      <td>Bicolor</td>\n",
       "      <td>Female</td>\n",
       "      <td>124</td>\n",
       "    </tr>\n",
       "    <tr>\n",
       "      <th>999</th>\n",
       "      <td>Manx</td>\n",
       "      <td>18</td>\n",
       "      <td>8</td>\n",
       "      <td>Black</td>\n",
       "      <td>Male</td>\n",
       "      <td>226</td>\n",
       "    </tr>\n",
       "    <tr>\n",
       "      <th>1000</th>\n",
       "      <td>Orange Tabby</td>\n",
       "      <td>3</td>\n",
       "      <td>5</td>\n",
       "      <td>Orange</td>\n",
       "      <td>Male</td>\n",
       "      <td>1000</td>\n",
       "    </tr>\n",
       "  </tbody>\n",
       "</table>\n",
       "<p>1001 rows × 6 columns</p>\n",
       "</div>"
      ],
      "text/plain": [
       "              Breed  Age (Years)  Weight (kg)          Color  Gender    ID\n",
       "0      Egyptian Mau           12            7          White    Male   181\n",
       "1     Scottish Fold           17            8  Tortoiseshell    Male   907\n",
       "2            Sphynx            9            9         Orange    Male   732\n",
       "3          Oriental            6            7           Gray  Female   464\n",
       "4          Savannah           14            7  Tortoiseshell  Female   451\n",
       "...             ...          ...          ...            ...     ...   ...\n",
       "996         Burmese            4            5        Pointed  Female   339\n",
       "997         Persian           19            9          Cream    Male   659\n",
       "998         Persian           17            3        Bicolor  Female   124\n",
       "999            Manx           18            8          Black    Male   226\n",
       "1000   Orange Tabby            3            5         Orange    Male  1000\n",
       "\n",
       "[1001 rows x 6 columns]"
      ]
     },
     "execution_count": 59,
     "metadata": {},
     "output_type": "execute_result"
    }
   ],
   "source": [
    "data"
   ]
  },
  {
   "cell_type": "code",
   "execution_count": 61,
   "id": "491290e5",
   "metadata": {},
   "outputs": [],
   "source": [
    "#new_row = {'Breed': 'Orange Tabby', 'Age (Years)': 3, 'Weight (kg)': 5}\n",
    "\n",
    "#data = data.append(new_row, ignore_index=True)\n",
    "\n",
    "#print(data)"
   ]
  },
  {
   "cell_type": "code",
   "execution_count": 62,
   "id": "38008ef0",
   "metadata": {},
   "outputs": [],
   "source": [
    "data['Weight (lbs)'] = data['Weight (kg)'] * 2.205"
   ]
  },
  {
   "cell_type": "code",
   "execution_count": 63,
   "id": "88350cdf",
   "metadata": {},
   "outputs": [
    {
     "data": {
      "text/html": [
       "<div>\n",
       "<style scoped>\n",
       "    .dataframe tbody tr th:only-of-type {\n",
       "        vertical-align: middle;\n",
       "    }\n",
       "\n",
       "    .dataframe tbody tr th {\n",
       "        vertical-align: top;\n",
       "    }\n",
       "\n",
       "    .dataframe thead th {\n",
       "        text-align: right;\n",
       "    }\n",
       "</style>\n",
       "<table border=\"1\" class=\"dataframe\">\n",
       "  <thead>\n",
       "    <tr style=\"text-align: right;\">\n",
       "      <th></th>\n",
       "      <th>Breed</th>\n",
       "      <th>Age (Years)</th>\n",
       "      <th>Weight (kg)</th>\n",
       "      <th>Color</th>\n",
       "      <th>Gender</th>\n",
       "      <th>ID</th>\n",
       "      <th>Weight (lbs)</th>\n",
       "    </tr>\n",
       "  </thead>\n",
       "  <tbody>\n",
       "    <tr>\n",
       "      <th>0</th>\n",
       "      <td>Egyptian Mau</td>\n",
       "      <td>12</td>\n",
       "      <td>7</td>\n",
       "      <td>White</td>\n",
       "      <td>Male</td>\n",
       "      <td>181.0</td>\n",
       "      <td>15.435</td>\n",
       "    </tr>\n",
       "    <tr>\n",
       "      <th>1</th>\n",
       "      <td>Scottish Fold</td>\n",
       "      <td>17</td>\n",
       "      <td>8</td>\n",
       "      <td>Tortoiseshell</td>\n",
       "      <td>Male</td>\n",
       "      <td>907.0</td>\n",
       "      <td>17.640</td>\n",
       "    </tr>\n",
       "    <tr>\n",
       "      <th>2</th>\n",
       "      <td>Sphynx</td>\n",
       "      <td>9</td>\n",
       "      <td>9</td>\n",
       "      <td>Orange</td>\n",
       "      <td>Male</td>\n",
       "      <td>732.0</td>\n",
       "      <td>19.845</td>\n",
       "    </tr>\n",
       "    <tr>\n",
       "      <th>3</th>\n",
       "      <td>Oriental</td>\n",
       "      <td>6</td>\n",
       "      <td>7</td>\n",
       "      <td>Gray</td>\n",
       "      <td>Female</td>\n",
       "      <td>464.0</td>\n",
       "      <td>15.435</td>\n",
       "    </tr>\n",
       "    <tr>\n",
       "      <th>4</th>\n",
       "      <td>Savannah</td>\n",
       "      <td>14</td>\n",
       "      <td>7</td>\n",
       "      <td>Tortoiseshell</td>\n",
       "      <td>Female</td>\n",
       "      <td>451.0</td>\n",
       "      <td>15.435</td>\n",
       "    </tr>\n",
       "    <tr>\n",
       "      <th>...</th>\n",
       "      <td>...</td>\n",
       "      <td>...</td>\n",
       "      <td>...</td>\n",
       "      <td>...</td>\n",
       "      <td>...</td>\n",
       "      <td>...</td>\n",
       "      <td>...</td>\n",
       "    </tr>\n",
       "    <tr>\n",
       "      <th>997</th>\n",
       "      <td>Persian</td>\n",
       "      <td>19</td>\n",
       "      <td>9</td>\n",
       "      <td>Cream</td>\n",
       "      <td>Male</td>\n",
       "      <td>659.0</td>\n",
       "      <td>19.845</td>\n",
       "    </tr>\n",
       "    <tr>\n",
       "      <th>998</th>\n",
       "      <td>Persian</td>\n",
       "      <td>17</td>\n",
       "      <td>3</td>\n",
       "      <td>Bicolor</td>\n",
       "      <td>Female</td>\n",
       "      <td>124.0</td>\n",
       "      <td>6.615</td>\n",
       "    </tr>\n",
       "    <tr>\n",
       "      <th>999</th>\n",
       "      <td>Manx</td>\n",
       "      <td>18</td>\n",
       "      <td>8</td>\n",
       "      <td>Black</td>\n",
       "      <td>Male</td>\n",
       "      <td>226.0</td>\n",
       "      <td>17.640</td>\n",
       "    </tr>\n",
       "    <tr>\n",
       "      <th>1000</th>\n",
       "      <td>Orange Tabby</td>\n",
       "      <td>3</td>\n",
       "      <td>5</td>\n",
       "      <td>Orange</td>\n",
       "      <td>Male</td>\n",
       "      <td>1000.0</td>\n",
       "      <td>11.025</td>\n",
       "    </tr>\n",
       "    <tr>\n",
       "      <th>1001</th>\n",
       "      <td>Orange Tabby</td>\n",
       "      <td>3</td>\n",
       "      <td>5</td>\n",
       "      <td>NaN</td>\n",
       "      <td>NaN</td>\n",
       "      <td>NaN</td>\n",
       "      <td>11.025</td>\n",
       "    </tr>\n",
       "  </tbody>\n",
       "</table>\n",
       "<p>1002 rows × 7 columns</p>\n",
       "</div>"
      ],
      "text/plain": [
       "              Breed  Age (Years)  Weight (kg)          Color  Gender      ID  \\\n",
       "0      Egyptian Mau           12            7          White    Male   181.0   \n",
       "1     Scottish Fold           17            8  Tortoiseshell    Male   907.0   \n",
       "2            Sphynx            9            9         Orange    Male   732.0   \n",
       "3          Oriental            6            7           Gray  Female   464.0   \n",
       "4          Savannah           14            7  Tortoiseshell  Female   451.0   \n",
       "...             ...          ...          ...            ...     ...     ...   \n",
       "997         Persian           19            9          Cream    Male   659.0   \n",
       "998         Persian           17            3        Bicolor  Female   124.0   \n",
       "999            Manx           18            8          Black    Male   226.0   \n",
       "1000   Orange Tabby            3            5         Orange    Male  1000.0   \n",
       "1001   Orange Tabby            3            5            NaN     NaN     NaN   \n",
       "\n",
       "      Weight (lbs)  \n",
       "0           15.435  \n",
       "1           17.640  \n",
       "2           19.845  \n",
       "3           15.435  \n",
       "4           15.435  \n",
       "...            ...  \n",
       "997         19.845  \n",
       "998          6.615  \n",
       "999         17.640  \n",
       "1000        11.025  \n",
       "1001        11.025  \n",
       "\n",
       "[1002 rows x 7 columns]"
      ]
     },
     "execution_count": 63,
     "metadata": {},
     "output_type": "execute_result"
    }
   ],
   "source": [
    "data\n"
   ]
  },
  {
   "cell_type": "code",
   "execution_count": null,
   "id": "23c524b5",
   "metadata": {},
   "outputs": [],
   "source": []
  },
  {
   "cell_type": "code",
   "execution_count": null,
   "id": "c2c037fc",
   "metadata": {},
   "outputs": [],
   "source": []
  }
 ],
 "metadata": {
  "kernelspec": {
   "display_name": "Python 3 (ipykernel)",
   "language": "python",
   "name": "python3"
  },
  "language_info": {
   "codemirror_mode": {
    "name": "ipython",
    "version": 3
   },
   "file_extension": ".py",
   "mimetype": "text/x-python",
   "name": "python",
   "nbconvert_exporter": "python",
   "pygments_lexer": "ipython3",
   "version": "3.9.13"
  }
 },
 "nbformat": 4,
 "nbformat_minor": 5
}
