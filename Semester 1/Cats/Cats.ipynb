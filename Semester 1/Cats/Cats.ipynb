{
 "cells": [
  {
   "cell_type": "code",
   "execution_count": 23,
   "id": "6f93c11b",
   "metadata": {},
   "outputs": [
    {
     "data": {
      "text/plain": [
       "['Unnamed: 0', 'Breed', 'Age (Years)', 'Weight (kg)', 'Color', 'Gender', 'ID']"
      ]
     },
     "execution_count": 23,
     "metadata": {},
     "output_type": "execute_result"
    }
   ],
   "source": [
    "import pandas as pd\n",
    "data = pd.read_csv(\"cats.csv\")\n",
    "list(data.columns)"
   ]
  },
  {
   "cell_type": "code",
   "execution_count": 24,
   "id": "1ffe3298",
   "metadata": {},
   "outputs": [
    {
     "data": {
      "text/plain": [
       "Index(['Unnamed: 0', 'Breed', 'Age (Years)', 'Weight (kg)', 'Color', 'Gender',\n",
       "       'ID'],\n",
       "      dtype='object')"
      ]
     },
     "execution_count": 24,
     "metadata": {},
     "output_type": "execute_result"
    }
   ],
   "source": [
    "data.columns"
   ]
  },
  {
   "cell_type": "code",
   "execution_count": 25,
   "id": "aa785fa6",
   "metadata": {},
   "outputs": [],
   "source": [
    "#data.drop(['Unnamed: 0'], inplace=True, axis=1)//#\n"
   ]
  },
  {
   "cell_type": "code",
   "execution_count": 26,
   "id": "c5009cc0",
   "metadata": {},
   "outputs": [
    {
     "data": {
      "text/plain": [
       "<bound method NDFrame.head of      Unnamed: 0          Breed  Age (Years)  Weight (kg)          Color  \\\n",
       "0             0   Egyptian Mau           12            7          White   \n",
       "1             1  Scottish Fold           17            8  Tortoiseshell   \n",
       "2             2         Sphynx            9            9         Orange   \n",
       "3             3       Oriental            6            7           Gray   \n",
       "4             4       Savannah           14            7  Tortoiseshell   \n",
       "..          ...            ...          ...          ...            ...   \n",
       "995         995     Abyssinian           18            3          Black   \n",
       "996         996        Burmese            4            5        Pointed   \n",
       "997         997        Persian           19            9          Cream   \n",
       "998         998        Persian           17            3        Bicolor   \n",
       "999         999           Manx           18            8          Black   \n",
       "\n",
       "     Gender   ID  \n",
       "0      Male  181  \n",
       "1      Male  907  \n",
       "2      Male  732  \n",
       "3    Female  464  \n",
       "4    Female  451  \n",
       "..      ...  ...  \n",
       "995  Female  347  \n",
       "996  Female  339  \n",
       "997    Male  659  \n",
       "998  Female  124  \n",
       "999    Male  226  \n",
       "\n",
       "[1000 rows x 7 columns]>"
      ]
     },
     "execution_count": 26,
     "metadata": {},
     "output_type": "execute_result"
    }
   ],
   "source": [
    "data.head"
   ]
  },
  {
   "cell_type": "code",
   "execution_count": 30,
   "id": "2f3d2b2a",
   "metadata": {
    "scrolled": false
   },
   "outputs": [
    {
     "name": "stdout",
     "output_type": "stream",
     "text": [
      "Unnamed: 0           98.0\n",
      "Breed          Maine Coon\n",
      "Age (Years)             9\n",
      "Weight (kg)             5\n",
      "Color                Blue\n",
      "Gender             Female\n",
      "ID                  590.0\n",
      "Name: 98, dtype: object\n"
     ]
    }
   ],
   "source": [
    "result = data.iloc[98]\n",
    "\n",
    "print(result)"
   ]
  },
  {
   "cell_type": "code",
   "execution_count": 33,
   "id": "1beac4fb",
   "metadata": {},
   "outputs": [
    {
     "data": {
      "text/plain": [
       "'Maine Coon'"
      ]
     },
     "execution_count": 33,
     "metadata": {},
     "output_type": "execute_result"
    }
   ],
   "source": [
    "data.loc[98][\"Breed\"]"
   ]
  },
  {
   "cell_type": "code",
   "execution_count": 36,
   "id": "7aae10ee",
   "metadata": {},
   "outputs": [
    {
     "ename": "ValueError",
     "evalue": "cannot set a row with mismatched columns",
     "output_type": "error",
     "traceback": [
      "\u001b[1;31m---------------------------------------------------------------------------\u001b[0m",
      "\u001b[1;31mValueError\u001b[0m                                Traceback (most recent call last)",
      "\u001b[1;32m~\\AppData\\Local\\Temp\\ipykernel_14532\\108207784.py\u001b[0m in \u001b[0;36m<module>\u001b[1;34m\u001b[0m\n\u001b[1;32m----> 1\u001b[1;33m \u001b[0mdata\u001b[0m\u001b[1;33m.\u001b[0m\u001b[0mloc\u001b[0m\u001b[1;33m[\u001b[0m\u001b[0mlen\u001b[0m\u001b[1;33m(\u001b[0m\u001b[0mdata\u001b[0m\u001b[1;33m)\u001b[0m\u001b[1;33m]\u001b[0m \u001b[1;33m=\u001b[0m \u001b[1;33m[\u001b[0m\u001b[1;34m\"Orange Tabby\"\u001b[0m\u001b[1;33m,\u001b[0m \u001b[1;36m3\u001b[0m\u001b[1;33m,\u001b[0m \u001b[1;36m5\u001b[0m\u001b[1;33m,\u001b[0m \u001b[1;34m\"Orange\"\u001b[0m\u001b[1;33m,\u001b[0m \u001b[1;34m\"Male\"\u001b[0m\u001b[1;33m,\u001b[0m \u001b[1;36m0\u001b[0m\u001b[1;33m]\u001b[0m\u001b[1;33m\u001b[0m\u001b[1;33m\u001b[0m\u001b[0m\n\u001b[0m",
      "\u001b[1;32mC:\\ProgramData\\Anaconda3\\lib\\site-packages\\pandas\\core\\indexing.py\u001b[0m in \u001b[0;36m__setitem__\u001b[1;34m(self, key, value)\u001b[0m\n\u001b[0;32m    714\u001b[0m \u001b[1;33m\u001b[0m\u001b[0m\n\u001b[0;32m    715\u001b[0m         \u001b[0miloc\u001b[0m \u001b[1;33m=\u001b[0m \u001b[0mself\u001b[0m \u001b[1;32mif\u001b[0m \u001b[0mself\u001b[0m\u001b[1;33m.\u001b[0m\u001b[0mname\u001b[0m \u001b[1;33m==\u001b[0m \u001b[1;34m\"iloc\"\u001b[0m \u001b[1;32melse\u001b[0m \u001b[0mself\u001b[0m\u001b[1;33m.\u001b[0m\u001b[0mobj\u001b[0m\u001b[1;33m.\u001b[0m\u001b[0miloc\u001b[0m\u001b[1;33m\u001b[0m\u001b[1;33m\u001b[0m\u001b[0m\n\u001b[1;32m--> 716\u001b[1;33m         \u001b[0miloc\u001b[0m\u001b[1;33m.\u001b[0m\u001b[0m_setitem_with_indexer\u001b[0m\u001b[1;33m(\u001b[0m\u001b[0mindexer\u001b[0m\u001b[1;33m,\u001b[0m \u001b[0mvalue\u001b[0m\u001b[1;33m,\u001b[0m \u001b[0mself\u001b[0m\u001b[1;33m.\u001b[0m\u001b[0mname\u001b[0m\u001b[1;33m)\u001b[0m\u001b[1;33m\u001b[0m\u001b[1;33m\u001b[0m\u001b[0m\n\u001b[0m\u001b[0;32m    717\u001b[0m \u001b[1;33m\u001b[0m\u001b[0m\n\u001b[0;32m    718\u001b[0m     \u001b[1;32mdef\u001b[0m \u001b[0m_validate_key\u001b[0m\u001b[1;33m(\u001b[0m\u001b[0mself\u001b[0m\u001b[1;33m,\u001b[0m \u001b[0mkey\u001b[0m\u001b[1;33m,\u001b[0m \u001b[0maxis\u001b[0m\u001b[1;33m:\u001b[0m \u001b[0mint\u001b[0m\u001b[1;33m)\u001b[0m\u001b[1;33m:\u001b[0m\u001b[1;33m\u001b[0m\u001b[1;33m\u001b[0m\u001b[0m\n",
      "\u001b[1;32mC:\\ProgramData\\Anaconda3\\lib\\site-packages\\pandas\\core\\indexing.py\u001b[0m in \u001b[0;36m_setitem_with_indexer\u001b[1;34m(self, indexer, value, name)\u001b[0m\n\u001b[0;32m   1683\u001b[0m \u001b[1;33m\u001b[0m\u001b[0m\n\u001b[0;32m   1684\u001b[0m             \u001b[1;32mif\u001b[0m \u001b[0mmissing\u001b[0m\u001b[1;33m:\u001b[0m\u001b[1;33m\u001b[0m\u001b[1;33m\u001b[0m\u001b[0m\n\u001b[1;32m-> 1685\u001b[1;33m                 \u001b[0mself\u001b[0m\u001b[1;33m.\u001b[0m\u001b[0m_setitem_with_indexer_missing\u001b[0m\u001b[1;33m(\u001b[0m\u001b[0mindexer\u001b[0m\u001b[1;33m,\u001b[0m \u001b[0mvalue\u001b[0m\u001b[1;33m)\u001b[0m\u001b[1;33m\u001b[0m\u001b[1;33m\u001b[0m\u001b[0m\n\u001b[0m\u001b[0;32m   1686\u001b[0m                 \u001b[1;32mreturn\u001b[0m\u001b[1;33m\u001b[0m\u001b[1;33m\u001b[0m\u001b[0m\n\u001b[0;32m   1687\u001b[0m \u001b[1;33m\u001b[0m\u001b[0m\n",
      "\u001b[1;32mC:\\ProgramData\\Anaconda3\\lib\\site-packages\\pandas\\core\\indexing.py\u001b[0m in \u001b[0;36m_setitem_with_indexer_missing\u001b[1;34m(self, indexer, value)\u001b[0m\n\u001b[0;32m   2001\u001b[0m                     \u001b[1;31m# must have conforming columns\u001b[0m\u001b[1;33m\u001b[0m\u001b[1;33m\u001b[0m\u001b[0m\n\u001b[0;32m   2002\u001b[0m                     \u001b[1;32mif\u001b[0m \u001b[0mlen\u001b[0m\u001b[1;33m(\u001b[0m\u001b[0mvalue\u001b[0m\u001b[1;33m)\u001b[0m \u001b[1;33m!=\u001b[0m \u001b[0mlen\u001b[0m\u001b[1;33m(\u001b[0m\u001b[0mself\u001b[0m\u001b[1;33m.\u001b[0m\u001b[0mobj\u001b[0m\u001b[1;33m.\u001b[0m\u001b[0mcolumns\u001b[0m\u001b[1;33m)\u001b[0m\u001b[1;33m:\u001b[0m\u001b[1;33m\u001b[0m\u001b[1;33m\u001b[0m\u001b[0m\n\u001b[1;32m-> 2003\u001b[1;33m                         \u001b[1;32mraise\u001b[0m \u001b[0mValueError\u001b[0m\u001b[1;33m(\u001b[0m\u001b[1;34m\"cannot set a row with mismatched columns\"\u001b[0m\u001b[1;33m)\u001b[0m\u001b[1;33m\u001b[0m\u001b[1;33m\u001b[0m\u001b[0m\n\u001b[0m\u001b[0;32m   2004\u001b[0m \u001b[1;33m\u001b[0m\u001b[0m\n\u001b[0;32m   2005\u001b[0m                 \u001b[0mvalue\u001b[0m \u001b[1;33m=\u001b[0m \u001b[0mSeries\u001b[0m\u001b[1;33m(\u001b[0m\u001b[0mvalue\u001b[0m\u001b[1;33m,\u001b[0m \u001b[0mindex\u001b[0m\u001b[1;33m=\u001b[0m\u001b[0mself\u001b[0m\u001b[1;33m.\u001b[0m\u001b[0mobj\u001b[0m\u001b[1;33m.\u001b[0m\u001b[0mcolumns\u001b[0m\u001b[1;33m,\u001b[0m \u001b[0mname\u001b[0m\u001b[1;33m=\u001b[0m\u001b[0mindexer\u001b[0m\u001b[1;33m)\u001b[0m\u001b[1;33m\u001b[0m\u001b[1;33m\u001b[0m\u001b[0m\n",
      "\u001b[1;31mValueError\u001b[0m: cannot set a row with mismatched columns"
     ]
    }
   ],
   "source": [
    "#data.loc[len(data)] = [\"Orange Tabby\", 3, 5, \"Orange\", \"Male\", 0]"
   ]
  },
  {
   "cell_type": "code",
   "execution_count": 34,
   "id": "bdb6ae90",
   "metadata": {},
   "outputs": [
    {
     "data": {
      "text/html": [
       "<div>\n",
       "<style scoped>\n",
       "    .dataframe tbody tr th:only-of-type {\n",
       "        vertical-align: middle;\n",
       "    }\n",
       "\n",
       "    .dataframe tbody tr th {\n",
       "        vertical-align: top;\n",
       "    }\n",
       "\n",
       "    .dataframe thead th {\n",
       "        text-align: right;\n",
       "    }\n",
       "</style>\n",
       "<table border=\"1\" class=\"dataframe\">\n",
       "  <thead>\n",
       "    <tr style=\"text-align: right;\">\n",
       "      <th></th>\n",
       "      <th>Unnamed: 0</th>\n",
       "      <th>Breed</th>\n",
       "      <th>Age (Years)</th>\n",
       "      <th>Weight (kg)</th>\n",
       "      <th>Color</th>\n",
       "      <th>Gender</th>\n",
       "      <th>ID</th>\n",
       "    </tr>\n",
       "  </thead>\n",
       "  <tbody>\n",
       "    <tr>\n",
       "      <th>0</th>\n",
       "      <td>0.0</td>\n",
       "      <td>Egyptian Mau</td>\n",
       "      <td>12</td>\n",
       "      <td>7</td>\n",
       "      <td>White</td>\n",
       "      <td>Male</td>\n",
       "      <td>181.0</td>\n",
       "    </tr>\n",
       "    <tr>\n",
       "      <th>1</th>\n",
       "      <td>1.0</td>\n",
       "      <td>Scottish Fold</td>\n",
       "      <td>17</td>\n",
       "      <td>8</td>\n",
       "      <td>Tortoiseshell</td>\n",
       "      <td>Male</td>\n",
       "      <td>907.0</td>\n",
       "    </tr>\n",
       "    <tr>\n",
       "      <th>2</th>\n",
       "      <td>2.0</td>\n",
       "      <td>Sphynx</td>\n",
       "      <td>9</td>\n",
       "      <td>9</td>\n",
       "      <td>Orange</td>\n",
       "      <td>Male</td>\n",
       "      <td>732.0</td>\n",
       "    </tr>\n",
       "    <tr>\n",
       "      <th>3</th>\n",
       "      <td>3.0</td>\n",
       "      <td>Oriental</td>\n",
       "      <td>6</td>\n",
       "      <td>7</td>\n",
       "      <td>Gray</td>\n",
       "      <td>Female</td>\n",
       "      <td>464.0</td>\n",
       "    </tr>\n",
       "    <tr>\n",
       "      <th>4</th>\n",
       "      <td>4.0</td>\n",
       "      <td>Savannah</td>\n",
       "      <td>14</td>\n",
       "      <td>7</td>\n",
       "      <td>Tortoiseshell</td>\n",
       "      <td>Female</td>\n",
       "      <td>451.0</td>\n",
       "    </tr>\n",
       "    <tr>\n",
       "      <th>...</th>\n",
       "      <td>...</td>\n",
       "      <td>...</td>\n",
       "      <td>...</td>\n",
       "      <td>...</td>\n",
       "      <td>...</td>\n",
       "      <td>...</td>\n",
       "      <td>...</td>\n",
       "    </tr>\n",
       "    <tr>\n",
       "      <th>996</th>\n",
       "      <td>996.0</td>\n",
       "      <td>Burmese</td>\n",
       "      <td>4</td>\n",
       "      <td>5</td>\n",
       "      <td>Pointed</td>\n",
       "      <td>Female</td>\n",
       "      <td>339.0</td>\n",
       "    </tr>\n",
       "    <tr>\n",
       "      <th>997</th>\n",
       "      <td>997.0</td>\n",
       "      <td>Persian</td>\n",
       "      <td>19</td>\n",
       "      <td>9</td>\n",
       "      <td>Cream</td>\n",
       "      <td>Male</td>\n",
       "      <td>659.0</td>\n",
       "    </tr>\n",
       "    <tr>\n",
       "      <th>998</th>\n",
       "      <td>998.0</td>\n",
       "      <td>Persian</td>\n",
       "      <td>17</td>\n",
       "      <td>3</td>\n",
       "      <td>Bicolor</td>\n",
       "      <td>Female</td>\n",
       "      <td>124.0</td>\n",
       "    </tr>\n",
       "    <tr>\n",
       "      <th>999</th>\n",
       "      <td>999.0</td>\n",
       "      <td>Manx</td>\n",
       "      <td>18</td>\n",
       "      <td>8</td>\n",
       "      <td>Black</td>\n",
       "      <td>Male</td>\n",
       "      <td>226.0</td>\n",
       "    </tr>\n",
       "    <tr>\n",
       "      <th>1000</th>\n",
       "      <td>NaN</td>\n",
       "      <td>Orange Tabby</td>\n",
       "      <td>3</td>\n",
       "      <td>5</td>\n",
       "      <td>NaN</td>\n",
       "      <td>NaN</td>\n",
       "      <td>NaN</td>\n",
       "    </tr>\n",
       "  </tbody>\n",
       "</table>\n",
       "<p>1001 rows × 7 columns</p>\n",
       "</div>"
      ],
      "text/plain": [
       "      Unnamed: 0          Breed  Age (Years)  Weight (kg)          Color  \\\n",
       "0            0.0   Egyptian Mau           12            7          White   \n",
       "1            1.0  Scottish Fold           17            8  Tortoiseshell   \n",
       "2            2.0         Sphynx            9            9         Orange   \n",
       "3            3.0       Oriental            6            7           Gray   \n",
       "4            4.0       Savannah           14            7  Tortoiseshell   \n",
       "...          ...            ...          ...          ...            ...   \n",
       "996        996.0        Burmese            4            5        Pointed   \n",
       "997        997.0        Persian           19            9          Cream   \n",
       "998        998.0        Persian           17            3        Bicolor   \n",
       "999        999.0           Manx           18            8          Black   \n",
       "1000         NaN   Orange Tabby            3            5            NaN   \n",
       "\n",
       "      Gender     ID  \n",
       "0       Male  181.0  \n",
       "1       Male  907.0  \n",
       "2       Male  732.0  \n",
       "3     Female  464.0  \n",
       "4     Female  451.0  \n",
       "...      ...    ...  \n",
       "996   Female  339.0  \n",
       "997     Male  659.0  \n",
       "998   Female  124.0  \n",
       "999     Male  226.0  \n",
       "1000     NaN    NaN  \n",
       "\n",
       "[1001 rows x 7 columns]"
      ]
     },
     "execution_count": 34,
     "metadata": {},
     "output_type": "execute_result"
    }
   ],
   "source": [
    "data"
   ]
  },
  {
   "cell_type": "code",
   "execution_count": 28,
   "id": "adb10ece",
   "metadata": {},
   "outputs": [
    {
     "name": "stdout",
     "output_type": "stream",
     "text": [
      "      Unnamed: 0          Breed  Age (Years)  Weight (kg)          Color  \\\n",
      "0            0.0   Egyptian Mau           12            7          White   \n",
      "1            1.0  Scottish Fold           17            8  Tortoiseshell   \n",
      "2            2.0         Sphynx            9            9         Orange   \n",
      "3            3.0       Oriental            6            7           Gray   \n",
      "4            4.0       Savannah           14            7  Tortoiseshell   \n",
      "...          ...            ...          ...          ...            ...   \n",
      "996        996.0        Burmese            4            5        Pointed   \n",
      "997        997.0        Persian           19            9          Cream   \n",
      "998        998.0        Persian           17            3        Bicolor   \n",
      "999        999.0           Manx           18            8          Black   \n",
      "1000         NaN   Orange Tabby            3            5            NaN   \n",
      "\n",
      "      Gender     ID  \n",
      "0       Male  181.0  \n",
      "1       Male  907.0  \n",
      "2       Male  732.0  \n",
      "3     Female  464.0  \n",
      "4     Female  451.0  \n",
      "...      ...    ...  \n",
      "996   Female  339.0  \n",
      "997     Male  659.0  \n",
      "998   Female  124.0  \n",
      "999     Male  226.0  \n",
      "1000     NaN    NaN  \n",
      "\n",
      "[1001 rows x 7 columns]\n"
     ]
    },
    {
     "name": "stderr",
     "output_type": "stream",
     "text": [
      "C:\\Users\\igarcialopez\\AppData\\Local\\Temp\\ipykernel_14532\\3910001066.py:3: FutureWarning: The frame.append method is deprecated and will be removed from pandas in a future version. Use pandas.concat instead.\n",
      "  data = data.append(new_row, ignore_index=True)\n"
     ]
    }
   ],
   "source": [
    "new_row = {'Breed': 'Orange Tabby', 'Age (Years)': 3, 'Weight (kg)': 5}\n",
    "\n",
    "data = data.append(new_row, ignore_index=True)\n",
    "\n",
    "print(data)"
   ]
  },
  {
   "cell_type": "code",
   "execution_count": 38,
   "id": "b3ffb1bf",
   "metadata": {},
   "outputs": [],
   "source": [
    "data['Weight (lbs)'] = data['Weight (kg)'] * 2.205"
   ]
  },
  {
   "cell_type": "code",
   "execution_count": 39,
   "id": "a07196da",
   "metadata": {},
   "outputs": [
    {
     "data": {
      "text/html": [
       "<div>\n",
       "<style scoped>\n",
       "    .dataframe tbody tr th:only-of-type {\n",
       "        vertical-align: middle;\n",
       "    }\n",
       "\n",
       "    .dataframe tbody tr th {\n",
       "        vertical-align: top;\n",
       "    }\n",
       "\n",
       "    .dataframe thead th {\n",
       "        text-align: right;\n",
       "    }\n",
       "</style>\n",
       "<table border=\"1\" class=\"dataframe\">\n",
       "  <thead>\n",
       "    <tr style=\"text-align: right;\">\n",
       "      <th></th>\n",
       "      <th>Unnamed: 0</th>\n",
       "      <th>Breed</th>\n",
       "      <th>Age (Years)</th>\n",
       "      <th>Weight (kg)</th>\n",
       "      <th>Color</th>\n",
       "      <th>Gender</th>\n",
       "      <th>ID</th>\n",
       "      <th>Weight (lbs)</th>\n",
       "    </tr>\n",
       "  </thead>\n",
       "  <tbody>\n",
       "    <tr>\n",
       "      <th>0</th>\n",
       "      <td>0.0</td>\n",
       "      <td>Egyptian Mau</td>\n",
       "      <td>12</td>\n",
       "      <td>7</td>\n",
       "      <td>White</td>\n",
       "      <td>Male</td>\n",
       "      <td>181.0</td>\n",
       "      <td>15.435</td>\n",
       "    </tr>\n",
       "    <tr>\n",
       "      <th>1</th>\n",
       "      <td>1.0</td>\n",
       "      <td>Scottish Fold</td>\n",
       "      <td>17</td>\n",
       "      <td>8</td>\n",
       "      <td>Tortoiseshell</td>\n",
       "      <td>Male</td>\n",
       "      <td>907.0</td>\n",
       "      <td>17.640</td>\n",
       "    </tr>\n",
       "    <tr>\n",
       "      <th>2</th>\n",
       "      <td>2.0</td>\n",
       "      <td>Sphynx</td>\n",
       "      <td>9</td>\n",
       "      <td>9</td>\n",
       "      <td>Orange</td>\n",
       "      <td>Male</td>\n",
       "      <td>732.0</td>\n",
       "      <td>19.845</td>\n",
       "    </tr>\n",
       "    <tr>\n",
       "      <th>3</th>\n",
       "      <td>3.0</td>\n",
       "      <td>Oriental</td>\n",
       "      <td>6</td>\n",
       "      <td>7</td>\n",
       "      <td>Gray</td>\n",
       "      <td>Female</td>\n",
       "      <td>464.0</td>\n",
       "      <td>15.435</td>\n",
       "    </tr>\n",
       "    <tr>\n",
       "      <th>4</th>\n",
       "      <td>4.0</td>\n",
       "      <td>Savannah</td>\n",
       "      <td>14</td>\n",
       "      <td>7</td>\n",
       "      <td>Tortoiseshell</td>\n",
       "      <td>Female</td>\n",
       "      <td>451.0</td>\n",
       "      <td>15.435</td>\n",
       "    </tr>\n",
       "    <tr>\n",
       "      <th>...</th>\n",
       "      <td>...</td>\n",
       "      <td>...</td>\n",
       "      <td>...</td>\n",
       "      <td>...</td>\n",
       "      <td>...</td>\n",
       "      <td>...</td>\n",
       "      <td>...</td>\n",
       "      <td>...</td>\n",
       "    </tr>\n",
       "    <tr>\n",
       "      <th>996</th>\n",
       "      <td>996.0</td>\n",
       "      <td>Burmese</td>\n",
       "      <td>4</td>\n",
       "      <td>5</td>\n",
       "      <td>Pointed</td>\n",
       "      <td>Female</td>\n",
       "      <td>339.0</td>\n",
       "      <td>11.025</td>\n",
       "    </tr>\n",
       "    <tr>\n",
       "      <th>997</th>\n",
       "      <td>997.0</td>\n",
       "      <td>Persian</td>\n",
       "      <td>19</td>\n",
       "      <td>9</td>\n",
       "      <td>Cream</td>\n",
       "      <td>Male</td>\n",
       "      <td>659.0</td>\n",
       "      <td>19.845</td>\n",
       "    </tr>\n",
       "    <tr>\n",
       "      <th>998</th>\n",
       "      <td>998.0</td>\n",
       "      <td>Persian</td>\n",
       "      <td>17</td>\n",
       "      <td>3</td>\n",
       "      <td>Bicolor</td>\n",
       "      <td>Female</td>\n",
       "      <td>124.0</td>\n",
       "      <td>6.615</td>\n",
       "    </tr>\n",
       "    <tr>\n",
       "      <th>999</th>\n",
       "      <td>999.0</td>\n",
       "      <td>Manx</td>\n",
       "      <td>18</td>\n",
       "      <td>8</td>\n",
       "      <td>Black</td>\n",
       "      <td>Male</td>\n",
       "      <td>226.0</td>\n",
       "      <td>17.640</td>\n",
       "    </tr>\n",
       "    <tr>\n",
       "      <th>1000</th>\n",
       "      <td>NaN</td>\n",
       "      <td>Orange Tabby</td>\n",
       "      <td>3</td>\n",
       "      <td>5</td>\n",
       "      <td>NaN</td>\n",
       "      <td>NaN</td>\n",
       "      <td>NaN</td>\n",
       "      <td>11.025</td>\n",
       "    </tr>\n",
       "  </tbody>\n",
       "</table>\n",
       "<p>1001 rows × 8 columns</p>\n",
       "</div>"
      ],
      "text/plain": [
       "      Unnamed: 0          Breed  Age (Years)  Weight (kg)          Color  \\\n",
       "0            0.0   Egyptian Mau           12            7          White   \n",
       "1            1.0  Scottish Fold           17            8  Tortoiseshell   \n",
       "2            2.0         Sphynx            9            9         Orange   \n",
       "3            3.0       Oriental            6            7           Gray   \n",
       "4            4.0       Savannah           14            7  Tortoiseshell   \n",
       "...          ...            ...          ...          ...            ...   \n",
       "996        996.0        Burmese            4            5        Pointed   \n",
       "997        997.0        Persian           19            9          Cream   \n",
       "998        998.0        Persian           17            3        Bicolor   \n",
       "999        999.0           Manx           18            8          Black   \n",
       "1000         NaN   Orange Tabby            3            5            NaN   \n",
       "\n",
       "      Gender     ID  Weight (lbs)  \n",
       "0       Male  181.0        15.435  \n",
       "1       Male  907.0        17.640  \n",
       "2       Male  732.0        19.845  \n",
       "3     Female  464.0        15.435  \n",
       "4     Female  451.0        15.435  \n",
       "...      ...    ...           ...  \n",
       "996   Female  339.0        11.025  \n",
       "997     Male  659.0        19.845  \n",
       "998   Female  124.0         6.615  \n",
       "999     Male  226.0        17.640  \n",
       "1000     NaN    NaN        11.025  \n",
       "\n",
       "[1001 rows x 8 columns]"
      ]
     },
     "execution_count": 39,
     "metadata": {},
     "output_type": "execute_result"
    }
   ],
   "source": [
    "data\n"
   ]
  }
 ],
 "metadata": {
  "kernelspec": {
   "display_name": "Python 3 (ipykernel)",
   "language": "python",
   "name": "python3"
  },
  "language_info": {
   "codemirror_mode": {
    "name": "ipython",
    "version": 3
   },
   "file_extension": ".py",
   "mimetype": "text/x-python",
   "name": "python",
   "nbconvert_exporter": "python",
   "pygments_lexer": "ipython3",
   "version": "3.9.13"
  }
 },
 "nbformat": 4,
 "nbformat_minor": 5
}
