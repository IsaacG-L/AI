{
 "cells": [
  {
   "cell_type": "code",
   "execution_count": 1,
   "id": "cdd7bd3f",
   "metadata": {},
   "outputs": [],
   "source": [
    "import random\n"
   ]
  },
  {
   "cell_type": "markdown",
   "id": "fdced646",
   "metadata": {},
   "source": [
    "#### Theoretical P: P(  GENES   )=0.875"
   ]
  },
  {
   "cell_type": "code",
   "execution_count": 29,
   "id": "740292c5",
   "metadata": {},
   "outputs": [
    {
     "data": {
      "text/plain": [
       "0.875"
      ]
     },
     "execution_count": 29,
     "metadata": {},
     "output_type": "execute_result"
    }
   ],
   "source": [
    "7/8"
   ]
  },
  {
   "cell_type": "code",
   "execution_count": 27,
   "id": "36c632d9",
   "metadata": {},
   "outputs": [],
   "source": [
    "### Today I learned that \"return\" can only be used inside a function..."
   ]
  },
  {
   "cell_type": "code",
   "execution_count": 30,
   "id": "046bd387",
   "metadata": {},
   "outputs": [],
   "source": [
    "aa = 0 #nah  # 1\n",
    "ag = 0 #nah  # 2\n",
    "gg = 0 #yeah # 3\n",
    "\n",
    "cc = 0 #nah  # 4\n",
    "ct = 0 #nah  # 5\n",
    "tt = 0 #yeah # 6\n",
    "\n",
    "trials = 1000\n",
    "genes = 6\n",
    "count = 0\n",
    "count2 = 0\n",
    "def cilantro (genes, trials):\n",
    "    count = 0\n",
    "    count2 = 0\n",
    "    while count < trials:\n",
    "        \n",
    "        num = random.randint(1, 3)\n",
    "        num2 = random.randint(4, 6)\n",
    "        if num <= 2 and (num2 <= 5):\n",
    "            count += 1\n",
    "        else:\n",
    "            if num <= 2 or (num2 <= 5):\n",
    "                    count += 1\n",
    "            else:\n",
    "                    count2 += 1\n",
    "        \n",
    "    return (count - count2) / trials\n",
    "\n",
    "    \n",
    "    \n"
   ]
  },
  {
   "cell_type": "code",
   "execution_count": 35,
   "id": "535353ce",
   "metadata": {},
   "outputs": [
    {
     "data": {
      "text/plain": [
       "0.88"
      ]
     },
     "execution_count": 35,
     "metadata": {},
     "output_type": "execute_result"
    }
   ],
   "source": [
    "cilantro(6, trials)"
   ]
  },
  {
   "cell_type": "code",
   "execution_count": 36,
   "id": "d3ed3586",
   "metadata": {},
   "outputs": [],
   "source": [
    "### Teacher : GG    ### GG is blue, other is brown.\n",
    "### Partner: AG"
   ]
  },
  {
   "cell_type": "markdown",
   "id": "dedbbd9a",
   "metadata": {},
   "source": [
    "### P(Girl U Blue Eyes)=.25"
   ]
  },
  {
   "cell_type": "code",
   "execution_count": 37,
   "id": "8d278330",
   "metadata": {},
   "outputs": [
    {
     "ename": "IndentationError",
     "evalue": "expected an indented block (4120481788.py, line 4)",
     "output_type": "error",
     "traceback": [
      "\u001b[1;36m  File \u001b[1;32m\"C:\\Users\\igarcialopez\\AppData\\Local\\Temp\\ipykernel_51788\\4120481788.py\"\u001b[1;36m, line \u001b[1;32m4\u001b[0m\n\u001b[1;33m    while count3 < trials:\u001b[0m\n\u001b[1;37m                          ^\u001b[0m\n\u001b[1;31mIndentationError\u001b[0m\u001b[1;31m:\u001b[0m expected an indented block\n"
     ]
    }
   ],
   "source": [
    "\n",
    "while count3 < trials:\n",
    "    count3 = 0\n",
    "\n",
    "    rng = random.randint(1,4)\n",
    "    rng2 = random.randint(5,6)\n",
    "    if rng == 1 and (rng2 == 5):\n",
    "        count"
   ]
  },
  {
   "cell_type": "markdown",
   "id": "5c14c873",
   "metadata": {},
   "source": [
    "#### Teacher example:"
   ]
  },
  {
   "cell_type": "code",
   "execution_count": 38,
   "id": "7f3e2859",
   "metadata": {},
   "outputs": [
    {
     "ename": "IndentationError",
     "evalue": "expected an indented block (3002351381.py, line 2)",
     "output_type": "error",
     "traceback": [
      "\u001b[1;36m  File \u001b[1;32m\"C:\\Users\\igarcialopez\\AppData\\Local\\Temp\\ipykernel_51788\\3002351381.py\"\u001b[1;36m, line \u001b[1;32m2\u001b[0m\n\u001b[1;33m    while count < trials:\u001b[0m\n\u001b[1;37m                         ^\u001b[0m\n\u001b[1;31mIndentationError\u001b[0m\u001b[1;31m:\u001b[0m expected an indented block\n"
     ]
    }
   ],
   "source": [
    "county = 0\n",
    "event = 0\n",
    "while count < trials:\n",
    "    sex = random.randint(0, 1) # 0 =fe  1 = ma\n",
    "    color = random.randint(0, 1) # 0 = brown 1 = blue\n",
    "    if sex == 0 and color == 0:\n",
    "        event = event + 1\n",
    "        "
   ]
  },
  {
   "cell_type": "code",
   "execution_count": null,
   "id": "f7233520",
   "metadata": {},
   "outputs": [],
   "source": []
  }
 ],
 "metadata": {
  "kernelspec": {
   "display_name": "Python 3 (ipykernel)",
   "language": "python",
   "name": "python3"
  },
  "language_info": {
   "codemirror_mode": {
    "name": "ipython",
    "version": 3
   },
   "file_extension": ".py",
   "mimetype": "text/x-python",
   "name": "python",
   "nbconvert_exporter": "python",
   "pygments_lexer": "ipython3",
   "version": "3.9.13"
  }
 },
 "nbformat": 4,
 "nbformat_minor": 5
}
