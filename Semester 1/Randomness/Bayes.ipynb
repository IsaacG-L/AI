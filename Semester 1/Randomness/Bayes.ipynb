{
 "cells": [
  {
   "cell_type": "code",
   "execution_count": 14,
   "id": "18783b08",
   "metadata": {},
   "outputs": [],
   "source": [
    "import random\n",
    "import requests\n",
    "from bs4 import BeautifulSoup\n",
    "import pandas as pd"
   ]
  },
  {
   "cell_type": "markdown",
   "id": "270d2720",
   "metadata": {},
   "source": [
    "### Exit Ticket 11/14/24"
   ]
  },
  {
   "cell_type": "code",
   "execution_count": 15,
   "id": "d7f752a5",
   "metadata": {},
   "outputs": [
    {
     "data": {
      "text/plain": [
       "0.09000000000000001"
      ]
     },
     "execution_count": 15,
     "metadata": {},
     "output_type": "execute_result"
    }
   ],
   "source": [
    ".1 * .9"
   ]
  },
  {
   "cell_type": "code",
   "execution_count": null,
   "id": "956ca9e7",
   "metadata": {},
   "outputs": [],
   "source": []
  },
  {
   "cell_type": "code",
   "execution_count": null,
   "id": "4ee03603",
   "metadata": {},
   "outputs": [],
   "source": []
  },
  {
   "cell_type": "markdown",
   "id": "a723f2eb",
   "metadata": {},
   "source": [
    "### Nobel Prize mention Wiki"
   ]
  },
  {
   "cell_type": "code",
   "execution_count": 22,
   "id": "b804f86a",
   "metadata": {},
   "outputs": [],
   "source": [
    "url = \"https://en.wikipedia.org/wiki/List_of_Nobel_laureates#List_of_laureates\"\n",
    "response = requests.get(url)\n",
    "html = response.text\n",
    "\n",
    "soup = BeautifulSoup(html, 'html.parser')"
   ]
  },
  {
   "cell_type": "code",
   "execution_count": 35,
   "id": "d03efa77",
   "metadata": {},
   "outputs": [],
   "source": [
    "ivyLeague = [\"Harvard University\", \"Princeton University\", \"University of Pennsylvania\", \"Yale University\", \"Columbia University\", \"Brown University\", \"Cornell University\", \"Dartmout Univeristy\"]"
   ]
  },
  {
   "cell_type": "code",
   "execution_count": 34,
   "id": "15d02710",
   "metadata": {},
   "outputs": [],
   "source": [
    "def scrape_page(URL):\n",
    "    response = requests.get(URL)\n",
    "    soup = BeautifulSoup(html, 'html.parser')\n",
    "    str_soup = str(soup)\n",
    "    if ivyLeague in str_soup:\n",
    "        return True\n",
    "    return False"
   ]
  },
  {
   "cell_type": "code",
   "execution_count": null,
   "id": "f4e1f8bd",
   "metadata": {},
   "outputs": [],
   "source": []
  },
  {
   "cell_type": "code",
   "execution_count": 25,
   "id": "e0e366ab",
   "metadata": {},
   "outputs": [],
   "source": [
    "table = soup.find('table', {'class': 'wikitable'})"
   ]
  },
  {
   "cell_type": "code",
   "execution_count": null,
   "id": "df71a80a",
   "metadata": {},
   "outputs": [],
   "source": []
  },
  {
   "cell_type": "code",
   "execution_count": null,
   "id": "1ce10f8f",
   "metadata": {},
   "outputs": [],
   "source": []
  },
  {
   "cell_type": "code",
   "execution_count": null,
   "id": "459cddc0",
   "metadata": {},
   "outputs": [],
   "source": []
  },
  {
   "cell_type": "code",
   "execution_count": null,
   "id": "31a37259",
   "metadata": {},
   "outputs": [],
   "source": []
  },
  {
   "cell_type": "code",
   "execution_count": null,
   "id": "4ba5236f",
   "metadata": {},
   "outputs": [],
   "source": []
  },
  {
   "cell_type": "code",
   "execution_count": null,
   "id": "f0b26982",
   "metadata": {},
   "outputs": [],
   "source": []
  },
  {
   "cell_type": "code",
   "execution_count": 33,
   "id": "25eeb813",
   "metadata": {
    "collapsed": true
   },
   "outputs": [
    {
     "name": "stdout",
     "output_type": "stream",
     "text": [
      "Wilhelm Röntgen: Jacobus Henricus van 't Hoff\n",
      "Hendrik Lorentz;Pieter Zeeman: Emil Fischer\n",
      "Henri Becquerel;Pierre Curie;Marie Curie: Svante Arrhenius\n",
      "Lord Rayleigh: William Ramsay\n",
      "Philipp Lenard: Adolf von Baeyer\n",
      "J. J. Thomson: Henri Moissan\n",
      "Albert A. Michelson: Eduard Buchner\n",
      "Gabriel Lippmann: Ernest Rutherford\n",
      "Karl Ferdinand Braun;Guglielmo Marconi: Wilhelm Ostwald\n",
      "Johannes Diderik van der Waals: Otto Wallach\n",
      "Wilhelm Wien: Marie Curie\n",
      "Gustaf Dalén: Victor Grignard;Paul Sabatier\n",
      "Heike Kamerlingh Onnes: Alfred Werner\n",
      "Max von Laue: Theodore William Richards\n",
      "William Henry Bragg;Lawrence Bragg: Richard Willstätter\n",
      "None: None\n",
      "Charles Glover Barkla: None\n",
      "Max Planck: Fritz Haber\n",
      "Johannes Stark: None\n",
      "Charles Édouard Guillaume: Walther Nernst\n",
      "Albert Einstein: Frederick Soddy\n",
      "Niels Bohr: Francis William Aston\n",
      "Robert Andrews Millikan: Fritz Pregl\n",
      "Manne Siegbahn: None\n",
      "James Franck;Gustav Ludwig Hertz: Richard Adolf Zsigmondy\n",
      "Jean Baptiste Perrin: Theodor Svedberg\n",
      "Arthur Compton;Charles Thomson Rees Wilson: Heinrich Otto Wieland\n",
      "Owen Willans Richardson: Adolf Windaus\n",
      "Louis de Broglie: Arthur Harden;Hans von Euler-Chelpin\n",
      "C. V. Raman: Hans Fischer\n",
      "None: Carl Bosch;Friedrich Bergius\n",
      "Werner Heisenberg: Irving Langmuir\n",
      "Erwin Schrödinger;Paul Dirac: None\n",
      "None: Harold Urey\n",
      "James Chadwick: Frédéric Joliot-Curie;Irène Joliot-Curie\n",
      "Victor Francis Hess;Carl David Anderson: Peter Debye\n",
      "Clinton Davisson;George Paget Thomson: Norman Haworth;Paul Karrer\n",
      "Enrico Fermi: Richard Kuhn[b]\n",
      "Ernest Lawrence: Adolf Butenandt;[b]Leopold Ružička\n",
      "Otto Stern: George de Hevesy\n",
      "Isidor Isaac Rabi: Otto Hahn\n",
      "Wolfgang Pauli: Artturi Ilmari Virtanen\n",
      "Percy Williams Bridgman: James B. Sumner;John Howard Northrop;Wendell Meredith Stanley\n",
      "Edward Victor Appleton: Robert Robinson\n",
      "Patrick Blackett: Arne Tiselius\n",
      "Hideki Yukawa: William Giauque\n",
      "C. F. Powell: Otto Diels;Kurt Alder\n",
      "John Cockcroft;Ernest Walton: Edwin McMillan;Glenn T. Seaborg\n",
      "Felix Bloch;Edward Mills Purcell: Archer Martin;Richard Laurence Millington Synge\n",
      "Frits Zernike: Hermann Staudinger\n",
      "Max Born;Walther Bothe: Linus Pauling\n",
      "Willis Lamb;Polykarp Kusch: Vincent du Vigneaud\n",
      "John Bardeen;Walter Houser Brattain;William Shockley: Cyril Norman Hinshelwood;Nikolay Semyonov\n",
      "Yang Chen-Ning;Tsung-Dao Lee: The Lord Todd\n",
      "Pavel Cherenkov;Ilya Frank;Igor Tamm: Frederick Sanger\n",
      "Emilio Segrè;Owen Chamberlain: Jaroslav Heyrovský\n",
      "Donald A. Glaser: Willard Libby\n",
      "Robert Hofstadter;Rudolf Mössbauer: Melvin Calvin\n",
      "Lev Landau: Max Perutz;John Kendrew\n",
      "Eugene Wigner;Maria Goeppert Mayer;J. Hans D. Jensen: Karl Ziegler;Giulio Natta\n",
      "Charles H. Townes;Nikolay Basov;Alexander Prokhorov: Dorothy Hodgkin\n",
      "Shin'ichirō Tomonaga;Julian Schwinger;Richard Feynman: Robert Burns Woodward\n",
      "Alfred Kastler: Robert S. Mulliken\n",
      "Hans Bethe: Manfred Eigen;Ronald George Wreyford Norrish;George Porter\n",
      "Luis Walter Alvarez: Lars Onsager\n",
      "Murray Gell-Mann: Derek Barton;Odd Hassel\n",
      "Hannes Alfvén;Louis Néel: Luis Federico Leloir\n",
      "Dennis Gabor: Gerhard Herzberg\n",
      "John Bardeen;Leon Cooper;John Robert Schrieffer: Christian B. Anfinsen;Stanford Moore;William Howard Stein\n",
      "Leo Esaki;Ivar Giaever;Brian Josephson: Ernst Otto Fischer;Geoffrey Wilkinson\n",
      "Martin Ryle;Antony Hewish: Paul Flory\n",
      "Aage Bohr;Ben Roy Mottelson;James Rainwater: John Cornforth;Vladimir Prelog\n",
      "Burton Richter;Samuel C. C. Ting: William Lipscomb\n",
      "Philip W. Anderson;Nevill Francis Mott;John Hasbrouck Van Vleck: Ilya Prigogine\n",
      "Pyotr Kapitsa;Arno Allan Penzias;Robert Woodrow Wilson: Peter D. Mitchell\n",
      "Sheldon Glashow;Abdus Salam;Steven Weinberg: Herbert C. Brown;Georg Wittig\n",
      "James Cronin;Val Logsdon Fitch: Paul Berg;Walter Gilbert;Frederick Sanger\n",
      "Nicolaas Bloembergen;Arthur Leonard Schawlow;Kai Siegbahn: Kenichi Fukui;Roald Hoffmann\n",
      "Kenneth G. Wilson: Aaron Klug\n",
      "Subrahmanyan Chandrasekhar;William Alfred Fowler: Henry Taube\n",
      "Carlo Rubbia;Simon van der Meer: Robert Bruce Merrifield\n",
      "Klaus von Klitzing: Herbert A. Hauptman;Jerome Karle\n",
      "Ernst Ruska;Gerd Binnig;Heinrich Rohrer: Dudley R. Herschbach;Yuan T. Lee;John Polanyi\n",
      "Georg Bednorz;K. Alex Müller: Donald J. Cram;Jean-Marie Lehn;Charles J. Pedersen\n",
      "Leon M. Lederman;Melvin Schwartz;Jack Steinberger: Johann Deisenhofer;Robert Huber;Hartmut Michel\n",
      "Norman Ramsey Jr.;Hans Georg Dehmelt;Wolfgang Paul: Sidney Altman;Thomas Cech\n",
      "Jerome Isaac Friedman;Henry Way Kendall;Richard E. Taylor: Elias James Corey\n",
      "Pierre-Gilles de Gennes: Richard R. Ernst\n",
      "Georges Charpak: Rudolph A. Marcus\n",
      "Russell Alan Hulse;Joseph Hooton Taylor Jr.: Kary Mullis;Michael Smith\n",
      "Bertram Brockhouse;Clifford Shull: George Andrew Olah\n",
      "Martin Lewis Perl;Frederick Reines: Paul J. Crutzen;Mario J. Molina;F. Sherwood Rowland\n",
      "David Lee;Douglas Osheroff;Robert Coleman Richardson: Robert Curl;Harry Kroto;Richard Smalley\n",
      "Steven Chu;Claude Cohen-Tannoudji;William Daniel Phillips: Paul D. Boyer;John E. Walker;Jens Christian Skou\n",
      "Robert B. Laughlin;Horst Ludwig Störmer;Daniel C. Tsui: Walter Kohn;John Pople\n",
      "Gerard 't Hooft;Martinus J. G. Veltman: Ahmed Zewail\n",
      "Jack Kilby;Zhores Alferov;Herbert Kroemer: Alan J. Heeger;Alan MacDiarmid;Hideki Shirakawa\n",
      "Eric Allin Cornell;Wolfgang Ketterle;Carl Wieman: William Standish Knowles;Ryōji Noyori;Karl Barry Sharpless\n",
      "Riccardo Giacconi;Raymond Davis Jr.;Masatoshi Koshiba: John B. Fenn;Koichi Tanaka;Kurt Wüthrich\n",
      "Alexei Abrikosov;Vitaly Ginzburg;Anthony James Leggett: Peter Agre;Roderick MacKinnon\n",
      "David Gross;Hugh David Politzer;Frank Wilczek: Aaron Ciechanover;Avram Hershko;Irwin Rose\n",
      "Roy J. Glauber;John L. Hall;Theodor W. Hänsch: Yves Chauvin;Robert H. Grubbs;Richard R. Schrock\n",
      "John C. Mather;George Smoot: Roger D. Kornberg\n",
      "Albert Fert;Peter Grünberg: Gerhard Ertl\n",
      "Yoichiro Nambu;Makoto Kobayashi;Toshihide Maskawa: Osamu Shimomura;Martin Chalfie;Roger Y. Tsien\n",
      "Charles K. Kao;Willard S. Boyle;George E. Smith: Venkatraman Ramakrishnan;Thomas A. Steitz;Ada Yonath\n",
      "Andre Geim;Konstantin Novoselov: Richard F. Heck;Ei-ichi Negishi;Akira Suzuki\n",
      "Saul Perlmutter;Adam Riess;Brian Schmidt: Dan Shechtman\n",
      "Serge Haroche;David J. Wineland: Brian K. Kobilka;Robert J. Lefkowitz\n",
      "François Englert;Peter W. Higgs: Martin Karplus;Michael Levitt;Arieh Warshel\n",
      "Isamu Akasaki;Hiroshi Amano;Shuji Nakamura: Eric Betzig;Stefan Hell;William Moerner\n",
      "Takaaki Kajita;Arthur B. McDonald: Tomas Lindahl;Paul L. Modrich;Aziz Sancar\n",
      "David J. Thouless;Duncan Haldane;John M. Kosterlitz: Jean-Pierre Sauvage;Fraser Stoddart;Ben Feringa\n",
      "Rainer Weiss;Barry Barish;Kip Thorne: Jacques Dubochet;Joachim Frank;Richard Henderson\n",
      "Arthur Ashkin;Gérard Mourou;Donna Strickland: Frances H. Arnold;George Smith;Greg Winter\n",
      "Jim Peebles;Michel Mayor;Didier Queloz: John B. Goodenough;M. Stanley Whittingham;Akira Yoshino\n",
      "Roger Penrose;Reinhard Genzel;Andrea M. Ghez: Emmanuelle Charpentier;Jennifer Doudna\n",
      "Giorgio Parisi;Klaus Hasselmann;Syukuro Manabe: Benjamin List;David MacMillan\n",
      "Alain Aspect;John Clauser;Anton Zeilinger: Carolyn Bertozzi;Morten P. Meldal;Karl Barry Sharpless\n",
      "Pierre Agostini;Ferenc Krausz;Anne L'Huillier: Moungi Bawendi;Louis E. Brus;Alexey Ekimov\n",
      "John Hopfield;Geoffrey Hinton: David Baker;Demis Hassabis;John M. Jumper\n"
     ]
    }
   ],
   "source": [
    "\n",
    "\n",
    "# URL for the Wikipedia page with Nobel Prize winners\n",
    "url = 'https://en.wikipedia.org/wiki/List_of_Nobel_laureates'\n",
    "\n",
    "# Send HTTP request to get the page content\n",
    "response = requests.get(url)\n",
    "\n",
    "# Parse the content with BeautifulSoup\n",
    "soup = BeautifulSoup(response.text, 'html.parser')\n",
    "\n",
    "# Find the table that contains the list of Nobel laureates (you might need to inspect and adjust this)\n",
    "table = soup.find('table', {'class': 'wikitable'})\n",
    "\n",
    "# Initialize a list to store winners\n",
    "winners = []\n",
    "\n",
    "# Loop through all table rows and extract the winner data\n",
    "for row in table.find_all('tr')[1:]:  # Skipping the header row\n",
    "    cols = row.find_all('td')\n",
    "    \n",
    "    if len(cols) > 1:\n",
    "        # Extract the year and the winner's name (adjust as per the table structure)\n",
    "        year = cols[0].get_text(strip=True)\n",
    "        winner = cols[1].get_text(strip=True)\n",
    "        \n",
    "        winners.append((year, winner))\n",
    "\n",
    "# Print the winners list\n",
    "for year, winner in winners:\n",
    "    print(f\"{year}: {winner}\")\n"
   ]
  }
 ],
 "metadata": {
  "kernelspec": {
   "display_name": "Python 3 (ipykernel)",
   "language": "python",
   "name": "python3"
  },
  "language_info": {
   "codemirror_mode": {
    "name": "ipython",
    "version": 3
   },
   "file_extension": ".py",
   "mimetype": "text/x-python",
   "name": "python",
   "nbconvert_exporter": "python",
   "pygments_lexer": "ipython3",
   "version": "3.9.13"
  }
 },
 "nbformat": 4,
 "nbformat_minor": 5
}
