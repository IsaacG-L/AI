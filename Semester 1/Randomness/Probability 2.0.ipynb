{
 "cells": [
  {
   "cell_type": "code",
   "execution_count": 5,
   "id": "78a1bf05",
   "metadata": {},
   "outputs": [],
   "source": [
    "import random"
   ]
  },
  {
   "cell_type": "code",
   "execution_count": 2,
   "id": "2f207111",
   "metadata": {},
   "outputs": [],
   "source": [
    "bloodtype_o_negative = 0.066"
   ]
  },
  {
   "cell_type": "code",
   "execution_count": 3,
   "id": "fd8dad45",
   "metadata": {},
   "outputs": [],
   "source": [
    "bloodtype_ab_negative = 0.006"
   ]
  },
  {
   "cell_type": "code",
   "execution_count": 4,
   "id": "898d56e7",
   "metadata": {},
   "outputs": [
    {
     "data": {
      "text/plain": [
       "0.07200000000000001"
      ]
     },
     "execution_count": 4,
     "metadata": {},
     "output_type": "execute_result"
    }
   ],
   "source": [
    "blood_together = bloodtype_o_negative + bloodtype_ab_negative\n",
    "blood_together"
   ]
  },
  {
   "cell_type": "code",
   "execution_count": 5,
   "id": "feb6c0e7",
   "metadata": {},
   "outputs": [
    {
     "data": {
      "text/plain": [
       "7.200000000000001"
      ]
     },
     "execution_count": 5,
     "metadata": {},
     "output_type": "execute_result"
    }
   ],
   "source": [
    "blood_together * 100"
   ]
  },
  {
   "cell_type": "markdown",
   "id": "b2cc7daa",
   "metadata": {},
   "source": [
    "#### Theoretical P: P(blood donation)  = 0.072"
   ]
  },
  {
   "cell_type": "code",
   "execution_count": 6,
   "id": "0c284f9f",
   "metadata": {},
   "outputs": [],
   "source": [
    "\n",
    "def blood_donation(blood_together, trials):\n",
    "    total_donations = 0  \n",
    "    for _ in range(trials):\n",
    "        num = random.randint(1, 100) \n",
    "        donation_rate = num / 100  \n",
    "        total_donations += donation_rate  \n",
    "\n",
    "    average_donation_rate = total_donations / trials \n",
    "    return average_donation_rate\n"
   ]
  },
  {
   "cell_type": "code",
   "execution_count": 7,
   "id": "8aec7a9c",
   "metadata": {},
   "outputs": [
    {
     "data": {
      "text/plain": [
       "0.483030000000001"
      ]
     },
     "execution_count": 7,
     "metadata": {},
     "output_type": "execute_result"
    }
   ],
   "source": [
    "blood_donation(blood_together, 1000)"
   ]
  },
  {
   "cell_type": "markdown",
   "id": "fbd10a09",
   "metadata": {},
   "source": [
    "##### Teacher example"
   ]
  },
  {
   "cell_type": "code",
   "execution_count": 8,
   "id": "95985b34",
   "metadata": {},
   "outputs": [
    {
     "name": "stdout",
     "output_type": "stream",
     "text": [
      "0.132\n"
     ]
    }
   ],
   "source": [
    "trials = 1000\n",
    "blood = 0\n",
    "count = 0\n",
    "while count < trials:\n",
    "    num = random.randint(1,1000)\n",
    "    if(num >= 652 and num <= 782) or (num >= 987):\n",
    "        blood += 1\n",
    "    count += 1\n",
    "print(blood/trials)"
   ]
  },
  {
   "cell_type": "code",
   "execution_count": 9,
   "id": "57d1de8b",
   "metadata": {},
   "outputs": [
    {
     "data": {
      "text/plain": [
       "0.86"
      ]
     },
     "execution_count": 9,
     "metadata": {},
     "output_type": "execute_result"
    }
   ],
   "source": [
    "0.3 + 0.13 + 0.35 + 0.08"
   ]
  },
  {
   "cell_type": "markdown",
   "id": "0f764888",
   "metadata": {},
   "source": [
    "##### Guessing the teacher's password prob"
   ]
  },
  {
   "cell_type": "markdown",
   "id": "3efce137",
   "metadata": {},
   "source": [
    "#### Theoretical Prob : P(Guessing 15 char password) = 0.1595"
   ]
  },
  {
   "cell_type": "code",
   "execution_count": 10,
   "id": "68b203ce",
   "metadata": {},
   "outputs": [
    {
     "data": {
      "text/plain": [
       "0.1595744680851064"
      ]
     },
     "execution_count": 10,
     "metadata": {},
     "output_type": "execute_result"
    }
   ],
   "source": [
    "15 / 94"
   ]
  },
  {
   "cell_type": "code",
   "execution_count": 11,
   "id": "7108985c",
   "metadata": {},
   "outputs": [
    {
     "ename": "SyntaxError",
     "evalue": "invalid syntax (373085526.py, line 5)",
     "output_type": "error",
     "traceback": [
      "\u001b[1;36m  File \u001b[1;32m\"C:\\Users\\igarcialopez\\AppData\\Local\\Temp\\ipykernel_60540\\373085526.py\"\u001b[1;36m, line \u001b[1;32m5\u001b[0m\n\u001b[1;33m    if\u001b[0m\n\u001b[1;37m       ^\u001b[0m\n\u001b[1;31mSyntaxError\u001b[0m\u001b[1;31m:\u001b[0m invalid syntax\n"
     ]
    }
   ],
   "source": [
    "trials = 1000\n",
    "\n",
    "while count2 < trials:\n",
    "    numy = random.rantint(1, 94)\n",
    "    if "
   ]
  },
  {
   "cell_type": "markdown",
   "id": "d75ba14e",
   "metadata": {},
   "source": [
    "#### Teacher example(again) + ours(?)"
   ]
  },
  {
   "cell_type": "code",
   "execution_count": 12,
   "id": "91c19792",
   "metadata": {},
   "outputs": [],
   "source": [
    "#### 94 different characters(upper/lower/num/special)\n",
    "trials = 1000\n",
    "password = 0\n",
    "count = 0\n",
    "while count < trials:\n",
    "    combos = 94 ** 15\n",
    "    num = random.randint(1,1000)\n",
    "    if(num == 3):\n",
    "        password += 1\n",
    "    count += 1"
   ]
  },
  {
   "cell_type": "markdown",
   "id": "27d12774",
   "metadata": {},
   "source": [
    "##### Theoretical Prob: P(Guess 15 char password U 6 digit authentication num)  = 3.952917987596818e+23\n"
   ]
  },
  {
   "cell_type": "code",
   "execution_count": 13,
   "id": "bacff16b",
   "metadata": {},
   "outputs": [
    {
     "data": {
      "text/plain": [
       "3.952917987596818e+23"
      ]
     },
     "execution_count": 13,
     "metadata": {},
     "output_type": "execute_result"
    }
   ],
   "source": [
    "94 ** 15 / 10 ** 6"
   ]
  },
  {
   "cell_type": "code",
   "execution_count": 14,
   "id": "52443d51",
   "metadata": {},
   "outputs": [
    {
     "name": "stdout",
     "output_type": "stream",
     "text": [
      "0.001\n"
     ]
    }
   ],
   "source": [
    "trials = 1000\n",
    "password = 0\n",
    "count = 0\n",
    "while count < trials:\n",
    "    combos = 1 / 94 ** 15 / 1 / 10 ** 6\n",
    "    num = random.randint(1,1000)\n",
    "    if(num == 3):\n",
    "        password += 1\n",
    "    count += 1\n",
    "print(password/trials)\n"
   ]
  },
  {
   "cell_type": "markdown",
   "id": "894ce163",
   "metadata": {},
   "source": [
    "### Exit ticket 11/4/24"
   ]
  },
  {
   "cell_type": "markdown",
   "id": "5062835a",
   "metadata": {},
   "source": [
    "#### Theoretical P: P(Queen U King) = 0.1538"
   ]
  },
  {
   "cell_type": "code",
   "execution_count": 15,
   "id": "5bcac70a",
   "metadata": {},
   "outputs": [
    {
     "data": {
      "text/plain": [
       "0.15384615384615385"
      ]
     },
     "execution_count": 15,
     "metadata": {},
     "output_type": "execute_result"
    }
   ],
   "source": [
    "8/52"
   ]
  },
  {
   "cell_type": "code",
   "execution_count": 6,
   "id": "10ed7961",
   "metadata": {},
   "outputs": [
    {
     "name": "stdout",
     "output_type": "stream",
     "text": [
      "0.156\n"
     ]
    }
   ],
   "source": [
    "#queens = 4\n",
    "#kings = 4\n",
    "count = 0\n",
    "cards = 0\n",
    "trials = 1000\n",
    "while count < trials:\n",
    "    pull = random.randint(1, 52)\n",
    "    if (pull <= 8):\n",
    "        cards += 1\n",
    "    count += 1\n",
    "print(cards / trials)\n",
    "    \n"
   ]
  },
  {
   "cell_type": "markdown",
   "id": "59da226d",
   "metadata": {},
   "source": [
    "### Exit ticket 11/4/24"
   ]
  },
  {
   "cell_type": "markdown",
   "id": "3b5eedd2",
   "metadata": {},
   "source": [
    "#### Theorettical P: P(Pull a Queen U Heart) = 0.25"
   ]
  },
  {
   "cell_type": "code",
   "execution_count": 7,
   "id": "6d7d081e",
   "metadata": {},
   "outputs": [
    {
     "data": {
      "text/plain": [
       "0.25"
      ]
     },
     "execution_count": 7,
     "metadata": {},
     "output_type": "execute_result"
    }
   ],
   "source": [
    "13/52"
   ]
  },
  {
   "cell_type": "code",
   "execution_count": 9,
   "id": "8e2fcaa7",
   "metadata": {},
   "outputs": [
    {
     "name": "stdout",
     "output_type": "stream",
     "text": [
      "0.253\n"
     ]
    }
   ],
   "source": [
    "# There are 13 hearts, and the Queen is one of them.\n",
    "\n",
    "count = 0\n",
    "cards2 = 0\n",
    "trials = 1000\n",
    "while count < trials:\n",
    "    pull_H_Q = random.randint(1, 52)\n",
    "    if(pull_H_Q <= 13):\n",
    "        cards2 += 1\n",
    "    count  += 1\n",
    "print(cards2/trials)"
   ]
  },
  {
   "cell_type": "code",
   "execution_count": null,
   "id": "b7171573",
   "metadata": {},
   "outputs": [],
   "source": []
  }
 ],
 "metadata": {
  "kernelspec": {
   "display_name": "Python 3 (ipykernel)",
   "language": "python",
   "name": "python3"
  },
  "language_info": {
   "codemirror_mode": {
    "name": "ipython",
    "version": 3
   },
   "file_extension": ".py",
   "mimetype": "text/x-python",
   "name": "python",
   "nbconvert_exporter": "python",
   "pygments_lexer": "ipython3",
   "version": "3.9.13"
  }
 },
 "nbformat": 4,
 "nbformat_minor": 5
}
