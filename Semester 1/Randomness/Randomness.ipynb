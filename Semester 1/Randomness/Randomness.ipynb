{
 "cells": [
  {
   "cell_type": "code",
   "execution_count": 3,
   "id": "b2a01bd6",
   "metadata": {},
   "outputs": [],
   "source": [
    "import random\n"
   ]
  },
  {
   "cell_type": "code",
   "execution_count": 62,
   "id": "caecbe49",
   "metadata": {},
   "outputs": [],
   "source": [
    "teenieB = 10\n",
    "\n",
    "\n",
    "def happymeals(teenieB, trials):\n",
    "    results = []\n",
    "    for _ in range(trials):\n",
    "        collected = set()\n",
    "        purchases = 0\n",
    "        \n",
    "        while len(collected) < teenieB:\n",
    "                item = random.randint(1, teenieB)\n",
    "                collected.add(item)\n",
    "                purchases += 1\n",
    "        results.append(purchases)\n",
    "\n",
    "        mean_purch = sum(results) / trials\n",
    "\n",
    "\n",
    "    return mean_purch\n",
    "\n",
    "\n"
   ]
  },
  {
   "cell_type": "code",
   "execution_count": 73,
   "id": "ae55d119",
   "metadata": {},
   "outputs": [
    {
     "data": {
      "text/plain": [
       "29.175"
      ]
     },
     "execution_count": 73,
     "metadata": {},
     "output_type": "execute_result"
    }
   ],
   "source": [
    "happymeals(teenieB, 1000)"
   ]
  },
  {
   "cell_type": "markdown",
   "id": "db677ec6",
   "metadata": {},
   "source": [
    "##### You'll need to buy around 29 happy meals to collect all 10 unique teani beanies"
   ]
  },
  {
   "cell_type": "markdown",
   "id": "0e612e1d",
   "metadata": {},
   "source": [
    "Teacher example:"
   ]
  },
  {
   "cell_type": "code",
   "execution_count": 49,
   "id": "8b672612",
   "metadata": {},
   "outputs": [],
   "source": [
    "def beanie_babies(trials):\n",
    "    count = 0 \n",
    "    beanies = []\n",
    "    avg = 0 \n",
    "    while count < trials:\n",
    "        while len(beanies) < 10:\n",
    "            num = random.randint(1,10)\n",
    "            if num not in beanies:\n",
    "                beanies.append(num)\n",
    "          \n",
    "                \n",
    "            \n",
    "        \n",
    "        count += 1\n",
    "    return count"
   ]
  },
  {
   "cell_type": "code",
   "execution_count": 50,
   "id": "84ab001e",
   "metadata": {},
   "outputs": [
    {
     "data": {
      "text/plain": [
       "15"
      ]
     },
     "execution_count": 50,
     "metadata": {},
     "output_type": "execute_result"
    }
   ],
   "source": [
    "beanie_babies(100)"
   ]
  },
  {
   "cell_type": "code",
   "execution_count": null,
   "id": "2da7f260",
   "metadata": {},
   "outputs": [],
   "source": []
  }
 ],
 "metadata": {
  "kernelspec": {
   "display_name": "Python 3 (ipykernel)",
   "language": "python",
   "name": "python3"
  },
  "language_info": {
   "codemirror_mode": {
    "name": "ipython",
    "version": 3
   },
   "file_extension": ".py",
   "mimetype": "text/x-python",
   "name": "python",
   "nbconvert_exporter": "python",
   "pygments_lexer": "ipython3",
   "version": "3.9.13"
  }
 },
 "nbformat": 4,
 "nbformat_minor": 5
}
