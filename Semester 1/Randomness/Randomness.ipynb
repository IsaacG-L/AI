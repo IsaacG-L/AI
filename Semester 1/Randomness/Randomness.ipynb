{
 "cells": [
  {
   "cell_type": "code",
   "execution_count": 43,
   "id": "ecca046e",
   "metadata": {},
   "outputs": [],
   "source": [
    "import random\n"
   ]
  },
  {
   "cell_type": "code",
   "execution_count": 2,
   "id": "b9bfbc31",
   "metadata": {},
   "outputs": [],
   "source": [
    "teenieB = 10\n",
    "\n",
    "\n",
    "def happymeals(teenieB, trials):\n",
    "    results = []\n",
    "    for _ in range(trials):\n",
    "        collected = set()\n",
    "        purchases = 0\n",
    "        \n",
    "        while len(collected) < teenieB:\n",
    "                item = random.randint(1, teenieB)\n",
    "                collected.add(item)\n",
    "                purchases += 1\n",
    "        results.append(purchases)\n",
    "\n",
    "        mean_purch = sum(results) / trials\n",
    "\n",
    "\n",
    "    return mean_purch\n",
    "\n",
    "\n"
   ]
  },
  {
   "cell_type": "code",
   "execution_count": 3,
   "id": "c81e4b97",
   "metadata": {},
   "outputs": [
    {
     "data": {
      "text/plain": [
       "29.491"
      ]
     },
     "execution_count": 3,
     "metadata": {},
     "output_type": "execute_result"
    }
   ],
   "source": [
    "happymeals(teenieB, 1000)"
   ]
  },
  {
   "cell_type": "markdown",
   "id": "76a2ab81",
   "metadata": {},
   "source": [
    "##### You'll need to buy around 29 happy meals to collect all 10 unique teanie beanies"
   ]
  },
  {
   "cell_type": "markdown",
   "id": "c9bc87aa",
   "metadata": {},
   "source": [
    "Teacher example:"
   ]
  },
  {
   "cell_type": "code",
   "execution_count": 4,
   "id": "d83c52d8",
   "metadata": {},
   "outputs": [],
   "source": [
    "def beanie_babies(trials):\n",
    "    count = 0 \n",
    "    beanies = []\n",
    "    avg = 0 \n",
    "    while count < trials:\n",
    "        while len(beanies) < 10:\n",
    "            num = random.randint(1,10)\n",
    "            if num not in beanies:\n",
    "                beanies.append(num)\n",
    "          \n",
    "                \n",
    "            \n",
    "        \n",
    "        count += 1\n",
    "    return count"
   ]
  },
  {
   "cell_type": "code",
   "execution_count": 5,
   "id": "7387f75f",
   "metadata": {},
   "outputs": [
    {
     "data": {
      "text/plain": [
       "100"
      ]
     },
     "execution_count": 5,
     "metadata": {},
     "output_type": "execute_result"
    }
   ],
   "source": [
    "beanie_babies(100)"
   ]
  },
  {
   "cell_type": "markdown",
   "id": "e7d11cd2",
   "metadata": {},
   "source": [
    "#### Determine the win rate for world series if a team starts at a home stadium(I think)."
   ]
  },
  {
   "cell_type": "code",
   "execution_count": 6,
   "id": "d48cd86d",
   "metadata": {},
   "outputs": [],
   "source": [
    "winRate = .55\n",
    "gamesToWin = 4\n",
    "'''\n",
    "Yeah, whatever this is!!!!\n",
    "'''\n",
    "def ws_winrate(trials):\n",
    "    homeWins = 0 \n",
    "    \n",
    "    for _ in range(trials):\n",
    "        gamesWon_home = 0\n",
    "        gamesWon_away = 0 \n",
    "        \n",
    "        \n",
    "        while gamesWon_home < gamesToWin and gamesWon_away < gamesToWin:\n",
    "            if random.random() < winRate:\n",
    "                gamesWon_home += 1\n",
    "            else:\n",
    "                gamesWon_away += 1\n",
    "        if gamesWon_home == gamesToWin:\n",
    "            homeWins += 1\n",
    "            \n",
    "    probability = homeWins / trials\n",
    "    \n",
    "    return probability"
   ]
  },
  {
   "cell_type": "code",
   "execution_count": 7,
   "id": "e5eff996",
   "metadata": {},
   "outputs": [
    {
     "data": {
      "text/plain": [
       "0.595"
      ]
     },
     "execution_count": 7,
     "metadata": {},
     "output_type": "execute_result"
    }
   ],
   "source": [
    "ws_winrate(1000)"
   ]
  },
  {
   "cell_type": "markdown",
   "id": "55929d71",
   "metadata": {},
   "source": [
    "#### Exit ticket 10/29/24 code here:"
   ]
  },
  {
   "cell_type": "code",
   "execution_count": 35,
   "id": "e9676b4d",
   "metadata": {},
   "outputs": [],
   "source": [
    "# 1 = red\n",
    "# 2 = green\n",
    "# 3 = blue\n",
    "\n",
    "\n",
    "trials = 1000\n",
    "def marbles(trials):\n",
    "    count = 0 \n",
    "    while count < trials:\n",
    "        red = 0\n",
    "        green = 0\n",
    "        blue = 0\n",
    "        num = random.randint(1, 3)\n",
    "        if num == 1:\n",
    "            red += 1\n",
    "        elif num == 2:\n",
    "            green += 1\n",
    "        else:\n",
    "            blue += 1\n",
    "\n",
    "        count += 1\n",
    "    print(red,\":\", green,\":\",blue)\n",
    "\n",
    "    \n"
   ]
  },
  {
   "cell_type": "code",
   "execution_count": 39,
   "id": "b955a550",
   "metadata": {},
   "outputs": [
    {
     "name": "stdout",
     "output_type": "stream",
     "text": [
      "1 : 0 : 0\n"
     ]
    }
   ],
   "source": [
    "marbles(trials)"
   ]
  },
  {
   "cell_type": "code",
   "execution_count": 52,
   "id": "e7358102",
   "metadata": {},
   "outputs": [
    {
     "name": "stdout",
     "output_type": "stream",
     "text": [
      "0.348:0.34:0.312\n"
     ]
    }
   ],
   "source": [
    "\n",
    "trials = 1000\n",
    "def marbles2(trials):\n",
    "    red = 0\n",
    "    green = 0\n",
    "    blue = 0\n",
    "    count = 0\n",
    "    while count < trials:\n",
    "        num = random.randint(1, 3)\n",
    "        if num == 1:\n",
    "            red += 1\n",
    "        elif num == 2:\n",
    "            green += 1\n",
    "        else:  \n",
    "            blue += 1\n",
    "        \n",
    "        count += 1  \n",
    "        \n",
    "    red_prop = red / trials\n",
    "    green_prop = green / trials\n",
    "    blue_prop = blue / trials\n",
    "    print(f\"{red_prop}:{green_prop}:{blue_prop}\")\n",
    "\n",
    "marbles2(trials)\n"
   ]
  },
  {
   "cell_type": "code",
   "execution_count": null,
   "id": "a12c8a7f",
   "metadata": {},
   "outputs": [],
   "source": []
  }
 ],
 "metadata": {
  "kernelspec": {
   "display_name": "Python 3 (ipykernel)",
   "language": "python",
   "name": "python3"
  },
  "language_info": {
   "codemirror_mode": {
    "name": "ipython",
    "version": 3
   },
   "file_extension": ".py",
   "mimetype": "text/x-python",
   "name": "python",
   "nbconvert_exporter": "python",
   "pygments_lexer": "ipython3",
   "version": "3.9.13"
  }
 },
 "nbformat": 4,
 "nbformat_minor": 5
}
