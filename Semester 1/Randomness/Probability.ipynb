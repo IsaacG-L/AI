{
 "cells": [
  {
   "cell_type": "markdown",
   "id": "37574338",
   "metadata": {},
   "source": [
    "##### Theoretical P: P(Hot Dorito) = 0.15"
   ]
  },
  {
   "cell_type": "code",
   "execution_count": 1,
   "id": "3560f6e3",
   "metadata": {},
   "outputs": [],
   "source": [
    "import random"
   ]
  },
  {
   "cell_type": "code",
   "execution_count": 2,
   "id": "c9e28b8a",
   "metadata": {},
   "outputs": [],
   "source": [
    "doritos = 6\n",
    "\n",
    "def dorito_roulette(doritos, trials):\n",
    "    #spicy_chip = []\n",
    "    for _ in range(trials):\n",
    "        num = random.randint(1, doritos)\n",
    "        spicy = num / 6\n",
    "        #spicy_chip.append(spicy)\n",
    "        \n",
    "    return spicy\n",
    "            \n",
    "        "
   ]
  },
  {
   "cell_type": "code",
   "execution_count": 3,
   "id": "7a9b6666",
   "metadata": {
    "scrolled": true
   },
   "outputs": [
    {
     "data": {
      "text/plain": [
       "0.16666666666666666"
      ]
     },
     "execution_count": 3,
     "metadata": {},
     "output_type": "execute_result"
    }
   ],
   "source": [
    "dorito_roulette(doritos, 1000)"
   ]
  },
  {
   "cell_type": "markdown",
   "id": "93ac60e4",
   "metadata": {},
   "source": [
    "#### The empirical probability denies my theoretical P, since it was 15%, but it resulted being much higher than that, with the empirical P being .33, so around a 33% chance of getting the spicy dorito! But it also moves around a lot, with some being 0.166."
   ]
  },
  {
   "cell_type": "code",
   "execution_count": 4,
   "id": "58ec987d",
   "metadata": {},
   "outputs": [
    {
     "name": "stdout",
     "output_type": "stream",
     "text": [
      "Empirical Probability: 0.157\n"
     ]
    }
   ],
   "source": [
    "rounds = 0\n",
    "trials = 1000\n",
    "hot_chips = 0\n",
    "while rounds < trials:\n",
    "    numy = random.randint(1,6)\n",
    "    if numy == 1:\n",
    "        hot_chips += 1\n",
    "    rounds += 1\n",
    "\n",
    "print(\"Empirical Probability:\", str((hot_chips/trials)))"
   ]
  },
  {
   "cell_type": "markdown",
   "id": "3e9b6469",
   "metadata": {},
   "source": [
    "##### This was the teacher example, much better than the one we made! ^^^^"
   ]
  },
  {
   "cell_type": "code",
   "execution_count": 5,
   "id": "32e2d8b8",
   "metadata": {},
   "outputs": [
    {
     "data": {
      "text/plain": [
       "0.06301369863013699"
      ]
     },
     "execution_count": 5,
     "metadata": {},
     "output_type": "execute_result"
    }
   ],
   "source": [
    "23 / 365"
   ]
  },
  {
   "cell_type": "markdown",
   "id": "1955e204",
   "metadata": {},
   "source": [
    "#### Theoretical P: P(Same Birthday): 0.06"
   ]
  },
  {
   "cell_type": "code",
   "execution_count": 6,
   "id": "3a8ca193",
   "metadata": {},
   "outputs": [],
   "source": [
    "while rounds < trials:\n",
    "    number = random.randint( 2, 23)\n",
    "    "
   ]
  },
  {
   "cell_type": "code",
   "execution_count": 7,
   "id": "84fc5a3d",
   "metadata": {},
   "outputs": [
    {
     "name": "stdout",
     "output_type": "stream",
     "text": [
      "The estimated probability of at least two people sharing a birthday in a class of 23 is: 0.4940\n"
     ]
    }
   ],
   "source": [
    "num_people = 23\n",
    "\n",
    "def simulate_birthdays(num_people, trials=1000):\n",
    "   \n",
    "    shared_count = 0\n",
    "\n",
    "    for _ in range(trials):\n",
    "     \n",
    "        birthdays = [random.randint(1, 365) for _ in range(num_people)]\n",
    "        \n",
    "        if len(birthdays) != len(set(birthdays)):\n",
    "            shared_count += 1\n",
    "\n",
    "    probability = shared_count / trials\n",
    "    return probability\n",
    "\n",
    "probability = simulate_birthdays(num_people)\n",
    "print(f\"The estimated probability of at least two people sharing a birthday in a class of {num_people} is: {probability:.4f}\")\n"
   ]
  },
  {
   "cell_type": "code",
   "execution_count": 8,
   "id": "b7a2fefb",
   "metadata": {},
   "outputs": [
    {
     "data": {
      "text/plain": [
       "0.524"
      ]
     },
     "execution_count": 8,
     "metadata": {},
     "output_type": "execute_result"
    }
   ],
   "source": [
    "simulate_birthdays(num_people, 1000)"
   ]
  },
  {
   "cell_type": "markdown",
   "id": "607435fd",
   "metadata": {},
   "source": [
    "### Exit ticket 10/31/24"
   ]
  },
  {
   "cell_type": "code",
   "execution_count": 9,
   "id": "ebf3ff56",
   "metadata": {},
   "outputs": [
    {
     "data": {
      "text/plain": [
       "0.07692307692307693"
      ]
     },
     "execution_count": 9,
     "metadata": {},
     "output_type": "execute_result"
    }
   ],
   "source": [
    "4 / 52"
   ]
  },
  {
   "cell_type": "code",
   "execution_count": 10,
   "id": "4025a5f7",
   "metadata": {},
   "outputs": [],
   "source": [
    "cards = 52\n",
    "queens = 4\n",
    "\n",
    "def pull_a_queen(trials):\n",
    "    queen_count = 0\n",
    "    for _ in range(trials):\n",
    "        num = random.randint(1, cards)\n",
    "\n",
    "        if num <= queens:  \n",
    "            queen_count += 1\n",
    "\n",
    "    probability = queen_count / trials\n",
    "    return probability\n"
   ]
  },
  {
   "cell_type": "code",
   "execution_count": 11,
   "id": "d12665a0",
   "metadata": {},
   "outputs": [
    {
     "data": {
      "text/plain": [
       "0.064"
      ]
     },
     "execution_count": 11,
     "metadata": {},
     "output_type": "execute_result"
    }
   ],
   "source": [
    "pull_a_queen(1000)"
   ]
  },
  {
   "cell_type": "code",
   "execution_count": null,
   "id": "9b32b764",
   "metadata": {},
   "outputs": [],
   "source": []
  }
 ],
 "metadata": {
  "kernelspec": {
   "display_name": "Python 3 (ipykernel)",
   "language": "python",
   "name": "python3"
  },
  "language_info": {
   "codemirror_mode": {
    "name": "ipython",
    "version": 3
   },
   "file_extension": ".py",
   "mimetype": "text/x-python",
   "name": "python",
   "nbconvert_exporter": "python",
   "pygments_lexer": "ipython3",
   "version": "3.9.13"
  }
 },
 "nbformat": 4,
 "nbformat_minor": 5
}
