{
 "cells": [
  {
   "cell_type": "code",
   "execution_count": 1,
   "id": "b97e9144",
   "metadata": {},
   "outputs": [],
   "source": [
    "import pandas as pd\n",
    "import seaborn as sns\n",
    "import matplotlib.pyplot as plt\n",
    "df = pd.read_csv(\"spotify_songs.csv\")\n"
   ]
  },
  {
   "cell_type": "code",
   "execution_count": 2,
   "id": "0082fcaf",
   "metadata": {},
   "outputs": [
    {
     "data": {
      "text/html": [
       "<div>\n",
       "<style scoped>\n",
       "    .dataframe tbody tr th:only-of-type {\n",
       "        vertical-align: middle;\n",
       "    }\n",
       "\n",
       "    .dataframe tbody tr th {\n",
       "        vertical-align: top;\n",
       "    }\n",
       "\n",
       "    .dataframe thead th {\n",
       "        text-align: right;\n",
       "    }\n",
       "</style>\n",
       "<table border=\"1\" class=\"dataframe\">\n",
       "  <thead>\n",
       "    <tr style=\"text-align: right;\">\n",
       "      <th></th>\n",
       "      <th>track_id</th>\n",
       "      <th>track_name</th>\n",
       "      <th>track_artist</th>\n",
       "      <th>track_popularity</th>\n",
       "      <th>track_album_id</th>\n",
       "      <th>track_album_name</th>\n",
       "      <th>track_album_release_date</th>\n",
       "      <th>playlist_name</th>\n",
       "      <th>playlist_id</th>\n",
       "      <th>playlist_genre</th>\n",
       "      <th>...</th>\n",
       "      <th>key</th>\n",
       "      <th>loudness</th>\n",
       "      <th>mode</th>\n",
       "      <th>speechiness</th>\n",
       "      <th>acousticness</th>\n",
       "      <th>instrumentalness</th>\n",
       "      <th>liveness</th>\n",
       "      <th>valence</th>\n",
       "      <th>tempo</th>\n",
       "      <th>duration_ms</th>\n",
       "    </tr>\n",
       "  </thead>\n",
       "  <tbody>\n",
       "    <tr>\n",
       "      <th>0</th>\n",
       "      <td>6f807x0ima9a1j3VPbc7VN</td>\n",
       "      <td>I Don't Care (with Justin Bieber) - Loud Luxur...</td>\n",
       "      <td>Ed Sheeran</td>\n",
       "      <td>66</td>\n",
       "      <td>2oCs0DGTsRO98Gh5ZSl2Cx</td>\n",
       "      <td>I Don't Care (with Justin Bieber) [Loud Luxury...</td>\n",
       "      <td>2019-06-14</td>\n",
       "      <td>Pop Remix</td>\n",
       "      <td>37i9dQZF1DXcZDD7cfEKhW</td>\n",
       "      <td>pop</td>\n",
       "      <td>...</td>\n",
       "      <td>6</td>\n",
       "      <td>-2.634</td>\n",
       "      <td>1</td>\n",
       "      <td>0.0583</td>\n",
       "      <td>0.1020</td>\n",
       "      <td>0.000000</td>\n",
       "      <td>0.0653</td>\n",
       "      <td>0.518</td>\n",
       "      <td>122.036</td>\n",
       "      <td>194754</td>\n",
       "    </tr>\n",
       "    <tr>\n",
       "      <th>1</th>\n",
       "      <td>0r7CVbZTWZgbTCYdfa2P31</td>\n",
       "      <td>Memories - Dillon Francis Remix</td>\n",
       "      <td>Maroon 5</td>\n",
       "      <td>67</td>\n",
       "      <td>63rPSO264uRjW1X5E6cWv6</td>\n",
       "      <td>Memories (Dillon Francis Remix)</td>\n",
       "      <td>2019-12-13</td>\n",
       "      <td>Pop Remix</td>\n",
       "      <td>37i9dQZF1DXcZDD7cfEKhW</td>\n",
       "      <td>pop</td>\n",
       "      <td>...</td>\n",
       "      <td>11</td>\n",
       "      <td>-4.969</td>\n",
       "      <td>1</td>\n",
       "      <td>0.0373</td>\n",
       "      <td>0.0724</td>\n",
       "      <td>0.004210</td>\n",
       "      <td>0.3570</td>\n",
       "      <td>0.693</td>\n",
       "      <td>99.972</td>\n",
       "      <td>162600</td>\n",
       "    </tr>\n",
       "    <tr>\n",
       "      <th>2</th>\n",
       "      <td>1z1Hg7Vb0AhHDiEmnDE79l</td>\n",
       "      <td>All the Time - Don Diablo Remix</td>\n",
       "      <td>Zara Larsson</td>\n",
       "      <td>70</td>\n",
       "      <td>1HoSmj2eLcsrR0vE9gThr4</td>\n",
       "      <td>All the Time (Don Diablo Remix)</td>\n",
       "      <td>2019-07-05</td>\n",
       "      <td>Pop Remix</td>\n",
       "      <td>37i9dQZF1DXcZDD7cfEKhW</td>\n",
       "      <td>pop</td>\n",
       "      <td>...</td>\n",
       "      <td>1</td>\n",
       "      <td>-3.432</td>\n",
       "      <td>0</td>\n",
       "      <td>0.0742</td>\n",
       "      <td>0.0794</td>\n",
       "      <td>0.000023</td>\n",
       "      <td>0.1100</td>\n",
       "      <td>0.613</td>\n",
       "      <td>124.008</td>\n",
       "      <td>176616</td>\n",
       "    </tr>\n",
       "    <tr>\n",
       "      <th>3</th>\n",
       "      <td>75FpbthrwQmzHlBJLuGdC7</td>\n",
       "      <td>Call You Mine - Keanu Silva Remix</td>\n",
       "      <td>The Chainsmokers</td>\n",
       "      <td>60</td>\n",
       "      <td>1nqYsOef1yKKuGOVchbsk6</td>\n",
       "      <td>Call You Mine - The Remixes</td>\n",
       "      <td>2019-07-19</td>\n",
       "      <td>Pop Remix</td>\n",
       "      <td>37i9dQZF1DXcZDD7cfEKhW</td>\n",
       "      <td>pop</td>\n",
       "      <td>...</td>\n",
       "      <td>7</td>\n",
       "      <td>-3.778</td>\n",
       "      <td>1</td>\n",
       "      <td>0.1020</td>\n",
       "      <td>0.0287</td>\n",
       "      <td>0.000009</td>\n",
       "      <td>0.2040</td>\n",
       "      <td>0.277</td>\n",
       "      <td>121.956</td>\n",
       "      <td>169093</td>\n",
       "    </tr>\n",
       "    <tr>\n",
       "      <th>4</th>\n",
       "      <td>1e8PAfcKUYoKkxPhrHqw4x</td>\n",
       "      <td>Someone You Loved - Future Humans Remix</td>\n",
       "      <td>Lewis Capaldi</td>\n",
       "      <td>69</td>\n",
       "      <td>7m7vv9wlQ4i0LFuJiE2zsQ</td>\n",
       "      <td>Someone You Loved (Future Humans Remix)</td>\n",
       "      <td>2019-03-05</td>\n",
       "      <td>Pop Remix</td>\n",
       "      <td>37i9dQZF1DXcZDD7cfEKhW</td>\n",
       "      <td>pop</td>\n",
       "      <td>...</td>\n",
       "      <td>1</td>\n",
       "      <td>-4.672</td>\n",
       "      <td>1</td>\n",
       "      <td>0.0359</td>\n",
       "      <td>0.0803</td>\n",
       "      <td>0.000000</td>\n",
       "      <td>0.0833</td>\n",
       "      <td>0.725</td>\n",
       "      <td>123.976</td>\n",
       "      <td>189052</td>\n",
       "    </tr>\n",
       "  </tbody>\n",
       "</table>\n",
       "<p>5 rows × 23 columns</p>\n",
       "</div>"
      ],
      "text/plain": [
       "                 track_id                                         track_name  \\\n",
       "0  6f807x0ima9a1j3VPbc7VN  I Don't Care (with Justin Bieber) - Loud Luxur...   \n",
       "1  0r7CVbZTWZgbTCYdfa2P31                    Memories - Dillon Francis Remix   \n",
       "2  1z1Hg7Vb0AhHDiEmnDE79l                    All the Time - Don Diablo Remix   \n",
       "3  75FpbthrwQmzHlBJLuGdC7                  Call You Mine - Keanu Silva Remix   \n",
       "4  1e8PAfcKUYoKkxPhrHqw4x            Someone You Loved - Future Humans Remix   \n",
       "\n",
       "       track_artist  track_popularity          track_album_id  \\\n",
       "0        Ed Sheeran                66  2oCs0DGTsRO98Gh5ZSl2Cx   \n",
       "1          Maroon 5                67  63rPSO264uRjW1X5E6cWv6   \n",
       "2      Zara Larsson                70  1HoSmj2eLcsrR0vE9gThr4   \n",
       "3  The Chainsmokers                60  1nqYsOef1yKKuGOVchbsk6   \n",
       "4     Lewis Capaldi                69  7m7vv9wlQ4i0LFuJiE2zsQ   \n",
       "\n",
       "                                    track_album_name track_album_release_date  \\\n",
       "0  I Don't Care (with Justin Bieber) [Loud Luxury...               2019-06-14   \n",
       "1                    Memories (Dillon Francis Remix)               2019-12-13   \n",
       "2                    All the Time (Don Diablo Remix)               2019-07-05   \n",
       "3                        Call You Mine - The Remixes               2019-07-19   \n",
       "4            Someone You Loved (Future Humans Remix)               2019-03-05   \n",
       "\n",
       "  playlist_name             playlist_id playlist_genre  ... key  loudness  \\\n",
       "0     Pop Remix  37i9dQZF1DXcZDD7cfEKhW            pop  ...   6    -2.634   \n",
       "1     Pop Remix  37i9dQZF1DXcZDD7cfEKhW            pop  ...  11    -4.969   \n",
       "2     Pop Remix  37i9dQZF1DXcZDD7cfEKhW            pop  ...   1    -3.432   \n",
       "3     Pop Remix  37i9dQZF1DXcZDD7cfEKhW            pop  ...   7    -3.778   \n",
       "4     Pop Remix  37i9dQZF1DXcZDD7cfEKhW            pop  ...   1    -4.672   \n",
       "\n",
       "   mode  speechiness  acousticness  instrumentalness  liveness  valence  \\\n",
       "0     1       0.0583        0.1020          0.000000    0.0653    0.518   \n",
       "1     1       0.0373        0.0724          0.004210    0.3570    0.693   \n",
       "2     0       0.0742        0.0794          0.000023    0.1100    0.613   \n",
       "3     1       0.1020        0.0287          0.000009    0.2040    0.277   \n",
       "4     1       0.0359        0.0803          0.000000    0.0833    0.725   \n",
       "\n",
       "     tempo  duration_ms  \n",
       "0  122.036       194754  \n",
       "1   99.972       162600  \n",
       "2  124.008       176616  \n",
       "3  121.956       169093  \n",
       "4  123.976       189052  \n",
       "\n",
       "[5 rows x 23 columns]"
      ]
     },
     "execution_count": 2,
     "metadata": {},
     "output_type": "execute_result"
    }
   ],
   "source": [
    "df.head()\n"
   ]
  },
  {
   "cell_type": "markdown",
   "id": "f82e07e5",
   "metadata": {},
   "source": [
    "# Distribution of Popularity Scores\n",
    "The distribution of popularity scores demonstrate that a lot of songs had a low track scores such lower than 20, around the 5 area where almost 4,000 songs are in that bin. Very few songs actually had a track score of 90 and above, since it is the smallest bin, having fewer than 200 songs out of the whole data set. The majority of songs had a track score around 40 to 80, since that is where the hump is."
   ]
  },
  {
   "cell_type": "code",
   "execution_count": 3,
   "id": "03e21e40",
   "metadata": {},
   "outputs": [],
   "source": [
    "#df[\"track_popularity\"] = df[\"track_popularity\"].str.replace(',', '')\n",
    "#df[\"track_popularity\"] = pd.to_numeric(df[\"track_popularity\"], errors=\"coerce\")"
   ]
  },
  {
   "cell_type": "code",
   "execution_count": 4,
   "id": "1cc81a49",
   "metadata": {},
   "outputs": [
    {
     "data": {
      "text/plain": [
       "<AxesSubplot:xlabel='track_popularity', ylabel='Count'>"
      ]
     },
     "execution_count": 4,
     "metadata": {},
     "output_type": "execute_result"
    },
    {
     "data": {
      "image/png": "[encoded data removed]",
      "text/plain": [
       "<Figure size 640x480 with 1 Axes>"
      ]
     },
     "metadata": {},
     "output_type": "display_data"
    }
   ],
   "source": [
    "sns.histplot(data=df, x=\"track_popularity\", bins=30)"
   ]
  },
  {
   "cell_type": "code",
   "execution_count": 5,
   "id": "57d36b32",
   "metadata": {},
   "outputs": [
    {
     "data": {
      "text/plain": [
       "<AxesSubplot:xlabel='track_popularity'>"
      ]
     },
     "execution_count": 5,
     "metadata": {},
     "output_type": "execute_result"
    },
    {
     "data": {
      "image/png": "[encoded data removed]",
      "text/plain": [
       "<Figure size 640x480 with 1 Axes>"
      ]
     },
     "metadata": {},
     "output_type": "display_data"
    }
   ],
   "source": [
    "sns.boxplot(data=df, x=\"track_popularity\")"
   ]
  },
  {
   "cell_type": "code",
   "execution_count": 6,
   "id": "3069ca84",
   "metadata": {},
   "outputs": [
    {
     "data": {
      "text/plain": [
       "{'Max': 100, 'Q3': 62.0, 'Median': 45.0, 'Q1': 62.0, 'Min': 0}"
      ]
     },
     "execution_count": 6,
     "metadata": {},
     "output_type": "execute_result"
    }
   ],
   "source": [
    "summary = {\n",
    "    \"Max\": df[\"track_popularity\"].max(),\n",
    "    \"Q3\": df[\"track_popularity\"].quantile(0.75),\n",
    "    \"Median\": df[\"track_popularity\"].median(),\n",
    "    \"Q1\": df[\"track_popularity\"].quantile(0.75),\n",
    "    \"Min\": df[\"track_popularity\"].min()\n",
    "}\n",
    "summary"
   ]
  },
  {
   "cell_type": "code",
   "execution_count": 7,
   "id": "9db00078",
   "metadata": {},
   "outputs": [],
   "source": [
    "#TEACHER EXAMPLE\n",
    "def avg (col):\n",
    "    average = col.mean()\n",
    "    return average    "
   ]
  },
  {
   "cell_type": "code",
   "execution_count": 8,
   "id": "bab71ba6",
   "metadata": {},
   "outputs": [
    {
     "data": {
      "text/plain": [
       "120.88113154448297"
      ]
     },
     "execution_count": 8,
     "metadata": {},
     "output_type": "execute_result"
    }
   ],
   "source": [
    "avg(df[\"tempo\"])"
   ]
  },
  {
   "cell_type": "code",
   "execution_count": 9,
   "id": "c4e16fc0",
   "metadata": {},
   "outputs": [
    {
     "data": {
      "text/plain": [
       "120.88113154448297"
      ]
     },
     "execution_count": 9,
     "metadata": {},
     "output_type": "execute_result"
    }
   ],
   "source": [
    "df[\"tempo\"].mean()"
   ]
  },
  {
   "cell_type": "code",
   "execution_count": 10,
   "id": "e21d64e8",
   "metadata": {},
   "outputs": [],
   "source": [
    "# This is the function to calculate mean/average"
   ]
  },
  {
   "cell_type": "code",
   "execution_count": 11,
   "id": "321f7b62",
   "metadata": {},
   "outputs": [],
   "source": [
    "def calcmean(dataframe, column_name):\n",
    "    if column_name in dataframe.columns:\n",
    "        mean_value = dataframe[column_name].mean()\n",
    "        return mean_value\n",
    "    "
   ]
  },
  {
   "cell_type": "code",
   "execution_count": 12,
   "id": "a02e419f",
   "metadata": {},
   "outputs": [
    {
     "data": {
      "text/plain": [
       "120.88113154448297"
      ]
     },
     "execution_count": 12,
     "metadata": {},
     "output_type": "execute_result"
    }
   ],
   "source": [
    "calcmean(df, \"tempo\")"
   ]
  },
  {
   "cell_type": "code",
   "execution_count": 13,
   "id": "917ea142",
   "metadata": {},
   "outputs": [
    {
     "data": {
      "text/plain": [
       "26.90362417188013"
      ]
     },
     "execution_count": 13,
     "metadata": {},
     "output_type": "execute_result"
    }
   ],
   "source": [
    "df[\"tempo\"].std()"
   ]
  },
  {
   "cell_type": "code",
   "execution_count": 14,
   "id": "66569d06",
   "metadata": {},
   "outputs": [],
   "source": [
    "def calcdev(dataframe, column_name):\n",
    "    if column_name in dataframe.columns:\n",
    "        dev_value = dataframe[column_name].std()\n",
    "        return dev_value"
   ]
  },
  {
   "cell_type": "code",
   "execution_count": 15,
   "id": "1f45131a",
   "metadata": {},
   "outputs": [],
   "source": [
    "calcdev(df, \"Danceabilty\")"
   ]
  },
  {
   "cell_type": "code",
   "execution_count": 16,
   "id": "41b8fb40",
   "metadata": {},
   "outputs": [],
   "source": [
    "#TEACHER LIVE"
   ]
  },
  {
   "cell_type": "code",
   "execution_count": 17,
   "id": "36012a9a",
   "metadata": {},
   "outputs": [
    {
     "data": {
      "text/plain": [
       "0.14508532044765107"
      ]
     },
     "execution_count": 17,
     "metadata": {},
     "output_type": "execute_result"
    }
   ],
   "source": [
    "def standard_deviation(column):\n",
    "    std = df[column].std()\n",
    "    return std\n",
    "standard_deviation(\"danceability\")"
   ]
  },
  {
   "cell_type": "code",
   "execution_count": 18,
   "id": "01851111",
   "metadata": {},
   "outputs": [
    {
     "data": {
      "text/plain": [
       "<AxesSubplot:xlabel='danceability', ylabel='Count'>"
      ]
     },
     "execution_count": 18,
     "metadata": {},
     "output_type": "execute_result"
    },
    {
     "data": {
      "image/png": "[encoded data removed]",
      "text/plain": [
       "<Figure size 640x480 with 1 Axes>"
      ]
     },
     "metadata": {},
     "output_type": "display_data"
    }
   ],
   "source": [
    "sns.histplot(data=df, x=\"danceability\", bins=50)"
   ]
  },
  {
   "cell_type": "code",
   "execution_count": 19,
   "id": "6ffb9503",
   "metadata": {},
   "outputs": [
    {
     "data": {
      "text/plain": [
       "0.6548495202996926"
      ]
     },
     "execution_count": 19,
     "metadata": {},
     "output_type": "execute_result"
    }
   ],
   "source": [
    "df[\"danceability\"].mean()"
   ]
  },
  {
   "cell_type": "code",
   "execution_count": 20,
   "id": "c089dd49",
   "metadata": {},
   "outputs": [],
   "source": [
    "def avg(column):\n",
    "    sum = 0 \n",
    "    for value in column:\n",
    "        sum += value\n",
    "    avg = sum /len(column)\n",
    "    return avg\n",
    "\n",
    "\n",
    "\n",
    "        "
   ]
  },
  {
   "cell_type": "code",
   "execution_count": 21,
   "id": "f6c10fab",
   "metadata": {},
   "outputs": [
    {
     "data": {
      "text/plain": [
       "120.88113154448297"
      ]
     },
     "execution_count": 21,
     "metadata": {},
     "output_type": "execute_result"
    }
   ],
   "source": [
    "avg(df[\"tempo\"])"
   ]
  },
  {
   "cell_type": "markdown",
   "id": "6f9d2ddb",
   "metadata": {},
   "source": [
    "#### It is some what impressive for it to have a popularity score of 100. "
   ]
  },
  {
   "cell_type": "code",
   "execution_count": 22,
   "id": "13e52eff",
   "metadata": {},
   "outputs": [
    {
     "data": {
      "text/html": [
       "<div>\n",
       "<style scoped>\n",
       "    .dataframe tbody tr th:only-of-type {\n",
       "        vertical-align: middle;\n",
       "    }\n",
       "\n",
       "    .dataframe tbody tr th {\n",
       "        vertical-align: top;\n",
       "    }\n",
       "\n",
       "    .dataframe thead th {\n",
       "        text-align: right;\n",
       "    }\n",
       "</style>\n",
       "<table border=\"1\" class=\"dataframe\">\n",
       "  <thead>\n",
       "    <tr style=\"text-align: right;\">\n",
       "      <th></th>\n",
       "      <th>track_id</th>\n",
       "      <th>track_name</th>\n",
       "      <th>track_artist</th>\n",
       "      <th>track_popularity</th>\n",
       "      <th>track_album_id</th>\n",
       "      <th>track_album_name</th>\n",
       "      <th>track_album_release_date</th>\n",
       "      <th>playlist_name</th>\n",
       "      <th>playlist_id</th>\n",
       "      <th>playlist_genre</th>\n",
       "      <th>...</th>\n",
       "      <th>key</th>\n",
       "      <th>loudness</th>\n",
       "      <th>mode</th>\n",
       "      <th>speechiness</th>\n",
       "      <th>acousticness</th>\n",
       "      <th>instrumentalness</th>\n",
       "      <th>liveness</th>\n",
       "      <th>valence</th>\n",
       "      <th>tempo</th>\n",
       "      <th>duration_ms</th>\n",
       "    </tr>\n",
       "  </thead>\n",
       "  <tbody>\n",
       "    <tr>\n",
       "      <th>1551</th>\n",
       "      <td>2XU0oxnq2qxCpomAAuJY8K</td>\n",
       "      <td>Dance Monkey</td>\n",
       "      <td>Tones and I</td>\n",
       "      <td>100</td>\n",
       "      <td>0UywfDKYlyiu1b38DRrzYD</td>\n",
       "      <td>Dance Monkey (Stripped Back) / Dance Monkey</td>\n",
       "      <td>2019-10-17</td>\n",
       "      <td>post-teen alternative, indie, pop (large variety)</td>\n",
       "      <td>1y42gwI5cuwjBslPyQNfqb</td>\n",
       "      <td>pop</td>\n",
       "      <td>...</td>\n",
       "      <td>6</td>\n",
       "      <td>-6.4</td>\n",
       "      <td>0</td>\n",
       "      <td>0.0924</td>\n",
       "      <td>0.692</td>\n",
       "      <td>0.000104</td>\n",
       "      <td>0.149</td>\n",
       "      <td>0.513</td>\n",
       "      <td>98.027</td>\n",
       "      <td>209438</td>\n",
       "    </tr>\n",
       "    <tr>\n",
       "      <th>20091</th>\n",
       "      <td>2XU0oxnq2qxCpomAAuJY8K</td>\n",
       "      <td>Dance Monkey</td>\n",
       "      <td>Tones and I</td>\n",
       "      <td>100</td>\n",
       "      <td>0UywfDKYlyiu1b38DRrzYD</td>\n",
       "      <td>Dance Monkey (Stripped Back) / Dance Monkey</td>\n",
       "      <td>2019-10-17</td>\n",
       "      <td>Global Top 50 | 2020 Hits</td>\n",
       "      <td>1KNl4AYfgZtOVm9KHkhPTF</td>\n",
       "      <td>latin</td>\n",
       "      <td>...</td>\n",
       "      <td>6</td>\n",
       "      <td>-6.4</td>\n",
       "      <td>0</td>\n",
       "      <td>0.0924</td>\n",
       "      <td>0.692</td>\n",
       "      <td>0.000104</td>\n",
       "      <td>0.149</td>\n",
       "      <td>0.513</td>\n",
       "      <td>98.027</td>\n",
       "      <td>209438</td>\n",
       "    </tr>\n",
       "  </tbody>\n",
       "</table>\n",
       "<p>2 rows × 23 columns</p>\n",
       "</div>"
      ],
      "text/plain": [
       "                     track_id    track_name track_artist  track_popularity  \\\n",
       "1551   2XU0oxnq2qxCpomAAuJY8K  Dance Monkey  Tones and I               100   \n",
       "20091  2XU0oxnq2qxCpomAAuJY8K  Dance Monkey  Tones and I               100   \n",
       "\n",
       "               track_album_id                             track_album_name  \\\n",
       "1551   0UywfDKYlyiu1b38DRrzYD  Dance Monkey (Stripped Back) / Dance Monkey   \n",
       "20091  0UywfDKYlyiu1b38DRrzYD  Dance Monkey (Stripped Back) / Dance Monkey   \n",
       "\n",
       "      track_album_release_date  \\\n",
       "1551                2019-10-17   \n",
       "20091               2019-10-17   \n",
       "\n",
       "                                           playlist_name  \\\n",
       "1551   post-teen alternative, indie, pop (large variety)   \n",
       "20091                          Global Top 50 | 2020 Hits   \n",
       "\n",
       "                  playlist_id playlist_genre  ... key  loudness  mode  \\\n",
       "1551   1y42gwI5cuwjBslPyQNfqb            pop  ...   6      -6.4     0   \n",
       "20091  1KNl4AYfgZtOVm9KHkhPTF          latin  ...   6      -6.4     0   \n",
       "\n",
       "       speechiness  acousticness  instrumentalness  liveness  valence   tempo  \\\n",
       "1551        0.0924         0.692          0.000104     0.149    0.513  98.027   \n",
       "20091       0.0924         0.692          0.000104     0.149    0.513  98.027   \n",
       "\n",
       "       duration_ms  \n",
       "1551        209438  \n",
       "20091       209438  \n",
       "\n",
       "[2 rows x 23 columns]"
      ]
     },
     "execution_count": 22,
     "metadata": {},
     "output_type": "execute_result"
    }
   ],
   "source": [
    "df[df[\"track_popularity\"] == 100]"
   ]
  },
  {
   "cell_type": "code",
   "execution_count": 23,
   "id": "c97580b2",
   "metadata": {},
   "outputs": [
    {
     "data": {
      "text/plain": [
       "42.477080985593766"
      ]
     },
     "execution_count": 23,
     "metadata": {},
     "output_type": "execute_result"
    }
   ],
   "source": [
    "calcmean(df, \"track_popularity\")"
   ]
  },
  {
   "cell_type": "code",
   "execution_count": 24,
   "id": "b67f3db5",
   "metadata": {},
   "outputs": [
    {
     "data": {
      "text/plain": [
       "24.984074486186543"
      ]
     },
     "execution_count": 24,
     "metadata": {},
     "output_type": "execute_result"
    }
   ],
   "source": [
    "standard_deviation(\"track_popularity\")"
   ]
  },
  {
   "cell_type": "code",
   "execution_count": 25,
   "id": "50fd3535",
   "metadata": {},
   "outputs": [
    {
     "data": {
      "text/plain": [
       "<AxesSubplot:xlabel='loudness', ylabel='Count'>"
      ]
     },
     "execution_count": 25,
     "metadata": {},
     "output_type": "execute_result"
    },
    {
     "data": {
      "image/png": "[encoded data removed]",
      "text/plain": [
       "<Figure size 640x480 with 1 Axes>"
      ]
     },
     "metadata": {},
     "output_type": "display_data"
    }
   ],
   "source": [
    "sns.histplot(data= df, x=\"loudness\", bins=50)"
   ]
  },
  {
   "cell_type": "markdown",
   "id": "8b35f602",
   "metadata": {},
   "source": [
    "### Pear deck question\n",
    "##### What values fall under the first and second deviation for the \"energy\" column?\n",
    "\n",
    "#### This wouldn't be really effective since the graph is scewed to the left, but we'll try either way. Within the first deviation, the values are from 0.517709 energy to 0.879529 energy, this was with a mean of 0.6986 energy. Within the second deviation, the values range from 0.361820 energy to 1.7, but that doesn't work out since the max is 1.0 energy."
   ]
  },
  {
   "cell_type": "code",
   "execution_count": 26,
   "id": "bf35b1bb",
   "metadata": {
    "scrolled": false
   },
   "outputs": [
    {
     "data": {
      "text/plain": [
       "<AxesSubplot:xlabel='energy', ylabel='Count'>"
      ]
     },
     "execution_count": 26,
     "metadata": {},
     "output_type": "execute_result"
    },
    {
     "data": {
      "image/png": "[encoded data removed]",
      "text/plain": [
       "<Figure size 640x480 with 1 Axes>"
      ]
     },
     "metadata": {},
     "output_type": "display_data"
    }
   ],
   "source": [
    "sns.histplot(data= df, x= \"energy\", bins = 50)"
   ]
  },
  {
   "cell_type": "code",
   "execution_count": 27,
   "id": "1a8adf31",
   "metadata": {},
   "outputs": [
    {
     "data": {
      "text/plain": [
       "0.18091003391959035"
      ]
     },
     "execution_count": 27,
     "metadata": {},
     "output_type": "execute_result"
    }
   ],
   "source": [
    "standard_deviation(\"energy\")"
   ]
  },
  {
   "cell_type": "code",
   "execution_count": 28,
   "id": "99e88741",
   "metadata": {},
   "outputs": [
    {
     "data": {
      "text/plain": [
       "0.6986192707032606"
      ]
     },
     "execution_count": 28,
     "metadata": {},
     "output_type": "execute_result"
    }
   ],
   "source": [
    "df[\"energy\"].mean()"
   ]
  },
  {
   "cell_type": "code",
   "execution_count": 29,
   "id": "f9ff0e60",
   "metadata": {},
   "outputs": [
    {
     "data": {
      "text/plain": [
       "0.879529304622851"
      ]
     },
     "execution_count": 29,
     "metadata": {},
     "output_type": "execute_result"
    }
   ],
   "source": [
    "df[\"energy\"].mean() + standard_deviation(\"energy\")"
   ]
  },
  {
   "cell_type": "code",
   "execution_count": 30,
   "id": "8b5e513e",
   "metadata": {},
   "outputs": [
    {
     "data": {
      "text/plain": [
       "0.5177092367836702"
      ]
     },
     "execution_count": 30,
     "metadata": {},
     "output_type": "execute_result"
    }
   ],
   "source": [
    "df[\"energy\"].mean() - standard_deviation(\"energy\")"
   ]
  },
  {
   "cell_type": "code",
   "execution_count": 31,
   "id": "4af6e392",
   "metadata": {},
   "outputs": [
    {
     "data": {
      "text/plain": [
       "1.0604393385424413"
      ]
     },
     "execution_count": 31,
     "metadata": {},
     "output_type": "execute_result"
    }
   ],
   "source": [
    "df[\"energy\"].mean() + 2 * standard_deviation(\"energy\")"
   ]
  },
  {
   "cell_type": "code",
   "execution_count": 32,
   "id": "75fbd7c9",
   "metadata": {},
   "outputs": [
    {
     "data": {
      "text/plain": [
       "1.759058609245702"
      ]
     },
     "execution_count": 32,
     "metadata": {},
     "output_type": "execute_result"
    }
   ],
   "source": [
    "df[\"energy\"].mean() + df[\"energy\"].mean() + 2 * standard_deviation(\"energy\")"
   ]
  },
  {
   "cell_type": "code",
   "execution_count": 33,
   "id": "faa8d486",
   "metadata": {},
   "outputs": [
    {
     "data": {
      "text/plain": [
       "0.3618200678391807"
      ]
     },
     "execution_count": 33,
     "metadata": {},
     "output_type": "execute_result"
    }
   ],
   "source": [
    "df[\"energy\"].mean() - df[\"energy\"].mean() + 2 * standard_deviation(\"energy\")"
   ]
  },
  {
   "cell_type": "code",
   "execution_count": 34,
   "id": "01239b6d",
   "metadata": {},
   "outputs": [
    {
     "data": {
      "text/plain": [
       "1.0"
      ]
     },
     "execution_count": 34,
     "metadata": {},
     "output_type": "execute_result"
    }
   ],
   "source": [
    "df[\"energy\"].max()"
   ]
  },
  {
   "cell_type": "code",
   "execution_count": null,
   "id": "2906f4fc",
   "metadata": {},
   "outputs": [],
   "source": []
  },
  {
   "cell_type": "code",
   "execution_count": 35,
   "id": "06af9467",
   "metadata": {},
   "outputs": [
    {
     "ename": "SyntaxError",
     "evalue": "invalid syntax (1235331270.py, line 1)",
     "output_type": "error",
     "traceback": [
      "\u001b[1;36m  File \u001b[1;32m\"C:\\Users\\igarcialopez\\AppData\\Local\\Temp\\ipykernel_17784\\1235331270.py\"\u001b[1;36m, line \u001b[1;32m1\u001b[0m\n\u001b[1;33m    for\u001b[0m\n\u001b[1;37m        ^\u001b[0m\n\u001b[1;31mSyntaxError\u001b[0m\u001b[1;31m:\u001b[0m invalid syntax\n"
     ]
    }
   ],
   "source": [
    "for "
   ]
  },
  {
   "cell_type": "code",
   "execution_count": null,
   "id": "81d0b82a",
   "metadata": {},
   "outputs": [],
   "source": [
    "sns.histplot(data=df, x=\"speechiness\")"
   ]
  },
  {
   "cell_type": "markdown",
   "id": "3240181a",
   "metadata": {},
   "source": [
    "#### Teacher Live"
   ]
  },
  {
   "cell_type": "code",
   "execution_count": null,
   "id": "7a9e369c",
   "metadata": {},
   "outputs": [],
   "source": [
    "df_pop = df[df[\"playlist_genre\"] == \"pop\"]\n",
    "df_rap = df[df[\"playlist_genre\"] == \"rap\"]"
   ]
  },
  {
   "cell_type": "code",
   "execution_count": null,
   "id": "0fe8a357",
   "metadata": {},
   "outputs": [],
   "source": [
    "sns.histplot(data=df_pop, x=\"speechiness\", bins= 50, color=\"purple\")\n",
    "sns.histplot(data=df_rap, x=\"speechiness\", bins= 50, color=\"yellow\")"
   ]
  },
  {
   "cell_type": "code",
   "execution_count": null,
   "id": "42d3221b",
   "metadata": {},
   "outputs": [],
   "source": [
    "pop_mean = df_pop[\"speechiness\"].mean()\n",
    "rap_mean = df_rap[\"speechiness\"].mean()\n",
    "print(\"Pop: \", pop_mean, \"Rap: \", rap_mean)"
   ]
  },
  {
   "cell_type": "markdown",
   "id": "b512d335",
   "metadata": {},
   "source": [
    "## On average, rap music is more speechy than pop music. More specificaly, the average speechiness score of rap music is 0.1975 and the average speechiness score of pop music is 0.07399."
   ]
  },
  {
   "cell_type": "code",
   "execution_count": null,
   "id": "7d01d487",
   "metadata": {},
   "outputs": [],
   "source": []
  },
  {
   "cell_type": "code",
   "execution_count": null,
   "id": "212bb4e4",
   "metadata": {},
   "outputs": [],
   "source": []
  },
  {
   "cell_type": "code",
   "execution_count": null,
   "id": "e6c46f71",
   "metadata": {},
   "outputs": [],
   "source": []
  }
 ],
 "metadata": {
  "kernelspec": {
   "display_name": "Python 3 (ipykernel)",
   "language": "python",
   "name": "python3"
  },
  "language_info": {
   "codemirror_mode": {
    "name": "ipython",
    "version": 3
   },
   "file_extension": ".py",
   "mimetype": "text/x-python",
   "name": "python",
   "nbconvert_exporter": "python",
   "pygments_lexer": "ipython3",
   "version": "3.9.13"
  }
 },
 "nbformat": 4,
 "nbformat_minor": 5
}
